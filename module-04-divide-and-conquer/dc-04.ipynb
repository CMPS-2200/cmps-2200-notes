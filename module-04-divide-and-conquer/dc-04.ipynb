{
 "cells": [
  {
   "cell_type": "code",
   "execution_count": 3,
   "metadata": {
    "code_folding": [],
    "slideshow": {
     "slide_type": "skip"
    }
   },
   "outputs": [
    {
     "data": {
      "text/html": [
       "<style>.prompt{width: 0px; min-width: 0px; visibility: collapse}</style>"
      ],
      "text/plain": [
       "<IPython.core.display.HTML object>"
      ]
     },
     "metadata": {},
     "output_type": "display_data"
    },
    {
     "data": {
      "text/html": [
       "<style>\n",
       "div#notebook {\n",
       " font-family: \"Exo_2\", sans-serif;\n",
       "}\n",
       "\n",
       ".rendered_html h1,\n",
       ".text_cell_render h1 {\n",
       " color: #126dce;\n",
       " font-size: 220%;\n",
       " text-align: center;\n",
       " font-weight: lighter;\n",
       "}\n",
       ".rendered_html h2,\n",
       ".text_cell_render h2 {\n",
       " text-align: center;\n",
       " font-size: 170%;\n",
       " color: #126dce;\n",
       " font-style: normal;\n",
       " font-weight: lighter;\n",
       "}\n",
       ".rendered_html h3,\n",
       ".text_cell_render h3 {\n",
       " font-size: 150%;\n",
       " color: #126dce;\n",
       " font-weight: lighter;\n",
       " text-decoration: italic;\n",
       " font-style: normal;\n",
       "}\n",
       ".rendered_html h4,\n",
       ".text_cell_render h4 {\n",
       " font-size: 120%;\n",
       " color: #126dce;\n",
       " font-weight: underline;\n",
       " font-style: normal;\n",
       "}\n",
       ".rendered_html h5,\n",
       ".text_cell_render h5 {\n",
       " font-size: 100%;\n",
       " color: #2f2f2f;\n",
       " font-weight: lighter;\n",
       " text-decoration: underline;\n",
       "}\n",
       "</style>\n"
      ],
      "text/plain": [
       "<IPython.core.display.HTML object>"
      ]
     },
     "metadata": {},
     "output_type": "display_data"
    }
   ],
   "source": [
    "# setup\n",
    "from IPython.core.display import display,HTML\n",
    "display(HTML('<style>.prompt{width: 0px; min-width: 0px; visibility: collapse}</style>'))\n",
    "display(HTML(open('rise.css').read()))\n",
    "\n",
    "# imports\n",
    "import numpy as np\n",
    "import matplotlib.pyplot as plt\n",
    "import seaborn as sns\n",
    "%matplotlib inline\n",
    "sns.set(style=\"whitegrid\", font_scale=1.5, rc={'figure.figsize':(12, 6)})\n"
   ]
  },
  {
   "cell_type": "markdown",
   "metadata": {
    "slideshow": {
     "slide_type": "slide"
    }
   },
   "source": [
    "# CMPS 2200\n",
    "# Introduction to Algorithms\n",
    "\n",
    "## Midterm Review\n"
   ]
  },
  {
   "cell_type": "markdown",
   "metadata": {
    "slideshow": {
     "slide_type": "slide"
    }
   },
   "source": [
    "# Module 1: Model of Computation and Asymptotic Notation\n",
    "\n",
    "### Lecture Topics:\n",
    "\n",
    "- Asymptotic Notation ($O, \\Omega, o, \\omega$)\n",
    "\n",
    "- Work, Span, Speedup, Amdahl's Law\n",
    "\n",
    "- Functional languages and SPARC\n",
    "\n",
    "- Computational costs, Parallelism, Work Efficiency, Scheduling\n",
    "\n",
    "### Homework 1\n",
    "\n",
    "- Asymptotic analysis \n",
    "- SPARC to Python and back\n",
    "- Longest run (a divide-and-conquer algorithm, actually)\n",
    "\n",
    "### Lab 1\n",
    "\n",
    "- Comparison of the empirical performance linear and binary search.\n",
    "\n",
    "### Lab 2\n",
    "\n",
    "- Calculating the values of recurrences\n",
    "\n",
    "### Key concepts\n",
    "\n",
    "- Our model of computation \n",
    "\n",
    "- SPARC expressions and functional programming\n",
    "\n",
    "- Asymptotic upper and lower bounds\n"
   ]
  },
  {
   "cell_type": "markdown",
   "metadata": {},
   "source": [
    "# Module 2: Recurrences\n",
    "\n",
    "### Lecture Topics:\n",
    "\n",
    "- Why do we care about recurrences?\n",
    "\n",
    "- Tree Method\n",
    "\n",
    "- Brick Method\n",
    "\n",
    "- Example: Integer Multiplication\n",
    "\n",
    "### Homework 2\n",
    "\n",
    "- More recurrences using the brick method.\n",
    "\n",
    "- Comparing the asymptotic performance (work, actually) of 3 algorithms\n",
    "\n",
    "- Implement Karatsaba-Ofman\n",
    "\n",
    "### Lab 3\n",
    "\n",
    "- Practice the tree method and the brick method.\n",
    "\n",
    "### Lab 4\n",
    "\n",
    "- `map` and `reduce` for word occurrences and sentiment analysis\n",
    "\n",
    "## Key concepts\n",
    "\n",
    "- How recurrences capture the behavior or recursive algorithms\n",
    "\n",
    "- Computation graph and recursion trees\n",
    "\n",
    "- Application of the tree and brick methods"
   ]
  },
  {
   "cell_type": "markdown",
   "metadata": {},
   "source": [
    "# Module 3: Sequences\n",
    "\n",
    "### Lecture Topics:\n",
    "\n",
    "- Abstract Data Types\n",
    "\n",
    "- Operations on sequences\n",
    "\n",
    "- Reduce and Iterate\n",
    "\n",
    "- `scan` (using contraction)\n",
    "\n",
    "# Module 4: Divide-and-Conquer\n",
    "\n",
    "### Lecture Topics:\n",
    "\n",
    "- Reductions, Search Spaces and Brute-Force\n",
    "\n",
    "- Divide and Conquer Framework\n",
    "    - Correctness using induction\n",
    "    - Running time using recurrences\n",
    "    \n",
    "- Examples:\n",
    "    - MergeSort\n",
    "    - Karatsaba-Ofman\n",
    "    - `reduce`\n",
    "    - `scan`\n",
    "    - eTSP\n",
    "    - MCSS\n",
    "\n",
    "### Homework 3\n",
    "\n",
    "- Finding an element in an unsorted list using Divide and Conquer\n",
    "\n",
    "- Parenthesis matching\n",
    "\n",
    "### Lab 5\n",
    "\n",
    "- Count Sort\n",
    "\n",
    "## Key concepts\n",
    "\n",
    "- Parallelization on sequence operations\n",
    "\n",
    "- Applying sequence operations to solve problems (e.g., `reduce` `scan`)\n",
    "\n",
    "- Brute force search\n",
    "\n",
    "- Reductions \n",
    "\n",
    "- Proving correctness and running time of divide and conquer algorithms\n"
   ]
  },
  {
   "cell_type": "markdown",
   "metadata": {},
   "source": []
  }
 ],
 "metadata": {
  "celltoolbar": "Slideshow",
  "kernelspec": {
   "display_name": "Python 3",
   "language": "python",
   "name": "python3"
  },
  "language_info": {
   "codemirror_mode": {
    "name": "ipython",
    "version": 3
   },
   "file_extension": ".py",
   "mimetype": "text/x-python",
   "name": "python",
   "nbconvert_exporter": "python",
   "pygments_lexer": "ipython3",
   "version": "3.6.5"
  },
  "rise": {
   "autolaunch": true,
   "controls": false,
   "enable_chalkboard": true,
   "scroll": true,
   "theme": "simple",
   "transition": "fade"
  },
  "toc": {
   "base_numbering": 1,
   "nav_menu": {},
   "number_sections": true,
   "sideBar": true,
   "skip_h1_title": true,
   "title_cell": "Table of Contents",
   "title_sidebar": "Contents",
   "toc_cell": true,
   "toc_position": {},
   "toc_section_display": true,
   "toc_window_display": false
  }
 },
 "nbformat": 4,
 "nbformat_minor": 4
}
