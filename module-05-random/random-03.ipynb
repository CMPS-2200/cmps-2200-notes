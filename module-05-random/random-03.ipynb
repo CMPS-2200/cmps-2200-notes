{
 "cells": [
  {
   "cell_type": "code",
   "execution_count": 1,
   "metadata": {
    "code_folding": [],
    "slideshow": {
     "slide_type": "skip"
    }
   },
   "outputs": [
    {
     "data": {
      "text/html": [
       "<style>.prompt{width: 0px; min-width: 0px; visibility: collapse}</style>"
      ],
      "text/plain": [
       "<IPython.core.display.HTML object>"
      ]
     },
     "metadata": {},
     "output_type": "display_data"
    },
    {
     "data": {
      "text/html": [
       "<style>\n",
       "div#notebook {\n",
       " font-family: \"Exo_2\", sans-serif;\n",
       "}\n",
       "\n",
       ".rendered_html h1,\n",
       ".text_cell_render h1 {\n",
       " color: #126dce;\n",
       " font-size: 220%;\n",
       " text-align: center;\n",
       " font-weight: lighter;\n",
       "}\n",
       ".rendered_html h2,\n",
       ".text_cell_render h2 {\n",
       " text-align: center;\n",
       " font-size: 170%;\n",
       " color: #126dce;\n",
       " font-style: normal;\n",
       " font-weight: lighter;\n",
       "}\n",
       ".rendered_html h3,\n",
       ".text_cell_render h3 {\n",
       " font-size: 150%;\n",
       " color: #126dce;\n",
       " font-weight: lighter;\n",
       " text-decoration: italic;\n",
       " font-style: normal;\n",
       "}\n",
       ".rendered_html h4,\n",
       ".text_cell_render h4 {\n",
       " font-size: 120%;\n",
       " color: #126dce;\n",
       " font-weight: underline;\n",
       " font-style: normal;\n",
       "}\n",
       ".rendered_html h5,\n",
       ".text_cell_render h5 {\n",
       " font-size: 100%;\n",
       " color: #2f2f2f;\n",
       " font-weight: lighter;\n",
       " text-decoration: underline;\n",
       "}\n",
       "</style>\n"
      ],
      "text/plain": [
       "<IPython.core.display.HTML object>"
      ]
     },
     "metadata": {},
     "output_type": "display_data"
    }
   ],
   "source": [
    "# setup\n",
    "from IPython.core.display import display,HTML\n",
    "display(HTML('<style>.prompt{width: 0px; min-width: 0px; visibility: collapse}</style>'))\n",
    "display(HTML(open('rise.css').read()))\n",
    "\n",
    "# imports\n",
    "import numpy as np\n",
    "import matplotlib.pyplot as plt\n",
    "import seaborn as sns\n",
    "%matplotlib inline\n",
    "sns.set(style=\"whitegrid\", font_scale=1.5, rc={'figure.figsize':(12, 6)})\n"
   ]
  },
  {
   "cell_type": "markdown",
   "metadata": {
    "slideshow": {
     "slide_type": "slide"
    }
   },
   "source": [
    "# CMPS 2200\n",
    "# Introduction to Algorithms\n",
    "\n",
    "## Quicksort\n"
   ]
  },
  {
   "cell_type": "markdown",
   "metadata": {
    "slideshow": {
     "slide_type": "slide"
    }
   },
   "source": [
    "Today's agenda:\n",
    "\n",
    "- Quicksort"
   ]
  },
  {
   "cell_type": "markdown",
   "metadata": {
    "slideshow": {
     "slide_type": "slide"
    }
   },
   "source": [
    "We saw how the problem of selection could be solved with a randomized algorithm. The key was to choose a random element and then partition the list into two parts. \n",
    "\n",
    "What if we recursively sorted these two parts?\n",
    "\n",
    "Let $a=\\langle 2, 5, 4, 1, 3, -1, 99\\rangle.$ Suppose we chose 4 as the pivot. Then the two parts of the list are $\\ell=\\langle 2, 1, 3, -1\\rangle$ and $r=\\langle 5, 99\\rangle$. In sorted order they are $\\ell'=\\langle -1, 1, 2, 3\\rangle$ and $r'=\\langle 5, 99\\rangle$.\n",
    "\n",
    "So all we have to do is append $l'$, the pivot and $r'$!\n",
    "\n",
    "This suggests a divide-and-conquer algorithm, but with similar characteristics as our algorithm for selection. "
   ]
  },
  {
   "cell_type": "markdown",
   "metadata": {
    "slideshow": {
     "slide_type": "slide"
    }
   },
   "source": [
    "This sorting algorithm is actually called *Quicksort* (invented in 1959 by C. A. R. Hoare). \n",
    "\n",
    "$$\\begin{array}{ll}  \n",
    "\\mathit{quicksort}~a =  \\\\  \n",
    "~~~~\\texttt{if}~|a| = 0~\\texttt{then}~a  \\\\  \n",
    "~~~~\\texttt{else}   \\\\  \n",
    "~~~~~~~~\\texttt{let}  \\\\  \n",
    "~~~~~~~~~~~~p = \\texttt{pick a random pivot from}~a  \\\\  \n",
    "~~~~~~~~~~~~    a_1 = \\left\\langle\\, x \\in a \\;|\\; x < p \\,\\right\\rangle  \\\\  \n",
    "~~~~~~~~~~~~    a_2 = \\left\\langle\\, x \\in a \\;|\\; x = p \\,\\right\\rangle  \\\\  \n",
    "~~~~~~~~~~~~    a_3 = \\left\\langle\\, x \\in a \\;|\\; x > p \\,\\right\\rangle  \\\\  \n",
    "~~~~~~~~~~~~    (s_1,s_3) = (\\mathit{quicksort}~a_1)~\\mid\\mid{}~(\\mathit{quicksort}~a_3)  \\\\  \n",
    "~~~~~~~~   \\texttt{in}  \\\\  \n",
    "~~~~~~~~~~~~    s_1 \\texttt{++}{} a_2 \\texttt{++}{} s_3  \\\\  \n",
    "~~~~~~~~  \\texttt{end}  \n",
    "\\end{array}\n",
    "$$\n"
   ]
  },
  {
   "cell_type": "markdown",
   "metadata": {
    "slideshow": {
     "slide_type": "slide"
    }
   },
   "source": [
    "In terms of parallelism, we can partition in parallel as before and sort the two parts of the list in parallel.\n",
    "\n",
    "## Analysis\n",
    "\n",
    "How should we analyze the work of quicksort?\n",
    "\n",
    "We'll take a slightly different approach than for selection to estimate the expected work. To account for work, we'll look at the total amount of expected work. \n",
    "\n",
    "First, an assumption to streamline our analysis:\n",
    "\n",
    "> We will \"simulate\" randomess using priorities: before the start of the algorithm, we assign each key a priority uniformly at random from the real interval $[0, 1]$ such that each key has a unique priority. The algorithm then picks the pivot by selecting the key with the highest priority."
   ]
  },
  {
   "cell_type": "markdown",
   "metadata": {},
   "source": [
    "Let the random variable $Y(n)$ be the number of comparisons made by Quicksort on an input of size $n$. Note that the work is $O(Y(n))$, since there is $O(1)$ work done by non-comparisons (i.e., choosing pivots, concatenation of lists).\n",
    "\n",
    "What we want to know is ultimately how many comparisons are made by quick sort."
   ]
  },
  {
   "cell_type": "markdown",
   "metadata": {},
   "source": [
    "Let $X_{ij}$ be an indicator random variable that is 1 if $t_i$ and $t_j$ are ever compared and 0 otherwise. So we have that $Y(n) = \\sum_i \\sum_j X_{ij}$ and so this means that:\n",
    "\n",
    "$$ \\mathbf{E}\\left[Y(n)\\right] = \\mathbf{E}\\left[\\sum_i \\sum_j X_{ij}\\right] = \\sum_i \\sum_j \\mathbf{E}\\left[X_{ij}\\right] $$\n",
    "\n",
    "We saw that $\\mathbf{E}[X_{ij}] = \\mathbf{P}[X_{ij} = 1]$. So when are a pair of elements $t_i$ and $t_j$ compared?"
   ]
  },
  {
   "cell_type": "markdown",
   "metadata": {
    "slideshow": {
     "slide_type": "fragment"
    }
   },
   "source": [
    "It's useful to consider the sorted version of $a$, indexed as $t_0, t_1, \\ldots, t_{n-1}$. \n",
    "\n",
    "\n",
    "\n",
    "<img src=\"qsort.png\" alt=\"quick sort\" width=\"50%\"/>\n",
    "\n",
    "e.g.\n",
    "\n",
    "\n",
    "$\n",
    "a = [1,~~~~\\mathbf{2},~~~~5,~~~~6,~~~~9,~~~\\mathbf{10},~~~~12] \\\\\n",
    "p = [0.3, ~0.2, ~0.7, ~0.8, ~0.4, ~0.1, ~0.5]\n",
    "$\n",
    "\n",
    "\n",
    "<br>\n",
    "\n",
    "If any element *between* $t_i$ and $t_j$ in the sorted order is chosen as a pivot *before* $t_i$ or $t_j$, then they will never be compared. \n",
    "\n",
    "In Quicksort, two elements $t_i$ and $t_j$ are only ever compared if one of them is a pivot **and** if it has the highest priority in the sequence of elements $t_i$ to $t_j$.\n",
    "\n",
    "Since the pivot is chosen randomly, the probability that either $t_i$ or $t_j$ has the highest probability in the range of elements from $t_i$ to $t_j$ is:\n",
    "\n",
    "$$ \\mathbf{P}[X_{ij}] = \\frac{2}{j - i + 1}. $$\n",
    "\n",
    "$j - i +1$ is the number of elements between $t_i$ and $t_j$ inlcuding $t_i$ and $t_j$.\n",
    "\n",
    "<br>\n",
    "\n",
    "This gives us\n",
    "\n",
    "$$\\begin{align}\n",
    "\\mathbf{E}\\left[{Y(n)}\\right] &\\leq \\sum_{i=0}^{n-1} \\sum_{j=i+1}^{n} \\mathbf{E}\\left[{X_{ij}}\\right] \\\\\n",
    "&=  \\sum_{i=0}^{n-1}  \\sum_{j=i+1}^{n} \\frac{2}{j-i+1} \\\\\n",
    "&=  \\sum_{i=0}^{n-1}  \\sum_{k=1}^{n-i} \\frac{2}{k+1} \\\\\n",
    "&=  \\sum_{i=0}^{n-1}  \\sum_{k=1}^{n} \\frac{2}{k} \\\\\n",
    "&\\leq  2 \\sum_{i=0}^{n-1}  \\ln n      ~~~~~~~~~ \\hbox{Harmonic series:} \\sum_{k=1}^n \\frac{1}{k} < \\ln n \\\\ \n",
    "&=  O(n\\lg n)\n",
    "\\end{align}$$\n",
    "\n",
    "Analyzing the span of Quicksort can be done in the same way as we did for selection. That is, if we have a guarantee that at level $d$ of recursion that the larger of the two lists is $(3/4)^d n$, then we can show that the span at each level is $O(\\log n)$ (expected). Using the same approach as for selection we can show that the total span is $O(\\log^2 n)$ with high probability."
   ]
  },
  {
   "cell_type": "markdown",
   "metadata": {
    "slideshow": {
     "slide_type": "slide"
    }
   },
   "source": [
    "## The Monty Hall Problem\n",
    "\n",
    "<img width=\"60%\" src=\"Monty_Hall.png\"/>\n",
    "\n",
    "Suppose you're on a game show, and you're given the choice of three doors: Behind one door is a car; behind the others, goats. You pick a door, say No. 1, and the host, who knows what's behind the doors, opens another door, say No. 3, which has a goat. He then says to you, \"Do you want to pick door No. 2?\" \n",
    "\n",
    "Is it to your advantage to switch your choice?\n",
    "\n",
    "Why or why not?\n",
    "\n",
    "This [puzzle](https://en.wikipedia.org/wiki/Monty_Hall_problem) is based on the game show *Let's Make a Deal* and named after the host Monty Hall."
   ]
  },
  {
   "cell_type": "markdown",
   "metadata": {
    "slideshow": {
     "slide_type": "slide"
    }
   },
   "source": [
    "\n",
    "<img width=\"60%\" src=\"Monty_Hall_standard_probs.png\"/>\n",
    "\n",
    "So the probability of winning by switching is 2/3, while the probability of keeping yoour choice and winning is 1/3. "
   ]
  },
  {
   "cell_type": "markdown",
   "metadata": {
    "slideshow": {
     "slide_type": "slide"
    }
   },
   "source": [
    "<img width=\"60%\" src=\"Monty_closed_door.png\"/>\n",
    "\n",
    "Suppose you pick Door 1. With the doors closed, there is a 1/3 probability of winning the car.\n",
    "\n",
    "<img width=\"60%\" src=\"Monty_open_door.png\"/>\n",
    "\n",
    "With one door open, the odds of that door being winning go to 0 and the odds of Door 2 being winning go to 2/3.\n",
    "\n",
    "In [her column titled \"Ask Marilyn\"](https://en.wikipedia.org/wiki/Marilyn_vos_Savant#The_Monty_Hall_problem),  [Marilyn vos Savant](https://en.wikipedia.org/wiki/Marilyn_vos_Savant) suggested that it's useful to think of having 1,000,000 doors. You make a choice, and the host opens 999,998 doors. Should you switch?"
   ]
  },
  {
   "cell_type": "markdown",
   "metadata": {
    "slideshow": {
     "slide_type": "slide"
    }
   },
   "source": [
    "<img width=\"60%\" src=\"Monty_Little_green_alien.png\"/>\n",
    "\n",
    "In this arrangement, we flip a coin after the goat is revealed and have even odds of winning. One way to think about this is that we're just ignoring the information that is given."
   ]
  }
 ],
 "metadata": {
  "celltoolbar": "Slideshow",
  "kernelspec": {
   "display_name": "Python 3.9.6 64-bit",
   "language": "python",
   "name": "python3"
  },
  "language_info": {
   "codemirror_mode": {
    "name": "ipython",
    "version": 3
   },
   "file_extension": ".py",
   "mimetype": "text/x-python",
   "name": "python",
   "nbconvert_exporter": "python",
   "pygments_lexer": "ipython3",
   "version": "3.9.6"
  },
  "rise": {
   "autolaunch": true,
   "controls": false,
   "enable_chalkboard": true,
   "scroll": true,
   "theme": "simple",
   "transition": "fade"
  },
  "toc": {
   "base_numbering": 1,
   "nav_menu": {},
   "number_sections": true,
   "sideBar": true,
   "skip_h1_title": true,
   "title_cell": "Table of Contents",
   "title_sidebar": "Contents",
   "toc_cell": true,
   "toc_position": {},
   "toc_section_display": true,
   "toc_window_display": false
  },
  "vscode": {
   "interpreter": {
    "hash": "aee8b7b246df8f9039afb4144a1f6fd8d2ca17a180786b69acc140d282b71a49"
   }
  }
 },
 "nbformat": 4,
 "nbformat_minor": 4
}
