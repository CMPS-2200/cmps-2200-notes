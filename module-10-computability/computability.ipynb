{
 "cells": [
  {
   "cell_type": "code",
   "execution_count": 3,
   "metadata": {
    "code_folding": [],
    "slideshow": {
     "slide_type": "skip"
    }
   },
   "outputs": [
    {
     "data": {
      "text/html": [
       "<style>.prompt{width: 0px; min-width: 0px; visibility: collapse}</style>"
      ],
      "text/plain": [
       "<IPython.core.display.HTML object>"
      ]
     },
     "metadata": {},
     "output_type": "display_data"
    },
    {
     "data": {
      "text/html": [
       "<style>\n",
       "div#notebook {\n",
       " font-family: \"Exo_2\", sans-serif;\n",
       "}\n",
       "\n",
       ".rendered_html h1,\n",
       ".text_cell_render h1 {\n",
       " color: #126dce;\n",
       " font-size: 220%;\n",
       " text-align: center;\n",
       " font-weight: lighter;\n",
       "}\n",
       ".rendered_html h2,\n",
       ".text_cell_render h2 {\n",
       " text-align: center;\n",
       " font-size: 170%;\n",
       " color: #126dce;\n",
       " font-style: normal;\n",
       " font-weight: lighter;\n",
       "}\n",
       ".rendered_html h3,\n",
       ".text_cell_render h3 {\n",
       " font-size: 150%;\n",
       " color: #126dce;\n",
       " font-weight: lighter;\n",
       " text-decoration: italic;\n",
       " font-style: normal;\n",
       "}\n",
       ".rendered_html h4,\n",
       ".text_cell_render h4 {\n",
       " font-size: 120%;\n",
       " color: #126dce;\n",
       " font-weight: underline;\n",
       " font-style: normal;\n",
       "}\n",
       ".rendered_html h5,\n",
       ".text_cell_render h5 {\n",
       " font-size: 100%;\n",
       " color: #2f2f2f;\n",
       " font-weight: lighter;\n",
       " text-decoration: underline;\n",
       "}\n",
       "</style>\n"
      ],
      "text/plain": [
       "<IPython.core.display.HTML object>"
      ]
     },
     "metadata": {},
     "output_type": "display_data"
    }
   ],
   "source": [
    "# setup\n",
    "from IPython.core.display import display,HTML\n",
    "display(HTML('<style>.prompt{width: 0px; min-width: 0px; visibility: collapse}</style>'))\n",
    "display(HTML(open('rise.css').read()))\n",
    "\n",
    "# imports\n",
    "import numpy as np\n",
    "import matplotlib.pyplot as plt\n",
    "import seaborn as sns\n",
    "%matplotlib inline\n",
    "sns.set(style=\"whitegrid\", font_scale=1.5, rc={'figure.figsize':(12, 6)})\n"
   ]
  },
  {
   "cell_type": "markdown",
   "metadata": {
    "slideshow": {
     "slide_type": "slide"
    }
   },
   "source": [
    "# CMPS 2200\n",
    "# Introduction to Algorithms\n",
    "\n",
    "## Computational Complexity and NP-Hardness\n"
   ]
  },
  {
   "cell_type": "code",
   "execution_count": null,
   "metadata": {},
   "outputs": [],
   "source": []
  },
  {
   "cell_type": "markdown",
   "metadata": {
    "slideshow": {
     "slide_type": "slide"
    }
   },
   "source": [
    "Going back to our discussions of asymptotic complexity, we said that we were interested in algorithms for computational problems that:\n",
    "\n",
    "- Did polynomial work in the input size\n",
    "- Leveraged concurrency to achieve span (i.e., parallel speedup)\n",
    "\n",
    "We have studied different algorithmic paradigms to try and achieve these two goals. But, when is this actually possible?\n",
    "\n",
    "What problems are solvable with polynomial work? Of those, which allow us to achieve a good parallel speedup?\n",
    "\n",
    "Or, which problems aren't solvable with polynomial work? Perhaps we could just avoid or approximate these, instead of trying to find efficient algorithms.\n",
    "\n",
    "Why would we care about characterizing the difficulty of problems? Why not just do the best we can?\n",
    "\n",
    "Given a problem $\\mathcal{X}$ that we want to solve efficiently, we might not be able come up with a polynomial-work algorithm.\n",
    "\n",
    "<a href=\"https://www.ac.tuwien.ac.at/people/szeider/cartoon/\"><img src =\"npc_cartoon1.png\" width=70%></a>\n",
    "\n",
    "\n",
    "The field of **computational complexity** tries to characterize problems by resource complexity (e.g., work, span, space).\n"
   ]
  },
  {
   "cell_type": "markdown",
   "metadata": {
    "slideshow": {
     "slide_type": "slide"
    }
   },
   "source": [
    "We'll define some basic complexity classes and look at how much progress has been made in the last 50 years or so. \n",
    "\n",
    "In our discussion, we will look at *decision problems*, i.e., computational problems with YES/NO answers. \n",
    "\n",
    "Note that this is not a big restriction, because if we can solve a decision problem we can solve the optimization version using binary search.\n",
    "\n",
    "Example: Consider a decision version of MST: Does a graph $G$ have an spanning tree of cost at most $k$? \n",
    "\n",
    "We can find an MST by doing binary search on $k$ (starting with say the sum of all edge costs). This requires times polynomial in the input. Why? \n"
   ]
  },
  {
   "cell_type": "markdown",
   "metadata": {
    "slideshow": {
     "slide_type": "slide"
    }
   },
   "source": [
    "\n",
    "For MST, we gave several very efficient algorithms (with work nearly linear in the input size). \n",
    "\n",
    "Are there any problems for which we haven't seen efficient algorithms?\n",
    "\n"
   ]
  },
  {
   "cell_type": "markdown",
   "metadata": {
    "slideshow": {
     "slide_type": "fragment"
    }
   },
   "source": [
    "Yes - TSP and Knapsack. Are there efficient algorithms possible? We don't know. The best we can do is essentially some kind of inefficient search.\n",
    "\n",
    "We'd like to give a lower bound for TSP or Knapsack (or any problem for which we can't find an efficient algorithm).\n",
    "\n",
    "\n",
    "<a href=\"https://www.ac.tuwien.ac.at/people/szeider/cartoon/\"><img src =\"npc_cartoon2.png\" width=70%></a>\n",
    "\n",
    "There are a number of very common/useful problems for which we can't seem to a) come up with good algorithms, or b) prove that no good algorithms exist.\n",
    "\n",
    "\n",
    "So what do we do?"
   ]
  },
  {
   "cell_type": "markdown",
   "metadata": {},
   "source": [
    "###Reductions###\n",
    "\n",
    "reduction to the rescue. many of these problems seem to reduce to one another.\n",
    "\n",
    "show reductions:\n",
    "\n",
    "vertex cover, independent set, SAT, knapsack? TSP?\n",
    "\n",
    "A problem $\\mathcal{X}$ is *polynomial-time reducible* to a problem $\\mathcal{Y}$ if we can perform input/output transformations between $\\mathcal{X}$ and $\\mathcal{Y}$ in polynomial time. "
   ]
  },
  {
   "cell_type": "markdown",
   "metadata": {},
   "source": [
    "###Checking versus Solving###\n",
    "\n",
    "Another interesting thing about these problems that we can't seem to solve is that, given a solution, we can actually check whether or not the solution is correct very quickly. We just don't know how to produce a \"YES\" instance efficiently.\n",
    "\n",
    "If we're given a knapsack instance we can check it, etc.\n",
    "\n",
    "This class of problems is known at $\\mathcal{NP}$, in contrast to the set of problems $\\mathcal{P}$ that can be solved in polynomial work.\n",
    "\n",
    "Now we know that $\\mathcal{P}\\subseteq\\mathcal{NP}$, since we can efficiently check a problem solution by constructing it in polynomial time.\n",
    "\n",
    "But does $\\mathcal{P} = \\mathcal{NP}$?\n",
    "\n"
   ]
  },
  {
   "cell_type": "markdown",
   "metadata": {},
   "source": [
    "###Completeness###\n",
    "\n",
    "A problem $\\mathcal{X}$ is *complete* for a particular class if for all. So, if we solve one, we solve all! This means it's unlikely that we're just not trying hard enough.\n",
    "\n",
    "It turns out that most of these problems are $\\mathcal{NP}$-complete!\n",
    "\n",
    "So, solving one actually solves them all.\n",
    "\n",
    "So, is $\\mathcal{P} = \\mathcal{NP}$?"
   ]
  },
  {
   "cell_type": "markdown",
   "metadata": {},
   "source": [
    "<a href=\"https://www.ac.tuwien.ac.at/people/szeider/cartoon/\"><img src =\"npc_cartoon3.png\" width=70%></a>\n"
   ]
  },
  {
   "cell_type": "markdown",
   "metadata": {},
   "source": [
    "What about parallelism? Is that a way around computational complexity? For example, we saw that brute-force search could achieve low span?"
   ]
  },
  {
   "cell_type": "markdown",
   "metadata": {},
   "source": [
    "Let $\\mathcal{NC}$ denote the set of all problems with span $O(\\log^c n)$ for some constant $c$. \n",
    "\n",
    "Which problems?"
   ]
  },
  {
   "cell_type": "code",
   "execution_count": null,
   "metadata": {},
   "outputs": [],
   "source": [
    "We have just looked at two complexity classes, but this <a href=\"https://complexityzoo.uwaterloo.ca/Complexity_Zoo\">area</a> is quite deep.\n",
    "\n",
    "<a href = \"https://jeremykun.com/2012/02/29/other-complexity-classes/\"><img src=\"complexity_venn_diagram.jpg\" width=60%></a>"
   ]
  }
 ],
 "metadata": {
  "celltoolbar": "Slideshow",
  "kernelspec": {
   "display_name": "Python 3",
   "language": "python",
   "name": "python3"
  },
  "language_info": {
   "codemirror_mode": {
    "name": "ipython",
    "version": 3
   },
   "file_extension": ".py",
   "mimetype": "text/x-python",
   "name": "python",
   "nbconvert_exporter": "python",
   "pygments_lexer": "ipython3",
   "version": "3.6.5"
  },
  "rise": {
   "autolaunch": true,
   "controls": false,
   "enable_chalkboard": true,
   "scroll": true,
   "theme": "simple",
   "transition": "fade"
  },
  "toc": {
   "base_numbering": 1,
   "nav_menu": {},
   "number_sections": true,
   "sideBar": true,
   "skip_h1_title": true,
   "title_cell": "Table of Contents",
   "title_sidebar": "Contents",
   "toc_cell": true,
   "toc_position": {},
   "toc_section_display": true,
   "toc_window_display": false
  }
 },
 "nbformat": 4,
 "nbformat_minor": 4
}
