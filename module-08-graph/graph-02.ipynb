{
 "cells": [
  {
   "cell_type": "code",
   "execution_count": 1,
   "metadata": {
    "code_folding": [],
    "slideshow": {
     "slide_type": "skip"
    }
   },
   "outputs": [
    {
     "data": {
      "text/html": [
       "<style>.prompt{width: 0px; min-width: 0px; visibility: collapse}</style>"
      ],
      "text/plain": [
       "<IPython.core.display.HTML object>"
      ]
     },
     "metadata": {},
     "output_type": "display_data"
    },
    {
     "data": {
      "text/html": [
       "<style>\n",
       "div#notebook {\n",
       " font-family: \"Exo_2\", sans-serif;\n",
       "}\n",
       "\n",
       ".rendered_html h1,\n",
       ".text_cell_render h1 {\n",
       " color: #126dce;\n",
       " font-size: 220%;\n",
       " text-align: center;\n",
       " font-weight: lighter;\n",
       "}\n",
       ".rendered_html h2,\n",
       ".text_cell_render h2 {\n",
       " text-align: center;\n",
       " font-size: 170%;\n",
       " color: #126dce;\n",
       " font-style: normal;\n",
       " font-weight: lighter;\n",
       "}\n",
       ".rendered_html h3,\n",
       ".text_cell_render h3 {\n",
       " font-size: 150%;\n",
       " color: #126dce;\n",
       " font-weight: lighter;\n",
       " text-decoration: italic;\n",
       " font-style: normal;\n",
       "}\n",
       ".rendered_html h4,\n",
       ".text_cell_render h4 {\n",
       " font-size: 120%;\n",
       " color: #126dce;\n",
       " font-weight: underline;\n",
       " font-style: normal;\n",
       "}\n",
       ".rendered_html h5,\n",
       ".text_cell_render h5 {\n",
       " font-size: 100%;\n",
       " color: #2f2f2f;\n",
       " font-weight: lighter;\n",
       " text-decoration: underline;\n",
       "}\n",
       "</style>\n"
      ],
      "text/plain": [
       "<IPython.core.display.HTML object>"
      ]
     },
     "metadata": {},
     "output_type": "display_data"
    }
   ],
   "source": [
    "# setup\n",
    "from IPython.core.display import display,HTML\n",
    "display(HTML('<style>.prompt{width: 0px; min-width: 0px; visibility: collapse}</style>'))\n",
    "display(HTML(open('../rise.css').read()))\n",
    "\n",
    "# imports\n",
    "import numpy as np\n",
    "import matplotlib.pyplot as plt\n",
    "import seaborn as sns\n",
    "%matplotlib inline\n",
    "sns.set(style=\"whitegrid\", font_scale=1.5, rc={'figure.figsize':(12, 6)})\n"
   ]
  },
  {
   "cell_type": "markdown",
   "metadata": {
    "slideshow": {
     "slide_type": "slide"
    }
   },
   "source": [
    "# CMPS 2200\n",
    "# Introduction to Algorithms\n",
    "\n",
    "## Breadth-first Search\n"
   ]
  },
  {
   "cell_type": "markdown",
   "metadata": {
    "slideshow": {
     "slide_type": "slide"
    }
   },
   "source": [
    "## Breadth-first search (BFS)\n",
    "\n",
    "<center>\n",
    "<img src=\"https://upload.wikimedia.org/wikipedia/commons/4/46/Animated_BFS.gif\" width=25%/>\n",
    "</center>\n",
    "\n",
    "**Input:**\n",
    "- graph $G$\n",
    "- source vertex $s$\n",
    "\n",
    "<br><br>\n",
    "1. Visit all nodes that are neighbors of $s$\n",
    "2. Visit nodes that are neighbors of neighbors of $s$\n",
    "- ...\n",
    "\n",
    "\n",
    "<br><br>\n",
    "- Nodes at level $i$ have a path distance of $i$  from $s$\n",
    "- BFS proceeds one level at a time, until there are no new neighbors to visit.\n",
    "\n",
    "<br><br>\n",
    "What variables will we need to keep track of?"
   ]
  },
  {
   "cell_type": "markdown",
   "metadata": {
    "slideshow": {
     "slide_type": "fragment"
    }
   },
   "source": [
    "<center>\n",
    "<img src=\"figures/bfs_1.png\" width=30%/>\n",
    "</center>\n",
    "\n",
    "- `visited` ($X$): the nodes already visited, so we don't visit them more than once\n",
    "- `frontier` ($F$): the nodes to visit next.\n",
    "\n",
    "At iteration $i$:\n",
    "\n",
    "- `visited` contains all nodes with distance less than $i$ from $s$\n",
    "- `frontier` contains all nodes with distance exactly $i$ from $s$\n",
    "  - these are all the unvisited neighbors of `visited`.\n",
    "  \n",
    "How do we update `visited` and `frontier` at each iteration?"
   ]
  },
  {
   "cell_type": "markdown",
   "metadata": {
    "slideshow": {
     "slide_type": "fragment"
    }
   },
   "source": [
    "1. To update `visited`, we add any new values encountered in the frontier:\n",
    "  - $X_{i+1} = X_i \\cup F_i$\n",
    "\n",
    "\n",
    "2. To update `frontier`, we take the neighborhood of $F_i$ and remove any vertices that have already been visited:\n",
    "  - $F_{i+1} = N(F_i) \\setminus X_{i+1}$\n",
    "  - $N(F_i)$ are the neighbors of the nodes in $F_i$\n",
    "\n",
    "<br>\n",
    "\n",
    "e.g. for $i=1$:\n",
    "- $X_1 = \\{a\\}$\n",
    "- $F_1 = \\{b,c\\}$\n",
    "- update:\n",
    "    - $X_2 = \\{a\\} \\cup \\{b,c\\} = \\{a,b,c\\}$\n",
    "    - $F_2 = \\{a, d, e, f, g\\} \\setminus \\{a,b,c\\} = \\{d,e,f,g\\}$\n",
    "    \n"
   ]
  },
  {
   "cell_type": "code",
   "execution_count": 18,
   "metadata": {},
   "outputs": [
    {
     "name": "stdout",
     "output_type": "stream",
     "text": [
      "visiting {'A'}\n",
      "visiting {'C', 'B'}\n",
      "visiting {'D', 'E', 'F', 'G'}\n",
      "visiting {'H'}\n"
     ]
    }
   ],
   "source": [
    "from functools import reduce\n",
    "\n",
    "\n",
    "def bfs(graph, source, depth):\n",
    "    visited = set()\n",
    "    frontier = set([source])\n",
    "    while len(frontier) > 0:\n",
    "        # update visited\n",
    "        visited_new = frontier | visited\n",
    "        print('visiting', (visited_new - visited))\n",
    "        visited = visited_new\n",
    "        # update frontier\n",
    "        frontier_neighbors = reduce(set.union, [graph[f] for f in frontier])\n",
    "        frontier = frontier_neighbors - visited\n",
    "\n",
    "# same as example above\n",
    "graph = {\n",
    "            'A': {'B', 'C'},\n",
    "            'B': {'A', 'D', 'E'},\n",
    "            'C': {'A', 'F', 'G'},\n",
    "            'D': {'B'},\n",
    "            'E': {'B', 'H'},\n",
    "            'F': {'C'},\n",
    "            'G': {'C'},\n",
    "            'H': {'E'}\n",
    "        }\n",
    "bfs(graph, 'A')"
   ]
  },
  {
   "cell_type": "markdown",
   "metadata": {},
   "source": [
    "## Work/Span of BFS\n",
    "\n",
    "- Since we have no recurrence, we will instead simply add up costs of each level.\n",
    "- But, work done at each level varies depending on how many nodes it contains.\n",
    "\n",
    "What we do know:\n",
    "\n",
    "- Every reachable node appears in the frontier exactly **once**\n",
    "- Likewise, each edge is processed exactly **once**\n",
    "- Therefore work is $O(|V| + |E|)$"
   ]
  },
  {
   "cell_type": "code",
   "execution_count": null,
   "metadata": {},
   "outputs": [],
   "source": [
    "# improve work using sequences.\n",
    "# TODO: finish\n",
    "def bfs(graph, source, depth):\n",
    "    visited = set()\n",
    "    frontier = set([source])\n",
    "    while len(frontier) > 0:\n",
    "        # update visited\n",
    "        visited_new = frontier | visited\n",
    "        print('visiting', (visited_new - visited))\n",
    "        visited = visited_new\n",
    "        # update frontier\n",
    "        frontier_neighbors = reduce(set.union, [graph[f] for f in frontier])\n",
    "        frontier = frontier_neighbors - visited\n"
   ]
  },
  {
   "cell_type": "markdown",
   "metadata": {},
   "source": [
    "Notice that we didn't have a recurrence because we didn't use divide and conquer.\n",
    "\n",
    "Why is it hard to do divide and conquer on a graph?"
   ]
  },
  {
   "cell_type": "markdown",
   "metadata": {
    "slideshow": {
     "slide_type": "slide"
    }
   },
   "source": [
    "## Correctness of BFS\n",
    "\n",
    "TODO: finish"
   ]
  },
  {
   "cell_type": "markdown",
   "metadata": {},
   "source": [
    "How can we keep track of the distance each node is from the source?\n",
    "\n",
    "TODO: finish"
   ]
  },
  {
   "cell_type": "markdown",
   "metadata": {},
   "source": [
    "How can we keep track of the paths?\n",
    "\n",
    "TODO: finish"
   ]
  }
 ],
 "metadata": {
  "celltoolbar": "Slideshow",
  "kernelspec": {
   "display_name": "Python 3",
   "language": "python",
   "name": "python3"
  },
  "language_info": {
   "codemirror_mode": {
    "name": "ipython",
    "version": 3
   },
   "file_extension": ".py",
   "mimetype": "text/x-python",
   "name": "python",
   "nbconvert_exporter": "python",
   "pygments_lexer": "ipython3",
   "version": "3.8.2"
  },
  "rise": {
   "autolaunch": true,
   "controls": false,
   "enable_chalkboard": true,
   "scroll": true,
   "theme": "simple",
   "transition": "fade"
  },
  "toc": {
   "base_numbering": 1,
   "nav_menu": {},
   "number_sections": true,
   "sideBar": true,
   "skip_h1_title": true,
   "title_cell": "Table of Contents",
   "title_sidebar": "Contents",
   "toc_cell": true,
   "toc_position": {},
   "toc_section_display": true,
   "toc_window_display": false
  }
 },
 "nbformat": 4,
 "nbformat_minor": 4
}
