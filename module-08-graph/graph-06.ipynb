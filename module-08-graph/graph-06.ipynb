{
 "cells": [
  {
   "cell_type": "code",
   "execution_count": 1,
   "metadata": {
    "code_folding": [],
    "slideshow": {
     "slide_type": "skip"
    }
   },
   "outputs": [
    {
     "data": {
      "text/html": [
       "<style>.prompt{width: 0px; min-width: 0px; visibility: collapse}</style>"
      ],
      "text/plain": [
       "<IPython.core.display.HTML object>"
      ]
     },
     "metadata": {},
     "output_type": "display_data"
    },
    {
     "data": {
      "text/html": [
       "<style>\n",
       "div#notebook {\n",
       " font-family: \"Exo_2\", sans-serif;\n",
       "}\n",
       "\n",
       ".rendered_html h1,\n",
       ".text_cell_render h1 {\n",
       " color: #126dce;\n",
       " font-size: 220%;\n",
       " text-align: center;\n",
       " font-weight: lighter;\n",
       "}\n",
       ".rendered_html h2,\n",
       ".text_cell_render h2 {\n",
       " text-align: center;\n",
       " font-size: 170%;\n",
       " color: #126dce;\n",
       " font-style: normal;\n",
       " font-weight: lighter;\n",
       "}\n",
       ".rendered_html h3,\n",
       ".text_cell_render h3 {\n",
       " font-size: 150%;\n",
       " color: #126dce;\n",
       " font-weight: lighter;\n",
       " text-decoration: italic;\n",
       " font-style: normal;\n",
       "}\n",
       ".rendered_html h4,\n",
       ".text_cell_render h4 {\n",
       " font-size: 120%;\n",
       " color: #126dce;\n",
       " font-weight: underline;\n",
       " font-style: normal;\n",
       "}\n",
       ".rendered_html h5,\n",
       ".text_cell_render h5 {\n",
       " font-size: 100%;\n",
       " color: #2f2f2f;\n",
       " font-weight: lighter;\n",
       " text-decoration: underline;\n",
       "}\n",
       "</style>\n"
      ],
      "text/plain": [
       "<IPython.core.display.HTML object>"
      ]
     },
     "metadata": {},
     "output_type": "display_data"
    }
   ],
   "source": [
    "# setup\n",
    "from IPython.core.display import display,HTML\n",
    "display(HTML('<style>.prompt{width: 0px; min-width: 0px; visibility: collapse}</style>'))\n",
    "display(HTML(open('../rise.css').read()))\n",
    "\n",
    "# imports\n",
    "import numpy as np\n",
    "import matplotlib.pyplot as plt\n",
    "import seaborn as sns\n",
    "%matplotlib inline\n",
    "sns.set(style=\"whitegrid\", font_scale=1.5, rc={'figure.figsize':(12, 6)})\n"
   ]
  },
  {
   "cell_type": "markdown",
   "metadata": {
    "slideshow": {
     "slide_type": "slide"
    }
   },
   "source": [
    "# CMPS 2200\n",
    "# Introduction to Algorithms\n",
    "\n",
    "## All pairs shortest path\n",
    "\n"
   ]
  },
  {
   "cell_type": "markdown",
   "metadata": {
    "slideshow": {
     "slide_type": "slide"
    }
   },
   "source": [
    "## All pairs shortest path  (APSP)\n",
    "\n",
    "Up to now, we've consider the shortest paths from a fixed source node $s$.\n",
    "\n",
    "Of course, we will often want to know the shortest path from **all** nodes in the graph.\n",
    "\n",
    "How can we use algorithms we have seen to do this?"
   ]
  },
  {
   "cell_type": "markdown",
   "metadata": {
    "slideshow": {
     "slide_type": "fragment"
    }
   },
   "source": [
    "Just run Bellman-Ford $|V|$ times, once per vertex.\n",
    "\n",
    "Since one run of Bellman-Ford has $O(|V| \\cdot |E|)$ work, the total work is $O(|V|^2 \\cdot |E|)$"
   ]
  },
  {
   "cell_type": "code",
   "execution_count": 12,
   "metadata": {
    "slideshow": {
     "slide_type": "skip"
    }
   },
   "outputs": [],
   "source": [
    "from heapq import heappush, heappop \n",
    "import math\n",
    "\n",
    "def dijkstra(graph, source):\n",
    "    def dijkstra_helper(visited, frontier):\n",
    "        if len(frontier) == 0:\n",
    "            return visited\n",
    "        else:\n",
    "            # Pick next closest node from heap\n",
    "            distance, node = heappop(frontier)\n",
    "            if node in visited:\n",
    "                # Already visited, so ignore this longer path\n",
    "                return dijkstra_helper(visited, frontier)\n",
    "            else:\n",
    "                # We now know the shortest path from source to node.\n",
    "                # insert into visited dict.\n",
    "                visited[node] = distance\n",
    "                # Visit each neighbor of node and insert into heap.\n",
    "                # We may add same node more than once, heap\n",
    "                # will keep shortest distance prioritized.\n",
    "                for neighbor, weight in graph[node]:\n",
    "                    heappush(frontier, (distance + weight, neighbor))                \n",
    "                return dijkstra_helper(visited, frontier)\n",
    "        \n",
    "    frontier = []\n",
    "    heappush(frontier, (0, source))\n",
    "    visited = dict()  # store the final shortest paths for each node.\n",
    "    return dijkstra_helper(visited, frontier)\n",
    "\n",
    "\n",
    "\n",
    "def bellmanford(graph, source):\n",
    "    def bellmanford_helper(distances, k):        \n",
    "        if k == len(graph): # negative cycle\n",
    "            return -math.inf\n",
    "        else:\n",
    "            # compute new distances\n",
    "            new_distances = compute_distances(graph, distances)\n",
    "            \n",
    "            # check if distances have converged\n",
    "            if converged(distances, new_distances):\n",
    "                return distances\n",
    "            else:                \n",
    "                return bellmanford_helper(new_distances, k+1)\n",
    "        \n",
    "    # initialize\n",
    "    distances = dict()\n",
    "    for v in graph:\n",
    "        if v == source:\n",
    "            distances[v] = 0\n",
    "        else:\n",
    "            distances[v] = math.inf\n",
    "    return bellmanford_helper(distances, 0)\n",
    "\n",
    "def compute_distances(graph, distances):\n",
    "    new_distances = {}\n",
    "    for v, in_neighbors in graph.items(): # this loop can be done in parallel\n",
    "        # compute all possible distances from s->v\n",
    "        v_distances = [distances[v]] \n",
    "        for in_neighbor, weight in in_neighbors:\n",
    "            v_distances.append(distances[in_neighbor] + weight)\n",
    "        new_distances[v] = min(v_distances)\n",
    "    return new_distances\n",
    "\n",
    "def converged(old_distances, new_distances):\n",
    "    for k in old_distances:\n",
    "        if old_distances[k] != new_distances[k]:\n",
    "            return False\n",
    "    return True\n"
   ]
  },
  {
   "cell_type": "markdown",
   "metadata": {
    "slideshow": {
     "slide_type": "slide"
    }
   },
   "source": [
    "### Converting a graph with negative edge weights to one with only positive weights\n",
    "\n",
    "<br>\n",
    "\n",
    "<center>\n",
    "<img src=\"figures/johnson1.jpg\"/>\n",
    "</center>    \n",
    "\n",
    "<center>\n",
    "<img src=\"figures/johnson2.jpg\"/>\n",
    "</center>    \n",
    "    \n"
   ]
  },
  {
   "cell_type": "code",
   "execution_count": 25,
   "metadata": {
    "slideshow": {
     "slide_type": "slide"
    }
   },
   "outputs": [
    {
     "name": "stdout",
     "output_type": "stream",
     "text": [
      "bellman ford distances\n",
      "{'a': 0, 'b': -3, 'c': -1, 'd': -4, 's': 0}\n",
      "\n",
      "new graph\n",
      "{'a': {('b', 0), ('c', 2)},\n",
      " 'b': {('d', 0), ('c', 1)},\n",
      " 'c': {('a', 1)},\n",
      " 'd': {('c', 0)},\n",
      " 's': {('d', 4), ('a', 0), ('c', 1), ('b', 3)}}\n",
      "\n",
      "unadjusted shortest paths\n",
      "c {'c': 0, 'a': 1, 'b': 1, 'd': 1}\n",
      "a {'a': 0, 'b': 0, 'd': 0, 'c': 0}\n",
      "b {'b': 0, 'd': 0, 'c': 0, 'a': 1}\n",
      "d {'d': 0, 'c': 0, 'a': 1, 'b': 1}\n",
      "\n",
      "adjusted shortest paths\n",
      "{'a': {'a': 0, 'b': -3, 'c': -1, 'd': -4},\n",
      " 'b': {'a': 4, 'b': 0, 'c': 2, 'd': -1},\n",
      " 'c': {'a': 2, 'b': -1, 'c': 0, 'd': -2},\n",
      " 'd': {'a': 5, 'b': 2, 'c': 3, 'd': 0}}\n"
     ]
    }
   ],
   "source": [
    "from collections import defaultdict\n",
    "from pprint import pprint\n",
    "\n",
    "def johnson(graph):\n",
    "    # add \"dummy\" node that links to all nodes with 0 cost.\n",
    "    for v, in_neighbors in graph.items():\n",
    "        in_neighbors.add(('s', 0))\n",
    "    graph['s'] = {}\n",
    "    \n",
    "    # call bellmanford with new graph\n",
    "    distances = bellmanford(graph, 's')\n",
    "    print('bellman ford distances')\n",
    "    print(distances)\n",
    "    \n",
    "    # create new graph with adjusted weights.\n",
    "    # b/c we'll be using Dijkstra, we make a dict from node to out-neighbors.\n",
    "    new_graph = defaultdict(set)\n",
    "    for v, in_neighbors in graph.items():\n",
    "        for in_neighbor, weight in in_neighbors:\n",
    "            new_graph[in_neighbor].add((v, weight + distances[in_neighbor] - distances[v]))\n",
    "    print('\\nnew graph')\n",
    "    pprint(dict(new_graph))\n",
    "    \n",
    "    # now, run dijkstra on each node in the graph\n",
    "    print('\\nunadjusted shortest paths')\n",
    "    apsp = {}\n",
    "    for v in new_graph:\n",
    "        if v != 's':\n",
    "            distances_from_v = dijkstra(new_graph, v)\n",
    "            # update final path scores\n",
    "            print(v, distances_from_v)            \n",
    "            for u, dist in distances_from_v.items():\n",
    "                distances_from_v[u] = dist - distances[v] + distances[u]\n",
    "            apsp[v] = distances_from_v\n",
    "    print('\\nadjusted shortest paths')\n",
    "    pprint(result)\n",
    "    return apsp\n",
    "\n",
    "graph = {\n",
    "            'a': {('c', 2)},\n",
    "            'b': {('a', -3)},\n",
    "            'c': {('a', 1), ('b', 3), ('d', 3)}, \n",
    "            'd': {('b', -1)},\n",
    "        }\n",
    "    \n",
    "result = johnson(graph)"
   ]
  },
  {
   "cell_type": "markdown",
   "metadata": {},
   "source": [
    "- motivate\n",
    "- just running bellman-ford n times\n",
    "- path potentials\n",
    "- johnson's algorithm"
   ]
  }
 ],
 "metadata": {
  "celltoolbar": "Slideshow",
  "kernelspec": {
   "display_name": "Python 3",
   "language": "python",
   "name": "python3"
  },
  "language_info": {
   "codemirror_mode": {
    "name": "ipython",
    "version": 3
   },
   "file_extension": ".py",
   "mimetype": "text/x-python",
   "name": "python",
   "nbconvert_exporter": "python",
   "pygments_lexer": "ipython3",
   "version": "3.8.2"
  },
  "rise": {
   "autolaunch": true,
   "controls": false,
   "enable_chalkboard": true,
   "scroll": true,
   "theme": "simple",
   "transition": "fade"
  },
  "toc": {
   "base_numbering": 1,
   "nav_menu": {},
   "number_sections": true,
   "sideBar": true,
   "skip_h1_title": true,
   "title_cell": "Table of Contents",
   "title_sidebar": "Contents",
   "toc_cell": true,
   "toc_position": {},
   "toc_section_display": true,
   "toc_window_display": false
  }
 },
 "nbformat": 4,
 "nbformat_minor": 4
}
