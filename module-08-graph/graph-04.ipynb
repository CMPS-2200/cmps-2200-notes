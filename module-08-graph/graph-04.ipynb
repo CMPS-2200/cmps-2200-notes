{
 "cells": [
  {
   "cell_type": "code",
   "execution_count": 1,
   "metadata": {
    "code_folding": [],
    "slideshow": {
     "slide_type": "skip"
    }
   },
   "outputs": [
    {
     "data": {
      "text/html": [
       "<style>.prompt{width: 0px; min-width: 0px; visibility: collapse}</style>"
      ],
      "text/plain": [
       "<IPython.core.display.HTML object>"
      ]
     },
     "metadata": {},
     "output_type": "display_data"
    },
    {
     "data": {
      "text/html": [
       "<style>\n",
       "div#notebook {\n",
       " font-family: \"Exo_2\", sans-serif;\n",
       "}\n",
       "\n",
       ".rendered_html h1,\n",
       ".text_cell_render h1 {\n",
       " color: #126dce;\n",
       " font-size: 220%;\n",
       " text-align: center;\n",
       " font-weight: lighter;\n",
       "}\n",
       ".rendered_html h2,\n",
       ".text_cell_render h2 {\n",
       " text-align: center;\n",
       " font-size: 170%;\n",
       " color: #126dce;\n",
       " font-style: normal;\n",
       " font-weight: lighter;\n",
       "}\n",
       ".rendered_html h3,\n",
       ".text_cell_render h3 {\n",
       " font-size: 150%;\n",
       " color: #126dce;\n",
       " font-weight: lighter;\n",
       " text-decoration: italic;\n",
       " font-style: normal;\n",
       "}\n",
       ".rendered_html h4,\n",
       ".text_cell_render h4 {\n",
       " font-size: 120%;\n",
       " color: #126dce;\n",
       " font-weight: underline;\n",
       " font-style: normal;\n",
       "}\n",
       ".rendered_html h5,\n",
       ".text_cell_render h5 {\n",
       " font-size: 100%;\n",
       " color: #2f2f2f;\n",
       " font-weight: lighter;\n",
       " text-decoration: underline;\n",
       "}\n",
       "</style>\n"
      ],
      "text/plain": [
       "<IPython.core.display.HTML object>"
      ]
     },
     "metadata": {},
     "output_type": "display_data"
    }
   ],
   "source": [
    "# setup\n",
    "from IPython.core.display import display,HTML\n",
    "display(HTML('<style>.prompt{width: 0px; min-width: 0px; visibility: collapse}</style>'))\n",
    "display(HTML(open('../rise.css').read()))\n",
    "\n",
    "# imports\n",
    "import numpy as np\n",
    "import matplotlib.pyplot as plt\n",
    "import seaborn as sns\n",
    "%matplotlib inline\n",
    "sns.set(style=\"whitegrid\", font_scale=1.5, rc={'figure.figsize':(12, 6)})\n"
   ]
  },
  {
   "cell_type": "markdown",
   "metadata": {
    "slideshow": {
     "slide_type": "slide"
    }
   },
   "source": [
    "# CMPS 2200\n",
    "# Introduction to Algorithms\n",
    "\n",
    "## Shortest Path\n"
   ]
  },
  {
   "cell_type": "markdown",
   "metadata": {
    "slideshow": {
     "slide_type": "slide"
    }
   },
   "source": [
    "Today's agenda:\n",
    "\n",
    "- ..."
   ]
  },
  {
   "cell_type": "markdown",
   "metadata": {
    "slideshow": {
     "slide_type": "slide"
    }
   },
   "source": [
    "## Generalizing DFS and BFS search\n",
    "\n",
    "We've now seen two types of search that are conceptually very similar.\n",
    "\n",
    "\n",
    "`dfs_stack`:\n",
    "\n",
    "- `node = frontier.pop()`\n",
    "\n",
    "\n",
    "`bfs_serial`:\n",
    "\n",
    "- `node = frontier.popleft()`\n",
    "\n",
    "Can we generalize these?"
   ]
  },
  {
   "cell_type": "code",
   "execution_count": 2,
   "metadata": {
    "slideshow": {
     "slide_type": "fragment"
    }
   },
   "outputs": [
    {
     "name": "stdout",
     "output_type": "stream",
     "text": [
      "visiting A\n",
      "visiting B\n",
      "visiting E\n",
      "visiting H\n",
      "visiting D\n",
      "visiting C\n",
      "visiting F\n",
      "visiting G\n"
     ]
    },
    {
     "data": {
      "text/plain": [
       "{'A', 'B', 'C', 'D', 'E', 'F', 'G', 'H'}"
      ]
     },
     "execution_count": 2,
     "metadata": {},
     "output_type": "execute_result"
    }
   ],
   "source": [
    "from collections import deque\n",
    "\n",
    "def generic_search(graph, source, get_next_node_fn):\n",
    "    def generic_search_helper(visited, frontier):\n",
    "        if len(frontier) == 0:\n",
    "            return visited\n",
    "        else:\n",
    "            ## pick a node\n",
    "            node = get_next_node_fn(frontier)\n",
    "            print('visiting', node)\n",
    "            visited.add(node)\n",
    "            frontier.extend(filter(lambda n: n not in visited, graph[node]))\n",
    "            return generic_search_helper(visited, frontier)\n",
    "        \n",
    "    frontier = deque()\n",
    "    frontier.append(source)\n",
    "    visited = set()\n",
    "    return generic_search_helper(visited, frontier)\n",
    "\n",
    "def bfs_fn(frontier):\n",
    "    return frontier.pop()\n",
    "\n",
    "def dfs_fn(frontier):\n",
    "    return frontier.popleft()\n",
    "\n",
    "graph = {\n",
    "            'A': {'B', 'C'},\n",
    "            'B': {'A', 'D', 'E'},\n",
    "            'C': {'A', 'F', 'G'},\n",
    "            'D': {'B'},\n",
    "            'E': {'B', 'H'},\n",
    "            'F': {'C'},\n",
    "            'G': {'C'},\n",
    "            'H': {'E'}\n",
    "        }\n",
    "\n",
    "generic_search(graph, 'A', bfs_fn)"
   ]
  },
  {
   "cell_type": "code",
   "execution_count": 3,
   "metadata": {
    "slideshow": {
     "slide_type": "fragment"
    }
   },
   "outputs": [
    {
     "name": "stdout",
     "output_type": "stream",
     "text": [
      "visiting A\n",
      "visiting C\n",
      "visiting B\n",
      "visiting G\n",
      "visiting F\n",
      "visiting D\n",
      "visiting E\n",
      "visiting H\n"
     ]
    },
    {
     "data": {
      "text/plain": [
       "{'A', 'B', 'C', 'D', 'E', 'F', 'G', 'H'}"
      ]
     },
     "execution_count": 3,
     "metadata": {},
     "output_type": "execute_result"
    }
   ],
   "source": [
    "generic_search(graph, 'A', dfs_fn)"
   ]
  },
  {
   "cell_type": "markdown",
   "metadata": {
    "slideshow": {
     "slide_type": "slide"
    }
   },
   "source": [
    "## Priority First Search\n",
    "\n",
    "We can view the `get_next_node_fn` as a way to pick the **highest priority** node to visit at each iteration.\n",
    "\n",
    "E.g., consider a Web crawler that prioritizes which pages to visit first\n",
    "- more intereseting pages\n",
    "- pages that update more frequently\n",
    "\n",
    "\n",
    "We'll see several algorithms that are instances of priority first search. "
   ]
  },
  {
   "cell_type": "markdown",
   "metadata": {
    "slideshow": {
     "slide_type": "slide"
    }
   },
   "source": [
    "## Weighted graphs\n",
    "\n",
    "Up to now we have focused on unweighted graphs. \n",
    "\n",
    "For many problems, we need to associate real-valued **weights** to each edge.\n",
    "\n",
    "E.g., consider a graph where nodes are cities and edges represent the distance between them. \n",
    "\n",
    "<img src=\"figures/weighted.png\" width=70%/>\n",
    "\n",
    "The **weight of a path** in the graph is the sum of the weights of the edges along that path.\n",
    "\n",
    "The **shortest weighted path** (or just **shortest path**) between **s** and **e** is the one with minimal weight.\n",
    "\n",
    "**What is the shortest path from s to e**?"
   ]
  },
  {
   "cell_type": "markdown",
   "metadata": {
    "slideshow": {
     "slide_type": "fragment"
    }
   },
   "source": [
    "We saw that we can use BFS to get the distance from the source to each node.\n",
    "\n",
    "Can we use BFS to solve the shortest path problem for weighted graphs?"
   ]
  },
  {
   "cell_type": "markdown",
   "metadata": {
    "slideshow": {
     "slide_type": "fragment"
    }
   },
   "source": [
    "<img src=\"figures/bfs_fail.png\" width=60%/>\n",
    "\n",
    "BFS will:\n",
    "- visit b\n",
    "- visit a\n",
    "- but, will not visit path from a to b, since it doesn't visit a node more than once\n",
    "\n",
    "Thus, BFS will not discover that the shortest path from $s$ to $b$ is $s \\rightarrow a \\rightarrow b$."
   ]
  },
  {
   "cell_type": "markdown",
   "metadata": {
    "slideshow": {
     "slide_type": "fragment"
    }
   },
   "source": [
    "Consider another example:\n",
    "\n",
    "<img src=\"figures/inf.png\" width=60%/>\n",
    "\n",
    "What is the shortest path from $s$ to $e$?"
   ]
  },
  {
   "cell_type": "markdown",
   "metadata": {
    "slideshow": {
     "slide_type": "fragment"
    }
   },
   "source": [
    "> Infinite loop in the cycle $s \\rightarrow a \\rightarrow b \\rightarrow a$, so shortes path is $-\\infty$"
   ]
  },
  {
   "cell_type": "markdown",
   "metadata": {
    "slideshow": {
     "slide_type": "fragment"
    }
   },
   "source": [
    "### SSSP: Single-Source Shortest Path\n",
    "\n",
    "Given a weighted graph $G=(V,E,w)$ and a source vertex $s$, the single-source shortest path (SSSP) problem is to find a shortest weighted path from $s$ to every other vertex in $V$.\n",
    "\n",
    "What would be a brute-force solution to this problem?\n",
    "\n",
    "Is there anything we could reuse to improve the brute-force solution?\n"
   ]
  },
  {
   "cell_type": "markdown",
   "metadata": {
    "slideshow": {
     "slide_type": "fragment"
    }
   },
   "source": [
    "Consider this figure:\n",
    "\n",
    "<img src=\"figures/subpaths.png\" width=\"40%\"/>\n",
    "\n",
    "Suppose that an oracle has told us the shortest paths from $s$ to all vertices except for the vertex $v$, shown in red squares. How can we find the shortest path to $v$?\n",
    "\n"
   ]
  },
  {
   "cell_type": "markdown",
   "metadata": {
    "slideshow": {
     "slide_type": "fragment"
    }
   },
   "source": [
    "$\\min(\\delta_G(s,a)+3, \\delta_G(s,b)+6, \\delta_G(s,c)+5 )$\n",
    "\n",
    "### sub-paths property\n",
    "> any sub-path of a shortest path is itself a shortest path. \n",
    "\n",
    "The sub-paths property makes it possible to construct shortest paths from smaller shortest paths. \n",
    "\n",
    "> If a shortest path from Pittsburgh to San Francisco goes through Chicago, then that shortest path includes the shortest path from Pittsburgh to Chicago, and from Chicago to San Francisco."
   ]
  },
  {
   "cell_type": "markdown",
   "metadata": {},
   "source": [
    "- define path weights and distances\n",
    "- problem types: \n",
    "  - single pair\n",
    "  - single source\n",
    "  - all pairs\n",
    "\n",
    "- dijkstra\n",
    "- analysis"
   ]
  }
 ],
 "metadata": {
  "celltoolbar": "Slideshow",
  "kernelspec": {
   "display_name": "Python 3",
   "language": "python",
   "name": "python3"
  },
  "language_info": {
   "codemirror_mode": {
    "name": "ipython",
    "version": 3
   },
   "file_extension": ".py",
   "mimetype": "text/x-python",
   "name": "python",
   "nbconvert_exporter": "python",
   "pygments_lexer": "ipython3",
   "version": "3.8.2"
  },
  "rise": {
   "autolaunch": true,
   "controls": false,
   "enable_chalkboard": true,
   "scroll": true,
   "theme": "simple",
   "transition": "fade"
  },
  "toc": {
   "base_numbering": 1,
   "nav_menu": {},
   "number_sections": true,
   "sideBar": true,
   "skip_h1_title": true,
   "title_cell": "Table of Contents",
   "title_sidebar": "Contents",
   "toc_cell": true,
   "toc_position": {},
   "toc_section_display": true,
   "toc_window_display": false
  }
 },
 "nbformat": 4,
 "nbformat_minor": 4
}
