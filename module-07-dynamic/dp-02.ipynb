{
 "cells": [
  {
   "cell_type": "code",
   "execution_count": 3,
   "metadata": {
    "code_folding": [],
    "slideshow": {
     "slide_type": "skip"
    }
   },
   "outputs": [
    {
     "data": {
      "text/html": [
       "<style>.prompt{width: 0px; min-width: 0px; visibility: collapse}</style>"
      ],
      "text/plain": [
       "<IPython.core.display.HTML object>"
      ]
     },
     "metadata": {},
     "output_type": "display_data"
    },
    {
     "data": {
      "text/html": [
       "<style>\n",
       "div#notebook {\n",
       " font-family: \"Exo_2\", sans-serif;\n",
       "}\n",
       "\n",
       ".rendered_html h1,\n",
       ".text_cell_render h1 {\n",
       " color: #126dce;\n",
       " font-size: 220%;\n",
       " text-align: center;\n",
       " font-weight: lighter;\n",
       "}\n",
       ".rendered_html h2,\n",
       ".text_cell_render h2 {\n",
       " text-align: center;\n",
       " font-size: 170%;\n",
       " color: #126dce;\n",
       " font-style: normal;\n",
       " font-weight: lighter;\n",
       "}\n",
       ".rendered_html h3,\n",
       ".text_cell_render h3 {\n",
       " font-size: 150%;\n",
       " color: #126dce;\n",
       " font-weight: lighter;\n",
       " text-decoration: italic;\n",
       " font-style: normal;\n",
       "}\n",
       ".rendered_html h4,\n",
       ".text_cell_render h4 {\n",
       " font-size: 120%;\n",
       " color: #126dce;\n",
       " font-weight: underline;\n",
       " font-style: normal;\n",
       "}\n",
       ".rendered_html h5,\n",
       ".text_cell_render h5 {\n",
       " font-size: 100%;\n",
       " color: #2f2f2f;\n",
       " font-weight: lighter;\n",
       " text-decoration: underline;\n",
       "}\n",
       "</style>\n"
      ],
      "text/plain": [
       "<IPython.core.display.HTML object>"
      ]
     },
     "metadata": {},
     "output_type": "display_data"
    }
   ],
   "source": [
    "# setup\n",
    "from IPython.core.display import display,HTML\n",
    "display(HTML('<style>.prompt{width: 0px; min-width: 0px; visibility: collapse}</style>'))\n",
    "display(HTML(open('rise.css').read()))\n",
    "\n",
    "# imports\n",
    "import numpy as np\n",
    "import matplotlib.pyplot as plt\n",
    "import seaborn as sns\n",
    "%matplotlib inline\n",
    "sns.set(style=\"whitegrid\", font_scale=1.5, rc={'figure.figsize':(12, 6)})\n"
   ]
  },
  {
   "cell_type": "markdown",
   "metadata": {
    "slideshow": {
     "slide_type": "slide"
    }
   },
   "source": [
    "# CMPS 2200\n",
    "# Introduction to Algorithms\n",
    "\n",
    "## Edit Distance, Longest Increasing Subsequence\n"
   ]
  },
  {
   "cell_type": "markdown",
   "metadata": {
    "slideshow": {
     "slide_type": "slide"
    }
   },
   "source": [
    "Today's agenda:\n",
    "\n",
    "- Two dynamic programming algorithms for Edit Distance and Longest Increasing Subsequence"
   ]
  },
  {
   "cell_type": "markdown",
   "metadata": {},
   "source": [
    "### Edit Distance\n",
    "\n",
    "Given two strings $S, T \\in \\Sigma^*$, how similar are they?\n",
    "\n",
    "We can measure this using *edit distance*, which is the number of insertions and deletions needed to turn $S$ into $T$. Note that we can also go from $T$ to $S$ if we just reverse the edits (by turning insertions into deletions)\n",
    "\n",
    "Example: $S$ = `abcdefghijkl`, $T$ = `abcdghikjl`. How many edits are needed?\n",
    "\n",
    "Consider following edit sequence:\n",
    "\n",
    "$S$: `abcdefghijkl---`<br>\n",
    "$T$: `abcd--ghi---kjl`\n",
    "\n",
    "This has 5 deletions and 3 insertions, for a total of 8 edits. What about this one:\n",
    "\n",
    "$S$: `abcdefghijk-l`<br>\n",
    "$T$: `abcd--ghi-kjl`\n",
    "\n",
    "We have 3 deletions and 1 insertion for a total of 4 edits.\n",
    "\n",
    "Our goal is to compute the **minimum edit distance** between two strings $S$ and $T$ of lengths $m$ and $n$, respectively.\n",
    "\n",
    "It might seem like a toy problem, but this is a critical problem in comparing gene and protein sequences. By attaching  weights to insertions and deletions, we can assess the evolutionary distance between two sequences."
   ]
  },
  {
   "cell_type": "markdown",
   "metadata": {},
   "source": [
    "### Edit Distance\n",
    "\n",
    "Notice that once again, if we greedily apply edits to the beginning or end of the string we might miss a set of edits interspersed throughout the string. \n",
    "\n",
    "Can we identify an optimal substructure propety for this problem?\n",
    "\n",
    "Let's use case-based reasoning about the optimal solution as we did for Knapsack. Let the optimal number of edits between $S$ and $T$ be denoted $\\mathit{MED}(S, T)$. In an optimal sequence of edits, how would we deal with the first two characters of $S$ and $T$, respectively?\n",
    "\n",
    "For the base cases, if either string is empty, then the edit cost is simply the length of the other string.\n",
    "\n",
    "If $S[0] = T[0]$, then there is no benefit to editing and $\\mathit{MED}(S, T) = \\mathit{MED}(S[1:], T[1:])$. However if $S[0] \\neq T[0]$, then we must incur 1 edit. This edit is either an insertion into $S$ or a deletion in $S$, and we can decide which is preferable by considering the resulting subproblems. Thus we must evaluate $\\mathit{MED}(S[1:], T)$ (delete $S[0]$) and $\\mathit{MED}(S, T[1:) (insert at front of $S$).\n",
    "\n",
    "**Optimal Substructure for Edit Distance**: Let $S$ and $T$ be strings of length $m$ and $n$. Then,\n",
    "\n",
    "$$\\mathit{MED}(S, T) = \n",
    "\\begin{cases}\n",
    "\\mathit{MED}(S, T), \\mbox{if}~~~S[0]=T[0] \\\\\n",
    "1+\\min\\{\\mathit{MED}(S[1:], T),\\mathit{MED}(S, T[1:])\\}, \\mbox{otherwise} \\\\\n",
    "\\end{cases}\n",
    "$$\n",
    "\n",
    "Just as with Knapsack, this recursion tree for this recurrence yields an exponential number of nodes. How many nodes are there, and what is the depth? \n"
   ]
  },
  {
   "cell_type": "markdown",
   "metadata": {
    "slideshow": {
     "slide_type": "fragment"
    }
   },
   "source": [
    "The recursion tree has $O(2^{m+n})$ nodes and depth $O(m+n)$. Are there shared subproblems?\n",
    "\n",
    "For $S$=`ABC` and $T$=`DBC` we have the following DAG:\n",
    "\n",
    "<img src = \"edit_distance_DAG.jpg\" width = \"60%\">\n",
    "\n",
    "How much sharing is possible? In other words, how many distinct subproblems are there?"
   ]
  },
  {
   "cell_type": "markdown",
   "metadata": {
    "slideshow": {
     "slide_type": "fragment"
    }
   },
   "source": [
    "In any recursive call, the subproblems we consider consist of strings with one less character. So there are $O(mn)$ subproblems, which can each be computed in $O(1)$ time (if we have precomputed the necessary dependencies). The longest path in the recursion DAG is $O(m+n)$.\n"
   ]
  },
  {
   "cell_type": "code",
   "execution_count": 21,
   "metadata": {
    "slideshow": {
     "slide_type": "fragment"
    }
   },
   "outputs": [
    {
     "name": "stdout",
     "output_type": "stream",
     "text": [
      "2\n"
     ]
    }
   ],
   "source": [
    "def MED(S, T):\n",
    "    #print(\"S:%s, T:%s\" % (S, T))\n",
    "    if (S == \"\"):\n",
    "        return(len(T))\n",
    "    elif (T == \"\"):\n",
    "        return(len(S))\n",
    "    else:\n",
    "        if (S[0] == T[0]):\n",
    "            return(MED(S[1:], T[1:]))\n",
    "        else:\n",
    "            return(1 + min(MED(S, T[1:]), MED(S[1:], T)))\n",
    "\n",
    "S= \"back\"\n",
    "T= \"baok\"\n",
    "print(MED(S, T))\n"
   ]
  },
  {
   "cell_type": "markdown",
   "metadata": {
    "slideshow": {
     "slide_type": "slide"
    }
   },
   "source": [
    "## Longest Increasing Subsequence\n",
    "\n",
    "We previously looked at approaches to identify trends in a sequence: longest run, maximum contiguous subsequence, longest gap. Let's look another trend we might want to identify from a sequence. Given a sequence $S = \\langle s_0, s_1, \\ldots, s_{n-1} \\rangle$, what is the longest increasing subsequence? Note that subsequences don't need to be contiguous.\n",
    "\n",
    "Example: $S=\\langle 5, 2, 8, 6, 3, 6, 9, 7\\rangle$. Every subsequence of length 1 is trivially increasing. Also $\\langle 2, 6, 9 \\rangle$, $\\langle 2, 8, 9 \\rangle$ are increasing, as is $\\langle 5, 6, 7\\rangle$. What is the longest?\n",
    "\n"
   ]
  },
  {
   "cell_type": "markdown",
   "metadata": {
    "slideshow": {
     "slide_type": "fragment"
    }
   },
   "source": [
    "Let's consider the first element in $S$. As usual, we can observe that it is either in a longest increasing subsequence of $S$, or not.\n",
    "\n",
    "If it is, then we know that the longest increasing subsequence has length $1+\\mathit{LIS}(S[j:])$, where $j$ is the position of the next element in $S$ larger than $S[0]$. If $S[0]$ is not in a longest increasing subsequence then $LIS(S) = LIS(S[1:]).$\n",
    "\n",
    "**Optimal Substructure for Longest Increasing Subsequence**: Given a sequence $S$, we have that $$\\mathit{LIS}(S) = \\max\\{1 + LIS(S[j:], LIS(S[1:]\\},$$ where $j$ is the smallest index $j>i$ such that $S[j]>S[i]$. \n",
    "\n",
    "To compute this optimal substructure property, how many distinct subproblems must be computed from scratch? \n"
   ]
  },
  {
   "cell_type": "markdown",
   "metadata": {
    "slideshow": {
     "slide_type": "fragment"
    }
   },
   "source": [
    "This problem is similar to the other ones we've seen so far. In each recursive call we evaluate two subproblems. However the number of distinct subproblems is simply the number of prefixes of $S$. If $|S| = n$, then there are $O(n)$ subproblems. \n"
   ]
  },
  {
   "cell_type": "code",
   "execution_count": 38,
   "metadata": {
    "slideshow": {
     "slide_type": "fragment"
    }
   },
   "outputs": [
    {
     "name": "stdout",
     "output_type": "stream",
     "text": [
      "4\n"
     ]
    }
   ],
   "source": [
    "\n",
    "def LIS(S):\n",
    "    #print(S)\n",
    "    if (S == []):\n",
    "        return(0)\n",
    "    elif (len(S) == 1):\n",
    "        return(1)\n",
    "    else:\n",
    "        rest = [j for j in range(len(S[1:])) if S[j]>S[0]]\n",
    "        #print(rest)\n",
    "        if (rest == []):\n",
    "            return(1)\n",
    "        else:\n",
    "            return(max(1 + LIS(S[rest[0]:]), LIS(S[1:])))\n",
    "    \n",
    "print(LIS([5, 2, 8, 6, 3, 6, 9, 7]))"
   ]
  },
  {
   "cell_type": "code",
   "execution_count": null,
   "metadata": {},
   "outputs": [],
   "source": []
  }
 ],
 "metadata": {
  "celltoolbar": "Slideshow",
  "kernelspec": {
   "display_name": "Python 3",
   "language": "python",
   "name": "python3"
  },
  "language_info": {
   "codemirror_mode": {
    "name": "ipython",
    "version": 3
   },
   "file_extension": ".py",
   "mimetype": "text/x-python",
   "name": "python",
   "nbconvert_exporter": "python",
   "pygments_lexer": "ipython3",
   "version": "3.6.5"
  },
  "rise": {
   "autolaunch": true,
   "controls": false,
   "enable_chalkboard": true,
   "scroll": true,
   "theme": "simple",
   "transition": "fade"
  },
  "toc": {
   "base_numbering": 1,
   "nav_menu": {},
   "number_sections": true,
   "sideBar": true,
   "skip_h1_title": true,
   "title_cell": "Table of Contents",
   "title_sidebar": "Contents",
   "toc_cell": true,
   "toc_position": {},
   "toc_section_display": true,
   "toc_window_display": false
  }
 },
 "nbformat": 4,
 "nbformat_minor": 4
}
