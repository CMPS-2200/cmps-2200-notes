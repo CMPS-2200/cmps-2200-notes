{
 "cells": [
  {
   "cell_type": "code",
   "execution_count": 3,
   "metadata": {
    "code_folding": [],
    "slideshow": {
     "slide_type": "skip"
    }
   },
   "outputs": [
    {
     "data": {
      "text/html": [
       "<style>.prompt{width: 0px; min-width: 0px; visibility: collapse}</style>"
      ],
      "text/plain": [
       "<IPython.core.display.HTML object>"
      ]
     },
     "metadata": {},
     "output_type": "display_data"
    },
    {
     "data": {
      "text/html": [
       "<style>\n",
       "div#notebook {\n",
       " font-family: \"Exo_2\", sans-serif;\n",
       "}\n",
       "\n",
       ".rendered_html h1,\n",
       ".text_cell_render h1 {\n",
       " color: #126dce;\n",
       " font-size: 220%;\n",
       " text-align: center;\n",
       " font-weight: lighter;\n",
       "}\n",
       ".rendered_html h2,\n",
       ".text_cell_render h2 {\n",
       " text-align: center;\n",
       " font-size: 170%;\n",
       " color: #126dce;\n",
       " font-style: normal;\n",
       " font-weight: lighter;\n",
       "}\n",
       ".rendered_html h3,\n",
       ".text_cell_render h3 {\n",
       " font-size: 150%;\n",
       " color: #126dce;\n",
       " font-weight: lighter;\n",
       " text-decoration: italic;\n",
       " font-style: normal;\n",
       "}\n",
       ".rendered_html h4,\n",
       ".text_cell_render h4 {\n",
       " font-size: 120%;\n",
       " color: #126dce;\n",
       " font-weight: underline;\n",
       " font-style: normal;\n",
       "}\n",
       ".rendered_html h5,\n",
       ".text_cell_render h5 {\n",
       " font-size: 100%;\n",
       " color: #2f2f2f;\n",
       " font-weight: lighter;\n",
       " text-decoration: underline;\n",
       "}\n",
       "</style>\n"
      ],
      "text/plain": [
       "<IPython.core.display.HTML object>"
      ]
     },
     "metadata": {},
     "output_type": "display_data"
    }
   ],
   "source": [
    "# setup\n",
    "from IPython.core.display import display,HTML\n",
    "display(HTML('<style>.prompt{width: 0px; min-width: 0px; visibility: collapse}</style>'))\n",
    "display(HTML(open('rise.css').read()))\n",
    "\n",
    "# imports\n",
    "import numpy as np\n",
    "import matplotlib.pyplot as plt\n",
    "import seaborn as sns\n",
    "%matplotlib inline\n",
    "sns.set(style=\"whitegrid\", font_scale=1.5, rc={'figure.figsize':(12, 6)})\n"
   ]
  },
  {
   "cell_type": "markdown",
   "metadata": {
    "slideshow": {
     "slide_type": "slide"
    }
   },
   "source": [
    "# CMPS 2200\n",
    "# Introduction to Algorithms\n",
    "\n",
    "## Data Compression\n"
   ]
  },
  {
   "cell_type": "markdown",
   "metadata": {
    "slideshow": {
     "slide_type": "slide"
    }
   },
   "source": [
    "Today's agenda:\n",
    "\n",
    "- Huffman Coding"
   ]
  },
  {
   "cell_type": "markdown",
   "metadata": {
    "slideshow": {
     "slide_type": "slide"
    }
   },
   "source": [
    "Suppose we are given a document $D$ in which we use the alphabet $\\Sigma$. Our goal is to create $\\sigma$ to a binary encoding to represent $D$ with as few bits as possible. Of course, the encoding must be distinctly represent $\\Sigma$.\n",
    "\n",
    "Example: Suppose $\\sigma=\\{A, B, C, D\\}$, and document $D = \\langle A, A, A, A, A, A, A, A, A, B, C, D\\rangle$. \n",
    "\n",
    "The naive encoding could be $e(A)=00, e(B)=01, e(C)=10, e(D)=11$. This is a *fixed-length* encoding of $\\Sigma$. The length of the document with this encoding is $2\\cdot 12 = 24$. The encoding is:\n",
    "\n",
    "$e(D) = \"000000000000000000011011\"$\n",
    "\n",
    "But this doesn't account for redundancy in the document. Let $f: \\sigma \\rightarrow [0,1]$ be the frequency of the characters in $D$; this is easily computed in $O(|D|)$ work. What about the span?\n",
    "\n",
    "Intuitively, we should encode the document by the frequency of the characters in the alphabet.\n",
    "\n",
    "Suppose we used $e'(A) = 0$, what does this mean for the encodings of the other characters? \n",
    "\n",
    "No other character can be encoded with a leading $0$. So we could use $e'(B) = 10, e'(C) = 110, e'(D) = 111.$ This leads to an encoding of:\n",
    "\n",
    "$e'(D) = \"0000000001011100\"$\n",
    "\n",
    "This has length $1\\cdot 9 + 2\\cdot 1 + 3\\cdot 1 + 3\\cdot 1 = 17$. So this is a bit better. \n",
    "\n",
    "In general, the cost of a given encoding $e$ is \n",
    "\n",
    "$$C(e) = \\sum_{i=0}^{|D|} |e(D[i])| = |D| \\sum_{\\sigma\\in\\Sigma} f(\\sigma)\\cdot e(\\sigma).$$\n",
    "\n",
    "Over all possible valid encodings $e: \\Sigma \\rightarrow \\{0,1\\}^*$, we want to find a variable-length encoding $e_*$ so that $C(e_*)$ is minimized.\n",
    "\n"
   ]
  },
  {
   "cell_type": "markdown",
   "metadata": {
    "slideshow": {
     "slide_type": "slide"
    }
   },
   "source": [
    "### Encodings as Trees\n",
    "\n",
    "How do we ensure that a variable-length encoding is valid? In other words, how do we only consider variable-length encodings that are *prefix-free*?\n",
    "\n",
    "We can think of an encoding as representing a tree, with characters from $\\sigma$ as leaves. Note that a fixed-length encoding has all leaves at the same level. \n",
    "\n",
    "For the two encodings we gave, we'd have:\n",
    "\n",
    "<img src = \"encoding_trees.jpg\" width=\"60%\">\n",
    "\n",
    "Every prefix-free encoding $e$ can be represented by a tree $T_e$, so the optimal compression of $D$ can be achieved by identifying the encoding tree $T$ that minimizes:\n",
    "\n",
    "$$C(T) = \\sum_{\\sigma\\in\\Sigma} f(\\sigma)\\cdot d_T(\\sigma)$$\n",
    "\n",
    "We will come up with a greedy algorithm for constructing $T$ and show that it is optimal.\n"
   ]
  },
  {
   "cell_type": "markdown",
   "metadata": {
    "slideshow": {
     "slide_type": "slide"
    }
   },
   "source": [
    "### Huffman Coding\n",
    "\n",
    "\n",
    "Intuitively we know we should ensure that when constructing an encoding tree, the higher the frequency, the shorter the path length.\n",
    "\n",
    "How about if we sort the frequencies in descending order and then assign tree positions in this order? But how do we guarantee the highest frequency characters have a short depth? \n",
    "\n",
    "We could group the characters into two sets of equal total frequency, this way the more frequent characters will have lower depth. This divide-and-conquer approach was developed by Shannon-Fano... but is not optimal.\n",
    "\n",
    "Unfortunately Shannon-Fano coding is not provably optimal. David Huffman (as a graduate student in Robert Fano's class) came up with a *bottom-up* greedy algorithm as a class project and was able to prove that it was optimal.\n",
    "\n",
    "The main idea of this algorithm is to choose the two **least** frequent characters $x$ and $y$ and create a subtree with $x$ and $y$ as sibling leaves for the final encoding. We then remove $x$ and $y$ from $\\Sigma$ and add a *new* character $z$ with frequency $f(x)+f(y)$, and recurse to compute a tree $T'$. The final tree $T$ is just $T'$ with $z$ replaced by the subtree with $x, y$ as siblings. \n",
    "\n",
    "<img src=\"huffman_example.jpg\" width=\"60%\">\n",
    "\n",
    "\n",
    "**SPARC code for Huffman coding**\n",
    "\n",
    "We can use a priority queue to construct $T$, so the work required is $O(n\\log n)$ where $n=|\\Sigma |.$ "
   ]
  },
  {
   "cell_type": "markdown",
   "metadata": {
    "slideshow": {
     "slide_type": "slide"
    }
   },
   "source": [
    "### Proof of Optimality\n",
    "\n",
    "**Greedy Choice**: Let $x, y\\in\\Sigma$ have the two smallest frequencies ($f(x) \\leq f(y)$. Then there is an optimal encoding $T$ for $\\Sigma$ with $x, y$ as sibling leaves at maximum depth. \n",
    "\n",
    "**Proof**: First let us observe that in an optimal solution $T^*$, $x$ must have maximum depth. Suppose that it did not, and some character $a$ with frequency $f(a)$ had depth $d_(T^*)(a) > d_(T^*)(x)$. Then we can construct a new tree $T^{**}$ with cost\n",
    "\n",
    "$\\begin{eqnarray*}\n",
    "C(T^{**}) &=& C(T^*) - f(a)d_{T^*}(a)  - f(x)d_{T^*}(x) + f(x)d_{T^*}(a) + f(x)d_{T^*}(x) \\\\\n",
    "&=& C(T^*) - (f(a)d_{T^*}(a) + f(x)d_{T^*}(x) - f(x)d_{T^*}(a) - f(x)d_{T^*}(x)) \\\\\n",
    "&=& C(T^*) - (f(a)-f(x))(d_{T^*}(a) - d_{T^*}(x)) \\\\\n",
    "\\end{eqnarray*}$\n",
    "\n",
    "If $f(a) > f(x)$ then $C(T^{**}) < C(T^*)$, which is a contradiction. So this means that we can swap $a$ and $x$ without changing the cost and thus some optimal solution has $x$ as a maximum depth leaf.\n",
    "\n",
    "<img src = \"huffman_exchange_argument.jpg\" width = \"35%\">\n",
    "\n",
    "Now why are $x$ and $y$ siblings? Well, first we can observe that every leaf in an optimal tree has a sibling. If not, we can reduce the encoding cost of some character. Now we can apply the same swapping argument as above to establish that $y$ is a sibling of $x$ in some optimal solution.\n",
    "\n",
    "\n",
    "**Optimal Substructure**: Let $\\Sigma' = \\Sigma - \\{x, y\\} \\cup \\{z\\}$, where $z\\not\\in \\Sigma$ is a character with frequency $f(z) = f(x) + f(y)$. If $T'$ is an optimal encoding for $\\Sigma'$, then an optimal encoding $T$ for $\\Sigma$ can be constructed from $T'$ by replacing the leaf representing $z$ with an internal node that has $x, y$ as children. \n",
    "\n",
    "**Proof**: We first make a useful observation of the relationship between the cost of $T$ and $T'$. Observe that:\n",
    "\n",
    "$\\begin{eqnarray*}\n",
    "C(T) &=& \\sum_{\\sigma\\in\\Sigma} f(\\sigma)d_T(\\sigma) \\\\\n",
    "&=& f(x)d_T(x) + f(y)d_T(y) + \\sum_{\\sigma\\in\\Sigma - \\{x,y\\}} f(\\sigma)d_T(\\sigma) \\\\\n",
    "&=& (f(x)+f(y))(1+d_T(z)) + \\sum_{\\sigma\\in\\Sigma - \\{x,y\\}} f(\\sigma)d_T(\\sigma) \\\\\n",
    "&=& (f(z))(1+d_T(z)) + \\sum_{\\sigma\\in\\Sigma - \\{x,y\\}} f(\\sigma)d_T(\\sigma) \\\\\n",
    "&=& f(z) + C(T') \\\\\n",
    "\\end{eqnarray*}$\n",
    "\n",
    "Suppose that $T$ was not optimal, and that there was some other tree $Z$ with $C(Z) < C(T)$. We can assume that $Z$ must have the two smallest frequency characters as siblings at maximum depth as established above. Now let's construct  \n",
    "$Z'$ by removing $x, y$ and adding $z$ with $f(z) = f(x)+f(y)$). $Z'$ is an encoding for $\\sigma'$, and we have that $C(Z) = f(z) + C(Z')$. By our assumption $C(Z) < C(T)$, so $f(z) + C(Z') < f(z) + C(T)$ using the observation above. But this is a contradiction to the optimality of $T'$ since we now have that $C(Z') < C(T').$\n",
    "\n",
    "Thus Huffman coding produces an optimal prefix-free encoding. \n"
   ]
  },
  {
   "cell_type": "markdown",
   "metadata": {
    "slideshow": {
     "slide_type": "slide"
    }
   },
   "source": [
    "So how do we use Huffman coding in practice?\n",
    "\n",
    "Given a document $D$, we would compute frequencies and then construct an encoding tree $T$. Then to store the compressed version of $D$ we save the encoding of $\\Sigma$, the tree $T$ and the encoded version of $D$. To decode a document, we would read bits sequentially and traverse $T$, emitting the appropriate character from $\\Sigma$ whenever we hit a leaf. Notice that the cost of decoding is $O(|D|C(T))$."
   ]
  },
  {
   "cell_type": "code",
   "execution_count": null,
   "metadata": {},
   "outputs": [],
   "source": []
  }
 ],
 "metadata": {
  "celltoolbar": "Slideshow",
  "kernelspec": {
   "display_name": "Python 3",
   "language": "python",
   "name": "python3"
  },
  "language_info": {
   "codemirror_mode": {
    "name": "ipython",
    "version": 3
   },
   "file_extension": ".py",
   "mimetype": "text/x-python",
   "name": "python",
   "nbconvert_exporter": "python",
   "pygments_lexer": "ipython3",
   "version": "3.6.5"
  },
  "rise": {
   "autolaunch": true,
   "controls": false,
   "enable_chalkboard": true,
   "scroll": true,
   "theme": "simple",
   "transition": "fade"
  },
  "toc": {
   "base_numbering": 1,
   "nav_menu": {},
   "number_sections": true,
   "sideBar": true,
   "skip_h1_title": true,
   "title_cell": "Table of Contents",
   "title_sidebar": "Contents",
   "toc_cell": true,
   "toc_position": {},
   "toc_section_display": true,
   "toc_window_display": false
  }
 },
 "nbformat": 4,
 "nbformat_minor": 4
}
