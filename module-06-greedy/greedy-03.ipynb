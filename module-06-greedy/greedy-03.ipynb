{
 "cells": [
  {
   "cell_type": "code",
   "execution_count": 3,
   "metadata": {
    "code_folding": [],
    "slideshow": {
     "slide_type": "skip"
    }
   },
   "outputs": [
    {
     "data": {
      "text/html": [
       "<style>.prompt{width: 0px; min-width: 0px; visibility: collapse}</style>"
      ],
      "text/plain": [
       "<IPython.core.display.HTML object>"
      ]
     },
     "metadata": {},
     "output_type": "display_data"
    },
    {
     "data": {
      "text/html": [
       "<style>\n",
       "div#notebook {\n",
       " font-family: \"Exo_2\", sans-serif;\n",
       "}\n",
       "\n",
       ".rendered_html h1,\n",
       ".text_cell_render h1 {\n",
       " color: #126dce;\n",
       " font-size: 220%;\n",
       " text-align: center;\n",
       " font-weight: lighter;\n",
       "}\n",
       ".rendered_html h2,\n",
       ".text_cell_render h2 {\n",
       " text-align: center;\n",
       " font-size: 170%;\n",
       " color: #126dce;\n",
       " font-style: normal;\n",
       " font-weight: lighter;\n",
       "}\n",
       ".rendered_html h3,\n",
       ".text_cell_render h3 {\n",
       " font-size: 150%;\n",
       " color: #126dce;\n",
       " font-weight: lighter;\n",
       " text-decoration: italic;\n",
       " font-style: normal;\n",
       "}\n",
       ".rendered_html h4,\n",
       ".text_cell_render h4 {\n",
       " font-size: 120%;\n",
       " color: #126dce;\n",
       " font-weight: underline;\n",
       " font-style: normal;\n",
       "}\n",
       ".rendered_html h5,\n",
       ".text_cell_render h5 {\n",
       " font-size: 100%;\n",
       " color: #2f2f2f;\n",
       " font-weight: lighter;\n",
       " text-decoration: underline;\n",
       "}\n",
       "</style>\n"
      ],
      "text/plain": [
       "<IPython.core.display.HTML object>"
      ]
     },
     "metadata": {},
     "output_type": "display_data"
    }
   ],
   "source": [
    "# setup\n",
    "from IPython.core.display import display,HTML\n",
    "display(HTML('<style>.prompt{width: 0px; min-width: 0px; visibility: collapse}</style>'))\n",
    "display(HTML(open('rise.css').read()))\n",
    "\n",
    "# imports\n",
    "import numpy as np\n",
    "import matplotlib.pyplot as plt\n",
    "import seaborn as sns\n",
    "%matplotlib inline\n",
    "sns.set(style=\"whitegrid\", font_scale=1.5, rc={'figure.figsize':(12, 6)})\n"
   ]
  },
  {
   "cell_type": "markdown",
   "metadata": {
    "slideshow": {
     "slide_type": "slide"
    }
   },
   "source": [
    "# CMPS 2200\n",
    "# Introduction to Algorithms\n",
    "\n",
    "## Data Compression\n"
   ]
  },
  {
   "cell_type": "markdown",
   "metadata": {
    "slideshow": {
     "slide_type": "slide"
    }
   },
   "source": [
    "Today's agenda:\n",
    "\n",
    "- Huffman Coding"
   ]
  },
  {
   "cell_type": "markdown",
   "metadata": {
    "slideshow": {
     "slide_type": "slide"
    }
   },
   "source": [
    "Suppose we are given a document $D$ in which we use the alphabet $\\Sigma$. Our goal is to create $\\sigma$ to a binary encoding to represent $D$ with as few bits as possible. Of course, the encoding must be distinctly represent $\\Sigma$.\n",
    "\n",
    "Example: Suppose $\\sigma=\\{A, B, C, D\\}$, and document $D = \\langle A, A, A, A, A, A, A, A, A, B, C, D\\rangle$. \n",
    "\n",
    "The naive encoding could be $e(A)=00, e(B)=01, e(C)=10, e(D)=11$. This is a *fixed-length* encoding of $\\Sigma$. The length of the document with this encoding is $2\\cdot 12 = 24$. The encoding is:\n",
    "\n",
    "$e(D) = \"000000000000000000011011\"$\n",
    "\n",
    "But this doesn't account for redundancy in the document. Let $f: \\sigma \\rightarrow [0,1]$ be the frequency of the characters in $D$; this is easily computed in $O(|D|)$ work. What about the span?\n",
    "\n",
    "Intuitively, we should encode the document by the frequency of the characters in the alphabet.\n",
    "\n",
    "Suppose we used $e'(A) = 0$, what does this mean for the encodings of the other characters? \n",
    "\n",
    "No other character can be encoded with a leading $0$. So we could use $e'(B) = 10, e'(C) = 110, e'(D) = 111.$ This leads to an encoding of:\n",
    "\n",
    "$e'(D) = \"0000000001011100\"$\n",
    "\n",
    "This has length $1\\cdot 9 + 2\\cdot 1 + 3\\cdot 1 + 3\\cdot 1 = 17$. So this is a bit better. \n",
    "\n",
    "In general, the cost of a given encoding $e$ is \n",
    "\n",
    "$$C(e) = \\sum_{i=0}^{|D|} |e(D[i])| = |D| \\sum_{\\sigma\\in\\Sigma} f(\\sigma)\\cdot e(\\sigma).$$\n",
    "\n",
    "Over all possible valid encodings $e: \\Sigma \\rightarrow \\{0,1\\}^*$, we want to find a variable-length encoding $e_*$ so that $C(e_*)$ is minimized.\n",
    "\n"
   ]
  },
  {
   "cell_type": "markdown",
   "metadata": {
    "slideshow": {
     "slide_type": "slide"
    }
   },
   "source": [
    "### Encodings as Trees\n",
    "\n",
    "How do we ensure that a variable-length encoding is valid? In other words, how do we only consider variable-length encodings that are *prefix-free*?\n",
    "\n",
    "We can think of an encoding as representing a tree, with characters from $\\sigma$ as leaves. Note that a fixed-length encoding has all leaves at the same level. \n",
    "\n",
    "For the two encodings we gave, we'd have:\n",
    "\n",
    "<img src = \"encoding_trees.jpg\" width=\"60%\">\n",
    "\n",
    "Every prefix-free encoding $e$ can be represented by a tree $T_e$, so the optimal compression of $D$ can be achieved by identifying the encoding tree $T$ that minimizes:\n",
    "\n",
    "$$C(T) = \\sum_{\\sigma\\in\\Sigma} f(\\sigma)\\cdot d_T(\\sigma)$$\n",
    "\n",
    "We will come up with a greedy algorithm for constructing $T$ and show that it is optimal.\n"
   ]
  },
  {
   "cell_type": "markdown",
   "metadata": {
    "slideshow": {
     "slide_type": "slide"
    }
   },
   "source": [
    "### Huffman Coding\n",
    "\n",
    "\n",
    "Intuitively we know we should ensure that when constructing an encoding tree, the higher the frequency, the shorter the path length.\n",
    "\n",
    "How about if we sort the frequencies in descending order and then assign tree positions in this order? But how do we guarantee the highest frequency characters have a short depth? \n",
    "\n",
    "We could group the characters into two sets of equal total frequency, this way the more frequent characters will have lower depth. This divide-and-conquer approach was developed by Shannon-Fano... but is not optimal.\n",
    "\n",
    "Unfortunately Shannon-Fano coding is not provably optimal. David Huffman (as a graduate student in Robert Fano's class) came up with a *bottom-up* greedy algorithm as a class project and was able to prove that it was optimal.\n",
    "\n",
    "The main idea of this algorithm is to choose the two **least** frequent characters $x$ and $y$ and create a subtree with $x$ and $y$ as sibling leaves for the final encoding. We then remove $x$ and $y$ from $\\Sigma$ and add a *new* character $z$ with frequency $f(x)+f(y)$, and recurse to compute a tree $T'$. The final tree $T$ is just $T'$ with $z$ replaced by the subtree with $x, y$ as siblings. \n",
    "\n",
    "<img src=\"huffman_example.jpg\" width=\"60%\">\n",
    "\n",
    "We can use a priority queue to construct $T$, so the work required is $O(n\\log n)$ where $n=|\\Sigma |.$ "
   ]
  },
  {
   "cell_type": "markdown",
   "metadata": {
    "slideshow": {
     "slide_type": "slide"
    }
   },
   "source": [
    "### Proof of Optimality\n",
    "\n",
    "**Greedy Choice**: Let $x, y\\in\\Sigma$ have the two smallest frequencies. Then there is an optimal encoding $T$ for $\\Sigma$ with $x, y$ as sibling leaves at maximum depth. \n",
    "\n",
    "**Proof**: If not, we could exchange our way to a better optimal solution.\n",
    "\n",
    "**Optimal Substructure**: Let $\\Sigma' = \\Sigma - \\{x, y\\} \\cup \\{z\\}$, where $z\\not\\in \\Sigma$ is a character with frequency $f(x) + f(y)$. If $T'$ is an optimal encoding for $\\Sigma'$, then an optimal encoding $T$ for $\\Sigma$ can be constructed from $T'$ by replacing the leaf representing $z$ with an internal node that has $x, y$ as children. \n",
    "\n",
    "**Proof** Suppose that there was some other alternative tree $Z$ that have $C(Z) < C(T)$. We can assume that $Z$ must have the two smallest frequency characters as siblings at maximum depth (by the same exchange argument). \n",
    "\n",
    "From $Z$ we can then construct $Z'$ (with $x, y$ removed and replaced with $z$ having frequency $f(x)+f(y)$). Then we show that $C(Z') < C(T')$ which is a contradiction.\n"
   ]
  },
  {
   "cell_type": "markdown",
   "metadata": {},
   "source": []
  },
  {
   "cell_type": "code",
   "execution_count": null,
   "metadata": {},
   "outputs": [],
   "source": []
  }
 ],
 "metadata": {
  "celltoolbar": "Slideshow",
  "kernelspec": {
   "display_name": "Python 3",
   "language": "python",
   "name": "python3"
  },
  "language_info": {
   "codemirror_mode": {
    "name": "ipython",
    "version": 3
   },
   "file_extension": ".py",
   "mimetype": "text/x-python",
   "name": "python",
   "nbconvert_exporter": "python",
   "pygments_lexer": "ipython3",
   "version": "3.6.5"
  },
  "rise": {
   "autolaunch": true,
   "controls": false,
   "enable_chalkboard": true,
   "scroll": true,
   "theme": "simple",
   "transition": "fade"
  },
  "toc": {
   "base_numbering": 1,
   "nav_menu": {},
   "number_sections": true,
   "sideBar": true,
   "skip_h1_title": true,
   "title_cell": "Table of Contents",
   "title_sidebar": "Contents",
   "toc_cell": true,
   "toc_position": {},
   "toc_section_display": true,
   "toc_window_display": false
  }
 },
 "nbformat": 4,
 "nbformat_minor": 4
}
