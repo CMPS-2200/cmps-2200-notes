{
 "cells": [
  {
   "cell_type": "code",
   "execution_count": 112,
   "metadata": {
    "code_folding": [
     0
    ],
    "slideshow": {
     "slide_type": "skip"
    }
   },
   "outputs": [
    {
     "data": {
      "text/html": [
       "<style>.prompt{width: 0px; min-width: 0px; visibility: collapse}</style>"
      ],
      "text/plain": [
       "<IPython.core.display.HTML object>"
      ]
     },
     "metadata": {},
     "output_type": "display_data"
    },
    {
     "data": {
      "text/html": [
       "<style>\n",
       "div#notebook {\n",
       " font-family: \"Exo_2\", sans-serif;\n",
       "}\n",
       "\n",
       ".rendered_html h1,\n",
       ".text_cell_render h1 {\n",
       " color: #126dce;\n",
       " font-size: 220%;\n",
       " text-align: center;\n",
       " font-weight: lighter;\n",
       "}\n",
       ".rendered_html h2,\n",
       ".text_cell_render h2 {\n",
       " text-align: center;\n",
       " font-size: 170%;\n",
       " color: #126dce;\n",
       " font-style: normal;\n",
       " font-weight: lighter;\n",
       "}\n",
       ".rendered_html h3,\n",
       ".text_cell_render h3 {\n",
       " font-size: 150%;\n",
       " color: #126dce;\n",
       " font-weight: lighter;\n",
       " text-decoration: italic;\n",
       " font-style: normal;\n",
       "}\n",
       ".rendered_html h4,\n",
       ".text_cell_render h4 {\n",
       " font-size: 120%;\n",
       " color: #126dce;\n",
       " font-weight: underline;\n",
       " font-style: normal;\n",
       "}\n",
       ".rendered_html h5,\n",
       ".text_cell_render h5 {\n",
       " font-size: 100%;\n",
       " color: #2f2f2f;\n",
       " font-weight: lighter;\n",
       " text-decoration: underline;\n",
       "}\n",
       "</style>\n"
      ],
      "text/plain": [
       "<IPython.core.display.HTML object>"
      ]
     },
     "metadata": {},
     "output_type": "display_data"
    }
   ],
   "source": [
    "# setup\n",
    "from IPython.core.display import display,HTML\n",
    "display(HTML('<style>.prompt{width: 0px; min-width: 0px; visibility: collapse}</style>'))\n",
    "display(HTML(open('rise.css').read()))\n",
    "\n",
    "# imports\n",
    "import numpy as np\n",
    "import matplotlib.pyplot as plt\n",
    "import seaborn as sns\n",
    "%matplotlib inline\n",
    "sns.set(style=\"whitegrid\", font_scale=1.5, rc={'figure.figsize':(12, 6)})\n"
   ]
  },
  {
   "cell_type": "markdown",
   "metadata": {
    "slideshow": {
     "slide_type": "slide"
    }
   },
   "source": [
    "# CMPS 2200\n",
    "# Introduction to Algorithms\n",
    "\n",
    "## Lecture 2: Parallelism\n"
   ]
  },
  {
   "cell_type": "markdown",
   "metadata": {
    "slideshow": {
     "slide_type": "slide"
    }
   },
   "source": [
    "Today's agenda:\n",
    "\n",
    "- Motivate why we are using parallel algorithms\n",
    "- Overview of how to analyze parallel algorithms"
   ]
  },
  {
   "cell_type": "markdown",
   "metadata": {
    "slideshow": {
     "slide_type": "slide"
    }
   },
   "source": [
    "## What is parallelism? (aka parallel computing)"
   ]
  },
  {
   "cell_type": "markdown",
   "metadata": {
    "slideshow": {
     "slide_type": "fragment"
    }
   },
   "source": [
    "> ability to run multiple computations at the same time"
   ]
  },
  {
   "cell_type": "markdown",
   "metadata": {
    "slideshow": {
     "slide_type": "slide"
    }
   },
   "source": [
    "## Why study parallel algorithms?"
   ]
  },
  {
   "cell_type": "markdown",
   "metadata": {
    "slideshow": {
     "slide_type": "fragment"
    }
   },
   "source": [
    "- faster\n",
    "- lower energy usage\n",
    "  + performing a computation twice as fast sequentially requires roughly eight times as much energy\n",
    "  + energy consumption is a cubic function of clock frequency\n",
    "- better hardware now available\n",
    "  + multicore processors are the norm\n",
    "  + GPUs (graphics processor units)\n",
    "  \n",
    "E.g., more than **one million** core machines now possible:  \n",
    "SpiNNaker (Spiking Neural Network Architecture), University of Manchester  \n",
    "<img src=\"https://upload.wikimedia.org/wikipedia/commons/9/97/Spinn_1m_pano.jpg\" alt=\"SpiNNaker\"/>\n",
    "\n",
    "\n",
    "<br><br>\n",
    "\n",
    "**supporting Moore's Law since 2004**\n",
    "\n",
    "<img src=\"https://upload.wikimedia.org/wikipedia/commons/8/8b/Moore%27s_Law_Transistor_Count_1971-2018.png\"/>"
   ]
  },
  {
   "cell_type": "markdown",
   "metadata": {
    "slideshow": {
     "slide_type": "slide"
    }
   },
   "source": [
    "## Example: Summing a list\n",
    "\n",
    "Summing can easily be parallelised by splitting the input list into two (or $k$) pieces.\n",
    "\n",
    "\n",
    "```python\n",
    "def total(mylist):\n",
    "    result = 0\n",
    "    for v in mylist:\n",
    "        result += v\n",
    "    return result\n",
    "```\n",
    "\n",
    "<br>\n",
    "\n",
    "becomes\n",
    "\n",
    "<br>\n",
    "\n",
    "```python\n",
    "def parallel_total(mylist):\n",
    "\n",
    "    result1, result2 = run_parallel(\n",
    "        total(mylist[:len(mylist)//2]),\n",
    "        total(mylist[len(mylist)//2:])\n",
    "    )\n",
    "\n",
    "    # combine results\n",
    "    return result1 + result2\n",
    "```\n",
    "    \n",
    "    \n",
    "<br><br>\n",
    "    \n",
    "- How much faster should parallel version be?\n",
    "- How much energy is consumed?"
   ]
  },
  {
   "cell_type": "markdown",
   "metadata": {
    "slideshow": {
     "slide_type": "slide"
    }
   },
   "source": [
    "Parallel version of `total` is twice as fast with same amount of energy\n",
    "\n",
    "<br><br>\n",
    "...almost. This ignores the **overhead** to setup parallel code and communicate/combine results.\n",
    "\n",
    "$O(\\frac{n}{2}) + O(1)$  \n",
    "$O(1)$  to combine results\n",
    "\n",
    "\n",
    "<br>\n",
    "some current state-of-the-art results:\n",
    "\n",
    "| application                           | sequential | parallel (32 core) | speedup |\n",
    "|---------------------------------------|------------|--------------------|---------|\n",
    "| sort $10^7$ strings                   | 2.9        | .095               | 30x     | \n",
    "| remove duplicated from $10^7$ strings | .66        | .038               | 17x     | \n",
    "| min. spanning tree for $10^7$ edges   | 1.6        | .14                | 11x     | \n",
    "| breadth first search for $10^7$ edges | .82        | .046               | 18x     |\n",
    "\n",
    "The **speedup** of a parellel algorithm $P$ over a sequential algorithms $S$ is:\n",
    "$$\n",
    "speedup(P,S) = \\frac{T(S)}{T(P)}\n",
    "$$"
   ]
  },
  {
   "cell_type": "markdown",
   "metadata": {
    "slideshow": {
     "slide_type": "slide"
    }
   },
   "source": [
    "## Parallel software\n",
    "\n",
    "So why isn't all software parallel?"
   ]
  },
  {
   "cell_type": "markdown",
   "metadata": {
    "slideshow": {
     "slide_type": "fragment"
    }
   },
   "source": [
    "**dependency**\n",
    "\n",
    "> The fundamental challenge of parallel algorithms is that computations must be **independent** to be performed in parallel.  Parallel computations should not depend on each other."
   ]
  },
  {
   "cell_type": "markdown",
   "metadata": {
    "slideshow": {
     "slide_type": "fragment"
    }
   },
   "source": [
    "**What should this code output?**"
   ]
  },
  {
   "cell_type": "markdown",
   "metadata": {
    "slideshow": {
     "slide_type": "skip"
    }
   },
   "source": [
    "run this a few times and see if output changes..."
   ]
  },
  {
   "cell_type": "code",
   "execution_count": 118,
   "metadata": {
    "slideshow": {
     "slide_type": "fragment"
    }
   },
   "outputs": [
    {
     "name": "stdout",
     "output_type": "stream",
     "text": [
      "200000\n"
     ]
    }
   ],
   "source": [
    "import threading\n",
    "\n",
    "total = 0\n",
    "\n",
    "def count():\n",
    "    global total\n",
    "    for _ in range(100000):\n",
    "        total += 1\n",
    "    \n",
    "def race_condition_example():\n",
    "    global total\n",
    "    t1 = threading.Thread(target=count)\n",
    "    t2 = threading.Thread(target=count)\n",
    "    t1.start()  # launch first thread in parallel\n",
    "    t2.start()  # launch second thread in parallel\n",
    "    t1.join()   # wait for first thread to complete\n",
    "    t2.join()   # wait for second thread to complete\n",
    "    print(total)\n",
    "    \n",
    "race_condition_example()"
   ]
  },
  {
   "cell_type": "markdown",
   "metadata": {
    "slideshow": {
     "slide_type": "fragment"
    }
   },
   "source": [
    "#### Counting in parallel is hard!\n",
    "\n",
    "- motivates functional programming (next class)\n",
    "\n",
    "This course will focus on:\n",
    "- understanding when things can run in parallel and when they cannot\n",
    "- algorithm, not hardware specifics (though see CMPS 4760: Distributed Systems)\n",
    "- runtime analysis"
   ]
  },
  {
   "cell_type": "markdown",
   "metadata": {
    "slideshow": {
     "slide_type": "slide"
    }
   },
   "source": [
    "## Analyzing parallel algorithms\n",
    "\n",
    "> **work**: total number of primitive operations performed by an algorithm\n",
    "\n",
    "- For sequential machine, just total sequential time.\n",
    "- On parallel machine, work is divided among $P$ processors"
   ]
  },
  {
   "cell_type": "markdown",
   "metadata": {
    "slideshow": {
     "slide_type": "fragment"
    }
   },
   "source": [
    "> **perfect speedup**: dividing $W$ work across $P$ processors yields total time $\\frac{W}{P}$"
   ]
  },
  {
   "cell_type": "markdown",
   "metadata": {
    "slideshow": {
     "slide_type": "fragment"
    }
   },
   "source": [
    "> **span**: longest sequence of dependencies in computation\n",
    "- time to run with an infinite number of processors\n",
    "- measure of how \"parallelized\" an algorithm is \n",
    "- also called: *critical path length* or *computational depth*\n",
    "\n",
    "<br><br>\n",
    "**intuition**:  \n",
    "**work**: total energy consumed by a computation  \n",
    "**span**: minimum possible time that the computation requires"
   ]
  },
  {
   "cell_type": "markdown",
   "metadata": {
    "slideshow": {
     "slide_type": "slide"
    }
   },
   "source": [
    "**What is work and span of parallel `total` algorithm?**"
   ]
  },
  {
   "cell_type": "markdown",
   "metadata": {
    "slideshow": {
     "slide_type": "fragment"
    }
   },
   "source": [
    "\n",
    "```python\n",
    "def parallel_total(mylist):\n",
    "    results = run_parallel(\n",
    "        total(mylist[0], key),\n",
    "        total(mylist[1], key),\n",
    "        ...\n",
    "        total(mylist[n], key),\n",
    "    )\n",
    "\n",
    "    # combine results\n",
    "    total = 0\n",
    "    for v in results:\n",
    "        total += v\n",
    "    return total\n",
    "```\n",
    "\n",
    "\n",
    "- work: $O(n)$\n",
    "- span: $O(n)$\n"
   ]
  },
  {
   "cell_type": "markdown",
   "metadata": {
    "slideshow": {
     "slide_type": "fragment"
    }
   },
   "source": [
    "**oops** that didn't work...\n",
    "\n",
    "<br>\n",
    "\n",
    "can we do better?"
   ]
  },
  {
   "cell_type": "markdown",
   "metadata": {
    "slideshow": {
     "slide_type": "fragment"
    }
   },
   "source": [
    "**idea**: parallelize combination step\n",
    "\n",
    "### divide and conquer"
   ]
  },
  {
   "cell_type": "markdown",
   "metadata": {
    "slideshow": {
     "slide_type": "slide"
    }
   },
   "source": [
    "![dag](figures/dag.png)  \n",
    "[source](https://homes.cs.washington.edu/~djg/teachingMaterials/spac/sophomoricParallelismAndConcurrency.pdf)\n"
   ]
  }
 ],
 "metadata": {
  "celltoolbar": "Slideshow",
  "kernelspec": {
   "display_name": "Python 3",
   "language": "python",
   "name": "python3"
  },
  "language_info": {
   "codemirror_mode": {
    "name": "ipython",
    "version": 3
   },
   "file_extension": ".py",
   "mimetype": "text/x-python",
   "name": "python",
   "nbconvert_exporter": "python",
   "pygments_lexer": "ipython3",
   "version": "3.7.3"
  },
  "rise": {
   "autolaunch": true,
   "controls": false,
   "enable_chalkboard": true,
   "scroll": true,
   "theme": "simple",
   "transition": "fade"
  },
  "toc": {
   "base_numbering": 1,
   "nav_menu": {},
   "number_sections": true,
   "sideBar": true,
   "skip_h1_title": true,
   "title_cell": "Table of Contents",
   "title_sidebar": "Contents",
   "toc_cell": true,
   "toc_position": {},
   "toc_section_display": true,
   "toc_window_display": false
  }
 },
 "nbformat": 4,
 "nbformat_minor": 4
}
