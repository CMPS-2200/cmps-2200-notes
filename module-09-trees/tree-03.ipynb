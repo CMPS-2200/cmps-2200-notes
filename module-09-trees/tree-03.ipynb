{
 "cells": [
  {
   "cell_type": "code",
   "execution_count": 1,
   "metadata": {
    "code_folding": [],
    "slideshow": {
     "slide_type": "skip"
    }
   },
   "outputs": [
    {
     "data": {
      "text/html": [
       "<style>.prompt{width: 0px; min-width: 0px; visibility: collapse}</style>"
      ],
      "text/plain": [
       "<IPython.core.display.HTML object>"
      ]
     },
     "metadata": {},
     "output_type": "display_data"
    },
    {
     "data": {
      "text/html": [
       "<style>\n",
       "div#notebook {\n",
       " font-family: \"Exo_2\", sans-serif;\n",
       "}\n",
       "\n",
       ".rendered_html h1,\n",
       ".text_cell_render h1 {\n",
       " color: #126dce;\n",
       " font-size: 220%;\n",
       " text-align: center;\n",
       " font-weight: lighter;\n",
       "}\n",
       ".rendered_html h2,\n",
       ".text_cell_render h2 {\n",
       " text-align: center;\n",
       " font-size: 170%;\n",
       " color: #126dce;\n",
       " font-style: normal;\n",
       " font-weight: lighter;\n",
       "}\n",
       ".rendered_html h3,\n",
       ".text_cell_render h3 {\n",
       " font-size: 150%;\n",
       " color: #126dce;\n",
       " font-weight: lighter;\n",
       " text-decoration: italic;\n",
       " font-style: normal;\n",
       "}\n",
       ".rendered_html h4,\n",
       ".text_cell_render h4 {\n",
       " font-size: 120%;\n",
       " color: #126dce;\n",
       " font-weight: underline;\n",
       " font-style: normal;\n",
       "}\n",
       ".rendered_html h5,\n",
       ".text_cell_render h5 {\n",
       " font-size: 100%;\n",
       " color: #2f2f2f;\n",
       " font-weight: lighter;\n",
       " text-decoration: underline;\n",
       "}\n",
       "</style>\n"
      ],
      "text/plain": [
       "<IPython.core.display.HTML object>"
      ]
     },
     "metadata": {},
     "output_type": "display_data"
    }
   ],
   "source": [
    "# setup\n",
    "from IPython.core.display import display,HTML\n",
    "display(HTML('<style>.prompt{width: 0px; min-width: 0px; visibility: collapse}</style>'))\n",
    "display(HTML(open('../rise.css').read()))\n",
    "\n",
    "# imports\n",
    "import numpy as np\n",
    "import matplotlib.pyplot as plt\n",
    "import seaborn as sns\n",
    "%matplotlib inline\n",
    "sns.set(style=\"whitegrid\", font_scale=1.5, rc={'figure.figsize':(12, 6)})\n"
   ]
  },
  {
   "cell_type": "markdown",
   "metadata": {
    "slideshow": {
     "slide_type": "slide"
    }
   },
   "source": [
    "# CMPS 2200\n",
    "# Introduction to Algorithms\n",
    "\n",
    "## Graph contractions\n"
   ]
  },
  {
   "cell_type": "markdown",
   "metadata": {},
   "source": [
    "- Can we make graph search more parallelizable?\n",
    "  - E.g., $\\lg n$ span?\n",
    "  \n",
    "- We'd like to do divide and conquer, but this won't work. Why?\n",
    "\n",
    "- Instead, we'll do contraction (recall contraction implementation for scan)\n",
    "\n",
    "- Let's take the problem of Graph Connectivity:\n",
    "- Graph Connectivity\n",
    "  - recall we solved this in lab 10\n",
    "  (figure)\n",
    "  - \n",
    "  - BFS has span proportional to diameter\n",
    "      - need to solve each connected component sequentially\n",
    "\n",
    "- Graph partitioning\n",
    "  - subgraphs\n",
    "  - vertex-induced subgraphs\n",
    "  - \n",
    "\n",
    "- The graph connectivity problem is to partition an undirected graph into its components (maximal connected subgraphs)\n",
    "\n",
    "\n",
    "- Graph contraction\n",
    "  - shrink size of graph and solve connectivity of that smaller graph\n",
    "  - solve different components in parallel\n",
    "  - similar idea to divide and conquer, but for graphs\n",
    "  - we'll also use this idea to solve other graph problems, like spanning trees\n",
    "  \n",
    "- contract: $V \\mapsto V^1, V^2$\n",
    "  - $V_1, V_2$ are partitions of the graph\n",
    "  - each is connected, but may not be maximal (figure)\n",
    "  - use a \"representative node\" for each partition \n",
    "  - contract code\n",
    "  \n",
    "Types of contraction\n",
    "- Edge Contraction: Only pairs of vertices connected by an edge are contracted.\n",
    "- Star Contraction: Vertices around a “center star” collapse to the “star”\n",
    "- Tree Contraction: disjoint trees within the graph are identified and vertices in a tree are collapsed to the root.\n",
    "\n",
    "Edge contraction\n",
    "- find \"disjoint\" edges -- no vertices shared.\n",
    "\n",
    "\n",
    "- walk through example\n",
    "\n",
    "- show that it fails on stars. for tomorrow.\n",
    "\n",
    "Lab: do a edge contraction and/or graph partitioning"
   ]
  }
 ],
 "metadata": {
  "celltoolbar": "Slideshow",
  "kernelspec": {
   "display_name": "Python 3",
   "language": "python",
   "name": "python3"
  },
  "language_info": {
   "codemirror_mode": {
    "name": "ipython",
    "version": 3
   },
   "file_extension": ".py",
   "mimetype": "text/x-python",
   "name": "python",
   "nbconvert_exporter": "python",
   "pygments_lexer": "ipython3",
   "version": "3.8.2"
  },
  "rise": {
   "autolaunch": true,
   "controls": false,
   "enable_chalkboard": true,
   "scroll": true,
   "theme": "simple",
   "transition": "fade"
  },
  "toc": {
   "base_numbering": 1,
   "nav_menu": {},
   "number_sections": true,
   "sideBar": true,
   "skip_h1_title": true,
   "title_cell": "Table of Contents",
   "title_sidebar": "Contents",
   "toc_cell": true,
   "toc_position": {},
   "toc_section_display": true,
   "toc_window_display": false
  }
 },
 "nbformat": 4,
 "nbformat_minor": 4
}
