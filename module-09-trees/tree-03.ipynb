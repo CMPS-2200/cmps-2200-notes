{
 "cells": [
  {
   "cell_type": "code",
   "execution_count": 1,
   "metadata": {
    "code_folding": [],
    "slideshow": {
     "slide_type": "skip"
    }
   },
   "outputs": [
    {
     "data": {
      "text/html": [
       "<style>.prompt{width: 0px; min-width: 0px; visibility: collapse}</style>"
      ],
      "text/plain": [
       "<IPython.core.display.HTML object>"
      ]
     },
     "metadata": {},
     "output_type": "display_data"
    },
    {
     "data": {
      "text/html": [
       "<style>\n",
       "div#notebook {\n",
       " font-family: \"Exo_2\", sans-serif;\n",
       "}\n",
       "\n",
       ".rendered_html h1,\n",
       ".text_cell_render h1 {\n",
       " color: #126dce;\n",
       " font-size: 220%;\n",
       " text-align: center;\n",
       " font-weight: lighter;\n",
       "}\n",
       ".rendered_html h2,\n",
       ".text_cell_render h2 {\n",
       " text-align: center;\n",
       " font-size: 170%;\n",
       " color: #126dce;\n",
       " font-style: normal;\n",
       " font-weight: lighter;\n",
       "}\n",
       ".rendered_html h3,\n",
       ".text_cell_render h3 {\n",
       " font-size: 150%;\n",
       " color: #126dce;\n",
       " font-weight: lighter;\n",
       " text-decoration: italic;\n",
       " font-style: normal;\n",
       "}\n",
       ".rendered_html h4,\n",
       ".text_cell_render h4 {\n",
       " font-size: 120%;\n",
       " color: #126dce;\n",
       " font-weight: underline;\n",
       " font-style: normal;\n",
       "}\n",
       ".rendered_html h5,\n",
       ".text_cell_render h5 {\n",
       " font-size: 100%;\n",
       " color: #2f2f2f;\n",
       " font-weight: lighter;\n",
       " text-decoration: underline;\n",
       "}\n",
       "</style>\n"
      ],
      "text/plain": [
       "<IPython.core.display.HTML object>"
      ]
     },
     "metadata": {},
     "output_type": "display_data"
    }
   ],
   "source": [
    "# setup\n",
    "from IPython.core.display import display,HTML\n",
    "display(HTML('<style>.prompt{width: 0px; min-width: 0px; visibility: collapse}</style>'))\n",
    "display(HTML(open('../rise.css').read()))\n",
    "\n",
    "# imports\n",
    "import numpy as np\n",
    "import matplotlib.pyplot as plt\n",
    "import seaborn as sns\n",
    "%matplotlib inline\n",
    "sns.set(style=\"whitegrid\", font_scale=1.5, rc={'figure.figsize':(12, 6)})\n"
   ]
  },
  {
   "cell_type": "markdown",
   "metadata": {
    "slideshow": {
     "slide_type": "slide"
    }
   },
   "source": [
    "# CMPS 2200\n",
    "# Introduction to Algorithms\n",
    "\n",
    "## Graph contractions\n"
   ]
  },
  {
   "cell_type": "markdown",
   "metadata": {
    "slideshow": {
     "slide_type": "slide"
    }
   },
   "source": [
    "So far, we have seen pretty limited parallelism in our graph algorithms:\n",
    "\n",
    "- BFS: Span=$O(d \\lg^2 n)$, where $d$ is the **diameter** of graph\n",
    "  - So, serial in the worst case.\n",
    "- DFS, Dijkstra, Prim, Kruskal: serial\n",
    "- Bellman-Ford: Update shortest paths to each node in parallel, span = $O(|V| \\lg |V|)$\n",
    "- Johnson: can run Dijkstra in parallel for each source, span=$O(|E| \\lg |E|)$ \n",
    "\n",
    "\n",
    "\n",
    "<br>\n",
    "\n",
    "Is there any way to expose more parellelism?\n",
    "\n",
    "<br>\n",
    "\n",
    "What would a divide and conquer algorithm look like for graphs?\n"
   ]
  },
  {
   "cell_type": "markdown",
   "metadata": {
    "slideshow": {
     "slide_type": "fragment"
    }
   },
   "source": [
    "Could we partition the graph and combine solutions to each partition?\n",
    "\n",
    "<center>\n",
    "    <img src=\"figures/partition.jpg\"/>\n",
    "</center>\n",
    "\n",
    "<br> <br>\n",
    "\n",
    "\n",
    "- Want nearly equal-sized partitions -- this is hard to compute!\n",
    "\n",
    "- The edges between partitions will make it difficult to solve subproblems independently.\n",
    "\n"
   ]
  },
  {
   "cell_type": "markdown",
   "metadata": {
    "slideshow": {
     "slide_type": "fragment"
    }
   },
   "source": [
    "\n",
    "Recall **contraction**, which we used to implement `scan`:\n",
    "\n",
    "![figures/scan.png](figures/scan.png)\n",
    "\n",
    "\n",
    "1. Reduce problem size by a constant factor (e.g., half as large). (**contraction**)\n",
    "2. Solve this smaller problem.\n",
    "3. Expand solution to solve the larger problem. (**expansion**)\n",
    "\n",
    "In the next few lectures, we'll develop contraction algorithms to achieve better parallelism in graph algorithms."
   ]
  },
  {
   "cell_type": "markdown",
   "metadata": {
    "slideshow": {
     "slide_type": "slide"
    }
   },
   "source": [
    "## Graph partitions\n",
    "\n",
    "How can we partition a graph?\n",
    "\n",
    "How do we represent the partitions?\n",
    "\n",
    "<br><br>\n",
    "\n",
    "Recall the notion of **graph cut** we introduced to describe the light-edge property of the MST problem:\n",
    "\n",
    "A **graph cut** of a graph $(G,V)$ is a partitioning of vertices $V_1 \\subset V$, $V_2 = V - V_1$.\n",
    "\n",
    "Each vertex set $V_i \\subset V$ defines a **vertex-induced subgraph** consisting of edges where both endpoints are in $V_i$.\n",
    "\n",
    "For example:\n",
    "\n",
    "<center>\n",
    "    <img src=\"figures/cut1.jpg\"/>\n",
    "</center>\n",
    "\n",
    "In this partition, we have:\n",
    "\n",
    "- $G_1 = (V_1, E_1)~~~~V_1=\\{a,b,c,d\\}, E_1 = \\{(a,b), (a,c), (b,d)\\}$\n",
    "- $G_2 = (V_2, E_2)~~~~V_2=\\{e,f\\}, E_2 = \\{(e,f)\\}$\n",
    "\n",
    "\n",
    "The **cut edges** are those that join the two subgraphs, e.g., $\\{(b,e), (d,f)\\}$.\n",
    "\n",
    "\n",
    "<br><br>\n",
    "\n",
    "\n",
    "### graph partition\n",
    "\n",
    "a collection of graphs $\\{G_1 = (V_1, E_1), \\ldots, G_{k} = (V_{k}, E_{k})\\}$ such that \n",
    "\n",
    "- $\\{V_1, \\ldots, V_{k}\\}$ is a set partition of $V$.\n",
    "- $\\{G_1, \\ldots, G_{k}\\}$ are vertex-induced subgraphs of $G$ with respect to $\\{V_1, \\ldots, V_{k}\\}$.\n",
    "\n",
    "\n",
    "We refer to each subgraph $G_i$ as a **block** or **part** of $G$.\n",
    "\n",
    "For a given partition, we have two types of edges in $E$:\n",
    "\n",
    "- **cut edges:** an edge $(v_1,v_2)$ such that $v_1 \\in V_i$, $v_2 \\in V_j$ and $V_i \\ne V_j$\n",
    "- **internal edges:** an edge $(v_1,v_2)$ such that $v_1 \\in V_i$, $v_2 \\in V_j$ and $V_i = V_j$\n",
    "\n"
   ]
  },
  {
   "cell_type": "markdown",
   "metadata": {
    "slideshow": {
     "slide_type": "slide"
    }
   },
   "source": [
    "## Graph Contraction: Intuition\n",
    "\n",
    "![figures/contract.png](figures/partition2.png)\n",
    "\n",
    "\n",
    "**contract step**:\n",
    "\n",
    "- partition $G$ into subgraphs $\\{G_1 \\ldots G_k\\}$\n",
    "- Assign one vertex of each subgraph as a **super vertex**\n",
    "  - e.g., $a$, $d$, $g$ are super vertices of first contraction step\n",
    "- drop internal edges\n",
    "- reroute internal edges to connect super vertices\n",
    "  - e.g., $(a,g)$ is added in first contraction step because $(b,g)$ exists in first graph\n",
    "  \n",
    "**recursive step**:\n",
    "\n",
    "- Solve problem for each subgraph in the partition\n",
    "- base case: stop when no more edges in the graph\n",
    "\n",
    "**expansion step**:\n",
    "\n",
    "- combine solutions to subgraphs to compute result for original input graph\n",
    "\n"
   ]
  },
  {
   "cell_type": "markdown",
   "metadata": {
    "slideshow": {
     "slide_type": "fragment"
    }
   },
   "source": [
    "### Which partitions should we choose?\n"
   ]
  },
  {
   "cell_type": "markdown",
   "metadata": {
    "slideshow": {
     "slide_type": "fragment"
    }
   },
   "source": [
    "\n",
    "We want partitions that:\n",
    "\n",
    "- respect the connectivity of the original graph.\n",
    "  - i.e., vertices in the same partition should be connected\n",
    "  \n",
    "  \n",
    "- shrinks the graph by a constant fraction (geometric decrease)\n",
    "  - to ensure a logarithmic span ($\\lg n$ rounds of contraction)\n",
    "  \n",
    "  \n",
    "We'll look at different ways of partitioning in a moment. For now, let's look at an example of how contraction works to solve a specific problem without worrying too much about the details of the partitioning."
   ]
  },
  {
   "cell_type": "code",
   "execution_count": 3,
   "metadata": {
    "slideshow": {
     "slide_type": "fragment"
    }
   },
   "outputs": [],
   "source": [
    "# graph contraction\n",
    "# we still need to specify partition_graph_f!\n",
    "\n",
    "def contract_graph(vertices, edges, partition_graph_f):\n",
    "    if len(edges) == 0:\n",
    "        return vertices, edges\n",
    "    else:\n",
    "        # partition the graph\n",
    "        # vertex_map is a dict from vertex->super_vertex\n",
    "        # e.g., {'a': 'a', 'b': 'a', 'c': 'a'...} in above example\n",
    "        new_vertices, vertex_map = partition_graph_f(vertices, edges)\n",
    "        # keep only cut eges\n",
    "        new_edges = set([(vertex_map(e[0]), vertex_map(e[1]))\n",
    "                          for e in edges if vertex_map(e[0]) != vertex_map(e[1])])\n",
    "        return contract_graph(new_vertices, new_edges, partition_graph_f)\n",
    "\n",
    "vertices = set(['a', 'b', 'c', 'd', 'e', 'f', 'g', 'h', 'i'])\n",
    "edges = set([('a', 'b'), ('a', 'c'), ('b', 'c'), ('b', 'g'), \n",
    "             ('d', 'e'), ('d', 'f'), ('e', 'f'),\n",
    "             ('h', 'i'), ('i', 'g'), ('h', 'g')])\n",
    "\n",
    "contract_graph(vertices, edges, partition_graph_f)"
   ]
  },
  {
   "cell_type": "markdown",
   "metadata": {
    "slideshow": {
     "slide_type": "slide"
    }
   },
   "source": [
    "## Contraction example: Number of connected components\n",
    "\n",
    "Recall in lab-10 we compute the number of connected components in a graph.\n",
    "\n",
    "<center>\n",
    "<img src=\"figures/components.png\" width=30%/>\n",
    "</center>\n",
    "\n",
    "How did we do this? What was the worst-case span of our approach?"
   ]
  },
  {
   "cell_type": "markdown",
   "metadata": {
    "slideshow": {
     "slide_type": "fragment"
    }
   },
   "source": [
    "Now let's think how we might do this with graph contraction.\n",
    "\n",
    "![figures/contract.png](figures/partition2.png)\n",
    "\n",
    "What does the connectivity in the contracted graph tell us about the connectivity in the original graph?"
   ]
  },
  {
   "cell_type": "markdown",
   "metadata": {
    "slideshow": {
     "slide_type": "fragment"
    }
   },
   "source": [
    "- Since $a$, $b$, $c$ are placed in the same partition, we know they are connected.\n",
    "\n",
    "\n",
    "- Since $a$ and $g$ are connected in the second graph, then every node in the $g$ partition is reachable from every node in \n",
    "the $a$ partition.\n",
    "\n",
    "\n",
    "- Similarly, since $d$ is not connected to $a$ or $g$, then we know that no node in the $d$ partition is reachable from any node in either the $a$ or $g$ partition.\n",
    "\n",
    "\n",
    "<br>\n",
    "\n",
    "What does the final contracted graph tell us about the number of connected components?"
   ]
  },
  {
   "cell_type": "code",
   "execution_count": null,
   "metadata": {},
   "outputs": [],
   "source": [
    "# graph contraction\n",
    "# we still need to specify partition_graph_f!\n",
    "\n",
    "def num_components(vertices, edges, partition_graph_f):\n",
    "    if len(edges) == 0:\n",
    "        # base case: return the number of super vertices in the final partition\n",
    "        return len(vertices)\n",
    "    else:\n",
    "        new_vertices, vertex_map = partition_graph_f(vertices, edges)\n",
    "        # keep only cut eges\n",
    "        # can use filter here to do in parallel: O(log|E|) span\n",
    "        new_edges = set([(vertex_map(e[0]), vertex_map(e[1]))\n",
    "                          for e in edges if vertex_map(e[0]) != vertex_map(e[1])])\n",
    "        return contract_graph(new_vertices, new_edges, partition_graph_f)\n",
    "\n",
    "vertices = set(['a', 'b', 'c', 'd', 'e', 'f', 'g', 'h', 'i'])\n",
    "edges = set([('a', 'b'), ('a', 'c'), ('b', 'c'), ('b', 'g'), \n",
    "             ('d', 'e'), ('d', 'f'), ('e', 'f'),\n",
    "             ('h', 'i'), ('i', 'g'), ('h', 'g')])\n",
    "\n",
    "num_components(vertices, edges, partition_graph_f)"
   ]
  },
  {
   "cell_type": "markdown",
   "metadata": {
    "slideshow": {
     "slide_type": "fragment"
    }
   },
   "source": [
    "While we have not yet specified `partition_graph_f`, let's assume it\n",
    "- returns a graph of size $|V|/2$\n",
    "- has $O(\\lg |V|)$ span.\n",
    "\n",
    "What is the recurrence for the full algorithm to compute `num_components`?"
   ]
  },
  {
   "cell_type": "markdown",
   "metadata": {
    "slideshow": {
     "slide_type": "fragment"
    }
   },
   "source": [
    "$S(|V|) = S(|V|/2) + \\lg (|V|)$\n",
    "\n",
    "which evaluates to?"
   ]
  },
  {
   "cell_type": "code",
   "execution_count": null,
   "metadata": {},
   "outputs": [],
   "source": []
  },
  {
   "cell_type": "markdown",
   "metadata": {},
   "source": [
    "but, we can't have the same node in two partitions."
   ]
  },
  {
   "cell_type": "code",
   "execution_count": 50,
   "metadata": {},
   "outputs": [
    {
     "name": "stdout",
     "output_type": "stream",
     "text": [
      "3/10 sampled edges\n",
      "[('b', 'g'), ('d', 'f'), ('e', 'f')]\n",
      "\n",
      "vertex counts in sampled edges: dict_items([('d', 1), ('f', 2), ('e', 1), ('b', 1), ('g', 1)])\n",
      "\n",
      "keeping these valid edges: [('b', 'g')]\n"
     ]
    },
    {
     "data": {
      "text/plain": [
       "({'a', 'b', 'c', 'd', 'e', 'f', 'g', 'h', 'i'},\n",
       " {'b': 'g',\n",
       "  'e': 'e',\n",
       "  'a': 'a',\n",
       "  'g': 'g',\n",
       "  'd': 'd',\n",
       "  'f': 'f',\n",
       "  'h': 'h',\n",
       "  'c': 'c',\n",
       "  'i': 'i'})"
      ]
     },
     "execution_count": 50,
     "metadata": {},
     "output_type": "execute_result"
    }
   ],
   "source": [
    "from collections import Counter\n",
    "import random\n",
    "# random.seed(42)\n",
    "\n",
    "def edge_contract(vertices, edges):\n",
    "    # sample each edge with 50% chance\n",
    "    sampled_edges = [e for e in edges if random.choice([True, False])]\n",
    "    print('%d/%d sampled edges' % (len(sampled_edges), len(edges)))\n",
    "    print(sorted(sampled_edges))\n",
    "    # count how often each vertex appears in the sampled edges.\n",
    "    # could do this in parallel (map-reduce) in O(log |V|) span\n",
    "    vertex_counts = Counter()\n",
    "    for p in sampled_edges:\n",
    "        vertex_counts.update(p)\n",
    "    print('\\nvertex counts in sampled edges:', vertex_counts.items())        \n",
    "    # now, do a filter to get those edges where both vertices\n",
    "    # appear only once in sampled_edges\n",
    "    valid_edges = [e for e in sampled_edges if vertex_counts[e[0]] == 1 and vertex_counts[e[1]]==1]\n",
    "    print('\\nkeeping these valid edges:', valid_edges)\n",
    "    \n",
    "    vertex_map = dict()\n",
    "    for e in valid_edges:\n",
    "        vertex_map[e[0]] = e[1]\n",
    "    # put all the rest in a singleton partition\n",
    "    for v in vertices:\n",
    "        if v not in vertex_map:\n",
    "            vertex_map[v] = v\n",
    "    return set(vertex_map.keys()), vertex_map\n",
    "\n",
    "edge_contract(vertices, edges)"
   ]
  },
  {
   "cell_type": "markdown",
   "metadata": {},
   "source": [
    "- Can we make graph search more parallelizable?\n",
    "  - E.g., $\\lg n$ span?\n",
    "  \n",
    "- We'd like to do divide and conquer, but this won't work. Why?\n",
    "\n",
    "- Instead, we'll do contraction (recall contraction implementation for scan)\n",
    "\n",
    "- Let's take the problem of Graph Connectivity:\n",
    "- Graph Connectivity\n",
    "  - recall we solved this in lab 10\n",
    "  (figure)\n",
    "  - \n",
    "  - BFS has span proportional to diameter\n",
    "      - need to solve each connected component sequentially\n",
    "\n",
    "- Graph partitioning\n",
    "  - subgraphs\n",
    "  - vertex-induced subgraphs\n",
    "  - \n",
    "\n",
    "- The graph connectivity problem is to partition an undirected graph into its components (maximal connected subgraphs)\n",
    "\n",
    "\n",
    "- Graph contraction\n",
    "  - shrink size of graph and solve connectivity of that smaller graph\n",
    "  - solve different components in parallel\n",
    "  - similar idea to divide and conquer, but for graphs\n",
    "  - we'll also use this idea to solve other graph problems, like spanning trees\n",
    "  \n",
    "- contract: $V \\mapsto V^1, V^2$\n",
    "  - $V_1, V_2$ are partitions of the graph\n",
    "  - each is connected, but may not be maximal (figure)\n",
    "  - use a \"representative node\" for each partition \n",
    "  - contract code\n",
    "  \n",
    "Types of contraction\n",
    "- Edge Contraction: Only pairs of vertices connected by an edge are contracted.\n",
    "- Star Contraction: Vertices around a “center star” collapse to the “star”\n",
    "- Tree Contraction: disjoint trees within the graph are identified and vertices in a tree are collapsed to the root.\n",
    "\n",
    "Edge contraction\n",
    "- find \"disjoint\" edges -- no vertices shared.\n",
    "\n",
    "\n",
    "- walk through example\n",
    "\n",
    "- show that it fails on stars. for tomorrow.\n",
    "\n",
    "Lab: do a edge contraction and/or graph partitioning"
   ]
  },
  {
   "cell_type": "markdown",
   "metadata": {},
   "source": [
    "## Edge Contraction\n",
    "\n",
    "- problem: pick edges such that each vertex has at most one neighbor\n",
    "\n",
    "- greedy algorithm: pick one edge at a time, removing edges connected to either node.\n",
    "\n",
    "- problem: not parallel\n",
    "\n",
    "Not going to get any parallelism if our contraction step is serial!"
   ]
  },
  {
   "cell_type": "markdown",
   "metadata": {},
   "source": [
    "### Parallel edge matching\n",
    "\n"
   ]
  },
  {
   "cell_type": "markdown",
   "metadata": {},
   "source": [
    "For which type of graph would this do poorly?"
   ]
  }
 ],
 "metadata": {
  "celltoolbar": "Slideshow",
  "kernelspec": {
   "display_name": "Python 3",
   "language": "python",
   "name": "python3"
  },
  "language_info": {
   "codemirror_mode": {
    "name": "ipython",
    "version": 3
   },
   "file_extension": ".py",
   "mimetype": "text/x-python",
   "name": "python",
   "nbconvert_exporter": "python",
   "pygments_lexer": "ipython3",
   "version": "3.8.2"
  },
  "rise": {
   "autolaunch": true,
   "controls": false,
   "enable_chalkboard": true,
   "scroll": true,
   "theme": "simple",
   "transition": "fade"
  },
  "toc": {
   "base_numbering": 1,
   "nav_menu": {},
   "number_sections": true,
   "sideBar": true,
   "skip_h1_title": true,
   "title_cell": "Table of Contents",
   "title_sidebar": "Contents",
   "toc_cell": true,
   "toc_position": {},
   "toc_section_display": true,
   "toc_window_display": false
  }
 },
 "nbformat": 4,
 "nbformat_minor": 4
}
