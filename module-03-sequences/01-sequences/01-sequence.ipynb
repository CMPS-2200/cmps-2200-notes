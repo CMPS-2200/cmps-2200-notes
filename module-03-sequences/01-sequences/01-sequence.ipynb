{
 "cells": [
  {
   "cell_type": "code",
   "execution_count": 1,
   "metadata": {
    "code_folding": [],
    "slideshow": {
     "slide_type": "skip"
    }
   },
   "outputs": [
    {
     "data": {
      "text/html": [
       "<style>.prompt{width: 0px; min-width: 0px; visibility: collapse}</style>"
      ],
      "text/plain": [
       "<IPython.core.display.HTML object>"
      ]
     },
     "metadata": {},
     "output_type": "display_data"
    },
    {
     "data": {
      "text/html": [
       "<style>\n",
       "div#notebook {\n",
       " font-family: \"Exo_2\", sans-serif;\n",
       "}\n",
       "\n",
       ".rendered_html h1,\n",
       ".text_cell_render h1 {\n",
       " color: #126dce;\n",
       " font-size: 220%;\n",
       " text-align: center;\n",
       " font-weight: lighter;\n",
       "}\n",
       ".rendered_html h2,\n",
       ".text_cell_render h2 {\n",
       " text-align: center;\n",
       " font-size: 170%;\n",
       " color: #126dce;\n",
       " font-style: normal;\n",
       " font-weight: lighter;\n",
       "}\n",
       ".rendered_html h3,\n",
       ".text_cell_render h3 {\n",
       " font-size: 150%;\n",
       " color: #126dce;\n",
       " font-weight: lighter;\n",
       " text-decoration: italic;\n",
       " font-style: normal;\n",
       "}\n",
       ".rendered_html h4,\n",
       ".text_cell_render h4 {\n",
       " font-size: 120%;\n",
       " color: #126dce;\n",
       " font-weight: underline;\n",
       " font-style: normal;\n",
       "}\n",
       ".rendered_html h5,\n",
       ".text_cell_render h5 {\n",
       " font-size: 100%;\n",
       " color: #2f2f2f;\n",
       " font-weight: lighter;\n",
       " text-decoration: underline;\n",
       "}\n",
       "</style>\n"
      ],
      "text/plain": [
       "<IPython.core.display.HTML object>"
      ]
     },
     "metadata": {},
     "output_type": "display_data"
    }
   ],
   "source": [
    "# setup\n",
    "from IPython.core.display import display,HTML\n",
    "display(HTML('<style>.prompt{width: 0px; min-width: 0px; visibility: collapse}</style>'))\n",
    "display(HTML(open('rise.css').read()))\n",
    "\n",
    "# imports\n",
    "import numpy as np\n",
    "import matplotlib.pyplot as plt\n",
    "import seaborn as sns\n",
    "%matplotlib inline\n",
    "sns.set(style=\"whitegrid\", font_scale=1.5, rc={'figure.figsize':(12, 6)})\n"
   ]
  },
  {
   "cell_type": "markdown",
   "metadata": {
    "slideshow": {
     "slide_type": "slide"
    }
   },
   "source": [
    "# CMPS 2200\n",
    "# Introduction to Algorithms\n",
    "\n",
    "## Sequences\n"
   ]
  },
  {
   "cell_type": "markdown",
   "metadata": {
    "slideshow": {
     "slide_type": "slide"
    }
   },
   "source": [
    "Week's agenda:\n",
    "\n",
    "- Today: Abstract Data Types, cost specifications\n",
    "- Sequences, formally\n",
    "\n"
   ]
  },
  {
   "cell_type": "markdown",
   "metadata": {
    "slideshow": {
     "slide_type": "slide"
    }
   },
   "source": [
    "## Abstract Data Types\n",
    "\n",
    "> interface consisting of a collection of functions (and possibly values) on a given type, and without reference to the implementation\n",
    "\n",
    "distinguished from a **data structure,** which contains the actual implementations.\n",
    "\n",
    "ADT: what  \n",
    "data structure: how  \n",
    "\n",
    "ADT often also includes **cost specification** (e.g., value lookup is $O(1)$, search is $O(n)$, etc).\n",
    "\n",
    "\n",
    "![adt](figures/adt.png)\n",
    "\n",
    "### how to choose the \"right\" implementation?"
   ]
  },
  {
   "cell_type": "markdown",
   "metadata": {
    "slideshow": {
     "slide_type": "slide"
    }
   },
   "source": [
    "## Sequences\n",
    "\n",
    "- one of the most popular, common ADTs\n",
    "- many useful functions for parallel algorithms\n",
    "\n",
    "\n",
    "<br><br>\n",
    "\n",
    "Simple to express by example:\n",
    "\n",
    "$\\langle 10, 20, 40 \\rangle$\n",
    "\n",
    "- We'll spend some time defining it more formally so the semantics are precise.\n",
    "\n",
    "- We'll then define primitive operations over sequences that can be composed to solve a wide array of problems involving sequences.\n",
    "\n",
    "<br>\n",
    "\n",
    "First, a quick refresher of sets, relations, and functions...\n"
   ]
  },
  {
   "cell_type": "markdown",
   "metadata": {
    "slideshow": {
     "slide_type": "slide"
    }
   },
   "source": [
    "## Set\n",
    "\n",
    "> **set**: collection of distinct objects  \n",
    "\n",
    "- each element of a set appears exactly once\n",
    "- set with no elements is empty set: $\\{\\}$ or $\\emptyset$\n",
    "- can be specified by a **set comprehension**\n",
    "\n",
    "E.g., Cartesian product of sets $A$ and $B = \\{(i,j) : i \\in A, j \\in B\\}$\n",
    "- \" tuples $i$ and $j$ *such that* $i$ is in $A$ and $j$ is in $B$ \""
   ]
  },
  {
   "cell_type": "markdown",
   "metadata": {
    "slideshow": {
     "slide_type": "slide"
    }
   },
   "source": [
    "## Relation\n",
    "\n",
    "> A binary **relation** $R$ from a set $A$ to a set $B$ is a subset of the Cartesian product of $A$ and $B$.  \n",
    "\n",
    "- $R \\subseteq A \\times B$\n",
    "- **domain** of $R$ is the set $\\{a : (a,b) \\in R\\}$\n",
    "- **range** of $R$ is the set $\\{b : (a,b) \\in R\\}$"
   ]
  },
  {
   "cell_type": "markdown",
   "metadata": {
    "slideshow": {
     "slide_type": "slide"
    }
   },
   "source": [
    "## Function\n",
    "\n",
    ">  A **function** or **mapping** from $A$ to $B$ is a relation $R \\subset A \\times B$ such that: \n",
    "\n",
    "- $|R| = |$domain$(R)|$\n",
    "- that is, for every $a$ in the domain of $R$, there is only one $b$ in the range of $R$ such that $(a,b) \\in R$\n",
    "\n",
    "$A$ is the **domain** and $B$ is the **co-domain**."
   ]
  },
  {
   "cell_type": "markdown",
   "metadata": {
    "slideshow": {
     "slide_type": "slide"
    }
   },
   "source": [
    "## Sequence\n",
    "\n",
    "> A **sequence** is a function whose domain is a contiguous set of natural numbers starting at zero.\n",
    "\n",
    "An $\\alpha$ **sequence** is a function from $\\mathbb{N}$ to $\\alpha$ with domain $\\{0, \\ldots, n-1\\}$ for some $n \\in \\mathbb{N}$\n",
    "\n",
    "- $\\alpha$ specifies the type of the sequence elements\n",
    "\n",
    "<br>\n",
    "\n",
    "E.g., $X$ and $Y$ are equivalent sequences:\n",
    "\n",
    "$ X = \\{(0, $ '$a$'$), (1, $ '$b$'$), (2, $ '$c$'$)\\} \\equiv \\langle $'$a$'$, \\: $'$b$'$, \\: $'$c$'$\\rangle$\n",
    "\n",
    "$ Y = \\{(1, $ '$b$'$), (2, $ '$c$'$), (0, $ '$a$'$)\\} \\equiv \\langle $'$a$'$, \\: $'$b$'$, \\: $'$c$'$\\rangle$\n",
    "\n",
    "<br>\n",
    "\n",
    "but $Z$ is not a sequence. why not?\n",
    "\n",
    "$ Z = \\{(0, $ '$a$'$), (2, $ '$c$'$)\\} $\n"
   ]
  },
  {
   "cell_type": "markdown",
   "metadata": {
    "slideshow": {
     "slide_type": "fragment"
    }
   },
   "source": [
    "> with domain $\\{0, \\ldots, n-1\\}$"
   ]
  },
  {
   "cell_type": "markdown",
   "metadata": {},
   "source": [
    "- length\n",
    "- indexing\n",
    "- empty\n",
    "- singleton\n",
    "- isEmpty\n",
    "- isSingleton\n"
   ]
  },
  {
   "cell_type": "markdown",
   "metadata": {
    "slideshow": {
     "slide_type": "slide"
    }
   },
   "source": [
    "## Tabulate\n",
    "\n",
    "**formal definition**:   \n",
    "$tabulate \\: (f : \\: \\mathbb{N} \\rightarrow \\alpha)\\: (n :\\: \\mathbb{N}) : \\: \\mathbb{S}_\\alpha = \\langle f(0), f(1), \\ldots, f(n-1) \\rangle$\n",
    "\n",
    "$tabulate$ is a function that takes as input:\n",
    "- another function $f$\n",
    "- a natural number $n$\n",
    "\n",
    "and returns a sequence of length $n$ by applying $f$ to each element in $\\langle 0, \\ldots, n-1 \\rangle$\n",
    "\n",
    "<br>\n",
    "\n",
    "**SPARC syntax**: \n",
    "\n",
    "\n",
    "$tabulate \\: (\\mathtt{lambda} \\: i \\: . \\: e)\\: e_n \\equiv \\langle e : \\: 0 \\le i < e_n \\rangle $\n",
    "\n",
    "- the second expression is a **sequence comprehension**\n",
    "  - $e_n$ is a SPARC expression whose value is a natural number\n",
    "  \n",
    "\n",
    "<br>\n",
    "\n",
    "e.g.\n",
    "\n",
    "$tabulate \\: fib \\:\\: 9 \\equiv \\langle fib \\: i : \\: 0 \\le i < 9 \\rangle \\Rightarrow \\langle 0, 1, 1, 2, 3, 5, 8, 13, 21, 34 \\rangle$"
   ]
  },
  {
   "cell_type": "code",
   "execution_count": 40,
   "metadata": {
    "slideshow": {
     "slide_type": "fragment"
    }
   },
   "outputs": [
    {
     "data": {
      "text/plain": [
       "[0, 1, 4, 9, 16, 25, 36, 49, 64, 81]"
      ]
     },
     "execution_count": 40,
     "metadata": {},
     "output_type": "execute_result"
    }
   ],
   "source": [
    "def tabulate(f, n):\n",
    "    return [f(i) for i in range(n)]\n",
    "\n",
    "tabulate(lambda x: x**2, 10)"
   ]
  },
  {
   "cell_type": "markdown",
   "metadata": {
    "slideshow": {
     "slide_type": "slide"
    }
   },
   "source": [
    "### Each call to f(i) can be done in parallel!"
   ]
  },
  {
   "cell_type": "code",
   "execution_count": 42,
   "metadata": {
    "slideshow": {
     "slide_type": "fragment"
    }
   },
   "outputs": [
    {
     "data": {
      "text/plain": [
       "[0, 1, 4, 9, 16, 25, 36, 49, 64, 81]"
      ]
     },
     "execution_count": 42,
     "metadata": {},
     "output_type": "execute_result"
    }
   ],
   "source": [
    "from multiprocessing.pool import ThreadPool\n",
    "\n",
    "def parallel_tabulate(f, n, nthreads=5):\n",
    "    with ThreadPool(nthreads) as pool:\n",
    "        results = []\n",
    "        # launch all tasks\n",
    "        for i in range(n): \n",
    "            results.append(pool.apply_async(f, [i]))\n",
    "        # wait for all to finish\n",
    "        return [r.get() for r in results]\n",
    "    \n",
    "list(parallel_tabulate(lambda x: x**2, 10))"
   ]
  },
  {
   "cell_type": "markdown",
   "metadata": {},
   "source": [
    "## Map\n",
    "\n",
    "-  like $tabulate$, but applies $f$ to *elements* of sequence, rather than integers.\n",
    "\n",
    "**formal definition**: \n",
    "\n",
    "$ map \\: (f : \\alpha \\rightarrow \\beta)(a : \\mathbb{S}_\\alpha) : \\mathbb{S}_\\beta = \\{(i, f(x)) : (i, x) \\in a\\}$\n",
    "\n",
    "$map$ is a function that takes as input:\n",
    "- another function $f : \\alpha \\rightarrow \\beta$\n",
    "- a sequence $a$ of type $\\mathbb{S}_\\alpha$\n",
    "\n",
    "and returns a sequence of type $\\mathbb{S}_\\beta$ with length $n$ by applying $f$ to each element $x \\in a$\n",
    "\n",
    "<br>\n",
    "\n",
    "**SPARC syntax**: \n",
    "\n",
    "$\\langle e : p \\in e_s \\rangle \\equiv map\\:(\\mathtt{lambda} \\: p \\: . \\: e)\\: e_s$\n",
    "\n",
    "<br>\n",
    "\n",
    "e.g., assume $a = \\langle 2, 4, 5, 7\\rangle$\n",
    "\n",
    "$map\\: (\\mathtt{lambda} \\: x \\: . \\: x^2)\\: a \\equiv \\langle x^2 : x \\ \\in a \\rangle \\Rightarrow \\langle  4, 16, 25, 49 \\rangle$"
   ]
  },
  {
   "cell_type": "code",
   "execution_count": 45,
   "metadata": {
    "slideshow": {
     "slide_type": "fragment"
    }
   },
   "outputs": [
    {
     "data": {
      "text/plain": [
       "[16, 256, 625, 2401]"
      ]
     },
     "execution_count": 45,
     "metadata": {},
     "output_type": "execute_result"
    }
   ],
   "source": [
    "def my_map(f, a):\n",
    "    return [f(x) for x in a]\n",
    "\n",
    "my_map(lambda x: x**2, [4, 16, 25, 49])"
   ]
  },
  {
   "cell_type": "code",
   "execution_count": 48,
   "metadata": {
    "slideshow": {
     "slide_type": "fragment"
    }
   },
   "outputs": [
    {
     "data": {
      "text/plain": [
       "[16, 256, 625, 2401]"
      ]
     },
     "execution_count": 48,
     "metadata": {},
     "output_type": "execute_result"
    }
   ],
   "source": [
    "# In fact, map is built into python:\n",
    "list(map(lambda x: x**2, [4, 16, 25, 49]))"
   ]
  },
  {
   "cell_type": "markdown",
   "metadata": {
    "slideshow": {
     "slide_type": "slide"
    }
   },
   "source": [
    "## Filter\n",
    "\n",
    "like $map$, but $f$ is a boolean function, and the returned list contains elements where $f(x)$ is True.\n",
    "\n",
    "**formal definition**:   \n",
    "(convoluted because we have to make sure the returned sequence has domain $\\{0, \\ldots, n-1\\}$)\n",
    "\n",
    "$ filter \\: (f : \\alpha \\rightarrow \\mathbb{B})(a : \\mathbb{S}_\\alpha) : \\mathbb{S}_\\alpha = \\{\\: (\\: \\vert \\: \\{(j,y) \\in a | j < i \\land f(y)\\} \\: \\vert, \\: x) : (i,x) \\in a | f(x) \\: \\}$\n",
    "\n",
    "$filter$ is a function that takes as input:\n",
    "- another function $f : \\alpha \\rightarrow \\mathbb{B}$\n",
    "- a sequence $a$ of type $\\mathbb{S}_\\alpha$\n",
    "\n",
    "and returns a sequence of type $\\mathbb{S}_\\alpha$ with length $\\le n$ by applying $f$ to each element $x \\in a$ and retaining only those where $f(x)$ is $\\mathtt{True}$.\n",
    "\n",
    "<br>\n",
    "\n",
    "**SPARC syntax**: \n",
    "\n",
    "$\\langle x \\in e_s \\: \\vert \\: e \\rangle \\equiv filter\\:(\\mathtt{lambda}\\: x \\: . \\: e)\\: e_s$\n",
    "\n",
    "<br>\n",
    "\n",
    "e.g., assume $a = \\langle 2, 4, 5, 7\\rangle$\n",
    "\n",
    "$filter\\: \\mathtt{isEven} \\: a \\equiv \\langle x : x \\in a \\: \\vert \\: \\mathtt{isEven}\\: x \\rangle \\Rightarrow \\langle  4, 16, 25, 49 \\rangle$"
   ]
  },
  {
   "cell_type": "code",
   "execution_count": 51,
   "metadata": {
    "slideshow": {
     "slide_type": "fragment"
    }
   },
   "outputs": [
    {
     "data": {
      "text/plain": [
       "[4, 16]"
      ]
     },
     "execution_count": 51,
     "metadata": {},
     "output_type": "execute_result"
    }
   ],
   "source": [
    "def my_filter(f, a):\n",
    "    return [x for x in a if f(x)]\n",
    "\n",
    "my_filter(lambda x: x%2==0, [4, 16, 25, 49])"
   ]
  },
  {
   "cell_type": "code",
   "execution_count": 54,
   "metadata": {
    "slideshow": {
     "slide_type": "fragment"
    }
   },
   "outputs": [
    {
     "data": {
      "text/plain": [
       "[4, 16]"
      ]
     },
     "execution_count": 54,
     "metadata": {},
     "output_type": "execute_result"
    }
   ],
   "source": [
    "# like map, this also already exists...\n",
    "list(filter(lambda x: x%2==0, [4, 16, 25, 49]))"
   ]
  },
  {
   "cell_type": "markdown",
   "metadata": {},
   "source": [
    "## Quick hits\n",
    "\n",
    "### Subsequence\n",
    "\n",
    "- $a[e_i \\ldots e_j] \\equiv subseq(a, \\: e_i, \\: e_j-e_i+1)$\n",
    "- subsequence starting at location $i$ with length $j$\n",
    "- e.g., $subseq(\\langle 1,2,3,4,5,6 \\rangle, 2, 3) \\Rightarrow \\langle 3, 4, 5 \\rangle$\n",
    "\n",
    "### Append\n",
    "\n",
    "- $append(a,b)$ appends sequence $b$ after sequence $a$\n",
    "- shorthand: $a +\\!\\!+ \\: b$\n",
    "- e.g., $\\langle 1,2,3 \\rangle +\\!\\!+ \\: \\langle 4, 5 \\rangle \\Rightarrow \\langle 1,2,3,4,5 \\rangle $\n",
    "\n",
    "\n",
    "### Flatten\n",
    "\n",
    "- append two or more sequences.\n",
    "- $flatten \\langle \\langle 1,2,3 \\rangle, \\langle 4 \\rangle, \\langle 5, 6 \\rangle \\rangle \\Rightarrow \\langle 1,2,3,4,5,6 \\rangle$\n",
    "\n",
    "### Update\n",
    "\n",
    "- $update (a, (i, x))$ updates location $i$ of sequence $a$ to have value $x$\n",
    "- e.g., $a = \\langle 1,2,3,4,5,6 \\rangle$\n",
    "- $update \\: a \\: (2, 99) \\Rightarrow \\langle 1,2,\\mathbf{99},4,5,6 \\rangle$\n",
    "- How can we ensure data persistence here?\n",
    "\n",
    "### Inject\n",
    "\n",
    "- update multiple locations at once\n",
    "- e.g., $a = \\langle 1,2,3,4,5,6 \\rangle$\n",
    "- $inject \\: a \\: \\langle (2, 99), (4, 100) \\rangle \\Rightarrow \\langle 1,2,\\mathbf{99},4,\\mathbf{100},6 \\rangle$  \n",
    "\n",
    "\n",
    "\n",
    "- what if we want to parallelize $inject$?"
   ]
  },
  {
   "cell_type": "markdown",
   "metadata": {},
   "source": [
    "## Nondeterministic Inject\n",
    "\n",
    "Can we just parallelize each update?\n",
    "\n",
    "<br><br>\n",
    "$a = \\langle 1,2,3,4,5,6 \\rangle$\n",
    "\n",
    "$inject \\: a \\: \\langle (2, 99), (2, 100) \\rangle \\Rightarrow $ ???\n",
    "\n",
    "<br>\n",
    "\n",
    "$ninject \\: a \\: \\langle (2, 99), (2, 100) \\rangle \\Rightarrow$ \n",
    "\n",
    "$\\langle 1,2,\\mathbf{99},4,5,6 \\rangle$  **OR**\n",
    "$\\langle 1,2,\\mathbf{100},4,5,6 \\rangle$\n",
    "\n",
    "<br>\n",
    "\n",
    "essentially ignore race conditions\n",
    "\n"
   ]
  },
  {
   "cell_type": "markdown",
   "metadata": {},
   "source": [
    "## Iterate\n",
    "\n",
    "- Iterate over a sequence and accumulate a result that changes at each step (e.g., \"running sum\")\n",
    "\n",
    "$iterate \\ (f : \\alpha \\times \\beta \\rightarrow \\alpha) (x : \\alpha) (a : \\mathbb{S}_\\beta) : \\alpha$\n",
    "\n",
    "$iterate$ is a function that takes as input:\n",
    "- another function $f : \\alpha \\times \\beta \\rightarrow \\alpha$\n",
    "- an initial result $x$\n",
    "- a sequence $a$ of type $\\mathbb{S}_\\beta$\n",
    "\n",
    "and returns a value of type $\\alpha$ that is the result of applying $f(x,a)$ to each element of the sequence.\n",
    "\n",
    "\n",
    "<br>\n",
    "\n",
    "$iterate \\: f \\: x \\: a =\n",
    "\\begin{cases}\n",
    "x & \\hbox{if} \\: |a| = 0\\\\\n",
    "iterate \\: f \\:\\: f(x, a[0]) \\:\\:\\: a[1 \\ldots |a|-1]& \\hbox{otherwise}\n",
    "\\end{cases}\n",
    "$\n",
    "\n",
    "\n",
    "e.g.\n",
    "\n",
    "$iterate \\:\\: + \\:\\:\\: 0 \\:\\:\\: \\langle 2,5,1,6 \\rangle \\Rightarrow 14$"
   ]
  },
  {
   "cell_type": "code",
   "execution_count": 84,
   "metadata": {},
   "outputs": [
    {
     "name": "stdout",
     "output_type": "stream",
     "text": [
      "calling plus x=0 a=[2, 5, 1, 6]\n",
      "calling plus x=2 a=[5, 1, 6]\n",
      "calling plus x=7 a=[1, 6]\n",
      "calling plus x=8 a=[6]\n",
      "calling plus x=14 a=[]\n"
     ]
    },
    {
     "data": {
      "text/plain": [
       "14"
      ]
     },
     "execution_count": 84,
     "metadata": {},
     "output_type": "execute_result"
    }
   ],
   "source": [
    "def iterate(f, x, a):\n",
    "    print('calling %s x=%s a=%s' % (f.__name__, x, a))\n",
    "    if len(a) == 0:\n",
    "        return x\n",
    "    else:\n",
    "        return iterate(f, f(x, a[0]), a[1:])\n",
    "\n",
    "def plus(x, y):\n",
    "    return x + y\n",
    "\n",
    "iterate(plus, 0, [2,5,1,6])"
   ]
  },
  {
   "cell_type": "markdown",
   "metadata": {},
   "source": [
    "## Iterate Prefixes\n",
    "\n",
    "- also returns the intermediate values computed by $iterate$\n",
    "\n",
    "$ iteratePrefixes \\: f \\: x \\: a = \\\\\n",
    "~~\\mathtt{let} \\: g (b,x)\\: y = (b +\\!\\!+x, f(x,y))\\\\\n",
    "~~\\mathtt{in} \\: iterate\\: g (\\langle \\rangle, x)\\: a \\: \\mathtt{end}\n",
    "$"
   ]
  },
  {
   "cell_type": "code",
   "execution_count": 85,
   "metadata": {},
   "outputs": [
    {
     "name": "stdout",
     "output_type": "stream",
     "text": [
      "calling g x=([], 0) a=[2, 5, 1, 6]\n",
      "\tb=([], 0) y=2\n",
      "calling g x=([2], 2) a=[5, 1, 6]\n",
      "\tb=([2], 2) y=5\n",
      "calling g x=([2, 7], 7) a=[1, 6]\n",
      "\tb=([2, 7], 7) y=1\n",
      "calling g x=([2, 7, 8], 8) a=[6]\n",
      "\tb=([2, 7, 8], 8) y=6\n",
      "calling g x=([2, 7, 8, 14], 14) a=[]\n"
     ]
    },
    {
     "data": {
      "text/plain": [
       "([2, 7, 8, 14], 14)"
      ]
     },
     "execution_count": 85,
     "metadata": {},
     "output_type": "execute_result"
    }
   ],
   "source": [
    "def iterate_prefixes(f, x, a):\n",
    "    def g(b, y):\n",
    "        print('\\tb=%s y=%s' % (b, y))\n",
    "        # b[1] has running sum\n",
    "        # y has next number\n",
    "        r = f(b[1], y)\n",
    "        return (b[0] + [r], r)\n",
    "    return iterate(g, ([], x), a)\n",
    "    \n",
    "\n",
    "iterate_prefixes(plus, 0, [2,5,1,6])"
   ]
  },
  {
   "cell_type": "markdown",
   "metadata": {},
   "source": [
    "## Problem: Rightmost Positive\n",
    "\n",
    "> Given a sequence of integers $a$, for each element in $a$ find the rightmost positive number to its left.\n",
    "\n",
    "E.g., \n",
    "\n",
    "$rpos \\: \\langle 1, 0, -1, 2, 3, 0, -5, 7 \\rangle \\Rightarrow \\langle -\\infty, 1, 1, 1, 2, 3, 3, 3 \\rangle$\n",
    "\n",
    " ($-\\infty$ if no positive element to the left)\n",
    " \n",
    " Let's design a solution using $iterate$"
   ]
  },
  {
   "cell_type": "code",
   "execution_count": 87,
   "metadata": {},
   "outputs": [
    {
     "name": "stdout",
     "output_type": "stream",
     "text": [
      "calling extend_positive x=(-1e+100, []) a=[1, 0, -1, 2, 3, 0, -5, 7]\n",
      "calling extend_positive x=(1, [-1e+100]) a=[0, -1, 2, 3, 0, -5, 7]\n",
      "calling extend_positive x=(1, [-1e+100, 1]) a=[-1, 2, 3, 0, -5, 7]\n",
      "calling extend_positive x=(1, [-1e+100, 1, 1]) a=[2, 3, 0, -5, 7]\n",
      "calling extend_positive x=(2, [-1e+100, 1, 1, 1]) a=[3, 0, -5, 7]\n",
      "calling extend_positive x=(3, [-1e+100, 1, 1, 1, 2]) a=[0, -5, 7]\n",
      "calling extend_positive x=(3, [-1e+100, 1, 1, 1, 2, 3]) a=[-5, 7]\n",
      "calling extend_positive x=(3, [-1e+100, 1, 1, 1, 2, 3, 3]) a=[7]\n",
      "calling extend_positive x=(7, [-1e+100, 1, 1, 1, 2, 3, 3, 3]) a=[]\n"
     ]
    },
    {
     "data": {
      "text/plain": [
       "(7, [-1e+100, 1, 1, 1, 2, 3, 3, 3])"
      ]
     },
     "execution_count": 87,
     "metadata": {},
     "output_type": "execute_result"
    }
   ],
   "source": [
    "def extend_positive(result, x):\n",
    "    # result = (last_positive_value, sequence)\n",
    "    # x = new element\n",
    "    if x > 0:\n",
    "        return (x, result[1] + [result[0]])\n",
    "    else:\n",
    "        return (result[0], result[1] + [result[0]])\n",
    "    \n",
    "extend_positive((0, [1, 0, -1, 2]), 1)\n",
    "\n",
    "iterate(extend_positive, (-1e100, []), [1,0,-1,2,3,0,-5,7])"
   ]
  },
  {
   "cell_type": "code",
   "execution_count": null,
   "metadata": {},
   "outputs": [],
   "source": []
  },
  {
   "cell_type": "markdown",
   "metadata": {},
   "source": [
    "do iterate and reduce and introduce problem today.\n",
    "\n",
    "tomorrow introduce scan and solve"
   ]
  }
 ],
 "metadata": {
  "celltoolbar": "Slideshow",
  "kernelspec": {
   "display_name": "Python 3",
   "language": "python",
   "name": "python3"
  },
  "language_info": {
   "codemirror_mode": {
    "name": "ipython",
    "version": 3
   },
   "file_extension": ".py",
   "mimetype": "text/x-python",
   "name": "python",
   "nbconvert_exporter": "python",
   "pygments_lexer": "ipython3",
   "version": "3.7.3"
  },
  "rise": {
   "autolaunch": true,
   "controls": false,
   "enable_chalkboard": true,
   "scroll": true,
   "theme": "simple",
   "transition": "fade"
  },
  "toc": {
   "base_numbering": 1,
   "nav_menu": {},
   "number_sections": true,
   "sideBar": true,
   "skip_h1_title": true,
   "title_cell": "Table of Contents",
   "title_sidebar": "Contents",
   "toc_cell": true,
   "toc_position": {},
   "toc_section_display": true,
   "toc_window_display": false
  }
 },
 "nbformat": 4,
 "nbformat_minor": 4
}
