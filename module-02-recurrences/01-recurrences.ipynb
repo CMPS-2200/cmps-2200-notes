{
 "cells": [
  {
   "cell_type": "code",
   "execution_count": 1,
   "metadata": {
    "code_folding": [],
    "slideshow": {
     "slide_type": "skip"
    }
   },
   "outputs": [
    {
     "data": {
      "text/html": [
       "<style>.prompt{width: 0px; min-width: 0px; visibility: collapse}</style>"
      ],
      "text/plain": [
       "<IPython.core.display.HTML object>"
      ]
     },
     "metadata": {},
     "output_type": "display_data"
    },
    {
     "data": {
      "text/html": [
       "<style>\n",
       "div#notebook {\n",
       " font-family: \"Exo_2\", sans-serif;\n",
       "}\n",
       "\n",
       ".rendered_html h1,\n",
       ".text_cell_render h1 {\n",
       " color: #126dce;\n",
       " font-size: 220%;\n",
       " text-align: center;\n",
       " font-weight: lighter;\n",
       "}\n",
       ".rendered_html h2,\n",
       ".text_cell_render h2 {\n",
       " text-align: center;\n",
       " font-size: 170%;\n",
       " color: #126dce;\n",
       " font-style: normal;\n",
       " font-weight: lighter;\n",
       "}\n",
       ".rendered_html h3,\n",
       ".text_cell_render h3 {\n",
       " font-size: 150%;\n",
       " color: #126dce;\n",
       " font-weight: lighter;\n",
       " text-decoration: italic;\n",
       " font-style: normal;\n",
       "}\n",
       ".rendered_html h4,\n",
       ".text_cell_render h4 {\n",
       " font-size: 120%;\n",
       " color: #126dce;\n",
       " font-weight: underline;\n",
       " font-style: normal;\n",
       "}\n",
       ".rendered_html h5,\n",
       ".text_cell_render h5 {\n",
       " font-size: 100%;\n",
       " color: #2f2f2f;\n",
       " font-weight: lighter;\n",
       " text-decoration: underline;\n",
       "}\n",
       "</style>\n"
      ],
      "text/plain": [
       "<IPython.core.display.HTML object>"
      ]
     },
     "metadata": {},
     "output_type": "display_data"
    }
   ],
   "source": [
    "# setup\n",
    "from IPython.core.display import display,HTML\n",
    "display(HTML('<style>.prompt{width: 0px; min-width: 0px; visibility: collapse}</style>'))\n",
    "display(HTML(open('rise.css').read()))\n",
    "\n",
    "# imports\n",
    "import numpy as np\n",
    "import matplotlib.pyplot as plt\n",
    "import seaborn as sns\n",
    "%matplotlib inline\n",
    "sns.set(style=\"whitegrid\", font_scale=1.5, rc={'figure.figsize':(12, 6)})\n",
    "import time\n",
    "import tabulate\n"
   ]
  },
  {
   "cell_type": "markdown",
   "metadata": {
    "slideshow": {
     "slide_type": "slide"
    }
   },
   "source": [
    "# CMPS 2200\n",
    "# Introduction to Algorithms\n",
    "\n",
    "## Recurrences - Intro & the Tree Method\n"
   ]
  },
  {
   "cell_type": "markdown",
   "metadata": {
    "slideshow": {
     "slide_type": "slide"
    }
   },
   "source": [
    "Recurrences are a way to capture the behavior of recursive algorithms.\n",
    "\n",
    "Key ingredients: \n",
    "\n",
    "- Base case ($n = c$): constant time \n",
    "- Inductive case ($n > c$): recurse on smaller instance and use output to compute solution\n",
    "\n",
    "Actually recursion is a conceptual way to view algorithm execution, and we can reframe an algorithm specification to make it recursive.\n",
    "\n"
   ]
  },
  {
   "cell_type": "code",
   "execution_count": 2,
   "metadata": {
    "slideshow": {
     "slide_type": "slide"
    }
   },
   "outputs": [
    {
     "name": "stdout",
     "output_type": "stream",
     "text": [
      "[2, 1, 4, 3, 9]\n",
      "[1, 2, 4, 3, 9]\n",
      "[1, 2, 4, 3, 9]\n",
      "[1, 2, 3, 4, 9]\n",
      "[1, 2, 3, 4, 9]\n"
     ]
    },
    {
     "data": {
      "text/plain": [
       "[1, 2, 3, 4, 9]"
      ]
     },
     "execution_count": 2,
     "metadata": {},
     "output_type": "execute_result"
    }
   ],
   "source": [
    "def selection_sort(L):\n",
    "    for i in range(len(L)):\n",
    "        print(L)\n",
    "        m = L.index(min(L[i:]))\n",
    "        L[i], L[m] = L[m], L[i]\n",
    "    return L\n",
    "                   \n",
    "selection_sort([2, 1, 4, 3, 9])"
   ]
  },
  {
   "cell_type": "code",
   "execution_count": 2,
   "metadata": {
    "slideshow": {
     "slide_type": "subslide"
    }
   },
   "outputs": [
    {
     "name": "stdout",
     "output_type": "stream",
     "text": [
      "L=[2, 1, 999, 4, 3]\n",
      "L=[2, 999, 4, 3]\n",
      "L=[999, 4, 3]\n",
      "L=[4, 999]\n",
      "L=[999]\n"
     ]
    },
    {
     "data": {
      "text/plain": [
       "[1, 2, 3, 4, 999]"
      ]
     },
     "execution_count": 2,
     "metadata": {},
     "output_type": "execute_result"
    }
   ],
   "source": [
    "def selection_sort_recursive(L):\n",
    "    print('L=%s' % L)\n",
    "    if (len(L) == 1):\n",
    "        return(L)\n",
    "    else:\n",
    "        m = L.index(min(L))\n",
    "        L[0], L[m] = L[m], L[0]\n",
    "        return [L[0]] + selection_sort_recursive(L[1:])\n",
    "    \n",
    "selection_sort_recursive([2, 1, 999, 4, 3])"
   ]
  },
  {
   "cell_type": "markdown",
   "metadata": {
    "slideshow": {
     "slide_type": "slide"
    }
   },
   "source": [
    "What is the running time and why?"
   ]
  },
  {
   "cell_type": "markdown",
   "metadata": {
    "slideshow": {
     "slide_type": "fragment"
    }
   },
   "source": [
    "$\n",
    "\\begin{align}\n",
    "W(n) &= W(n-1) + n \\\\\n",
    "&= W(n-2) + n + (n - 1) \\\\\n",
    "&= W(n-3) + n + (n - 1) + (n - 2) \\\\\n",
    "&= ...\n",
    "\\end{align}\n",
    "$\n"
   ]
  },
  {
   "cell_type": "markdown",
   "metadata": {
    "slideshow": {
     "slide_type": "fragment"
    }
   },
   "source": [
    "$\\begin{align}\n",
    "W(n) &=& \\sum_{i=1}^n i  \\\\\n",
    "&=& \\frac{n(n+1)}{2} \\\\\n",
    "&=& \\Theta(n^2).\n",
    "\\end{align}$\n"
   ]
  },
  {
   "cell_type": "markdown",
   "metadata": {},
   "source": [
    "Why is it true that $\\frac{n(n+1)}{2} \\in \\Theta(n^2)$?\n",
    "\n",
    "Quickly, we can see that the highest order term is $n^2$ and so this makes sense. However, we can prove it rigorously.\n",
    "\n",
    "We can use the limit theorem or prove it directly from the the asymptotic definition by finding the necessary constants.\n",
    "\n",
    "For practice, lets do the latter."
   ]
  },
  {
   "cell_type": "markdown",
   "metadata": {},
   "source": [
    "### Asymptotic Proof that $\\frac{n(n+1)}{2} \\in \\Theta(n^2)$\n",
    "We need $c_1$, $c_2$, and $n_0$ s.t.\n",
    "\n",
    "$$c_1*n^2 \\le \\frac{n(n+1)}{2} \\le c_2*n^2 \\qquad \\forall \\quad n >= n_0$$\n",
    "\n"
   ]
  },
  {
   "cell_type": "markdown",
   "metadata": {},
   "source": [
    "What $c_1$ can we pick to make the left inequality true?\n",
    "\n",
    "It helps to rearrange our expression slightly.\n",
    "\n",
    "$$c_1*n^2 \\le \\frac{n^2}{2}+\\frac{n}{2} \\le c_2*n^2$$"
   ]
  },
  {
   "cell_type": "markdown",
   "metadata": {},
   "source": [
    "If we let $c_1 = 1/2$, then"
   ]
  },
  {
   "cell_type": "markdown",
   "metadata": {},
   "source": [
    "$$\\frac{n^2}{2} <= \\frac{n^2}{2}+\\frac{n}{2}$$\n",
    "\n",
    "This is obviously true for all $n \\ge 0$."
   ]
  },
  {
   "cell_type": "markdown",
   "metadata": {},
   "source": [
    "What about the other side?"
   ]
  },
  {
   "cell_type": "markdown",
   "metadata": {},
   "source": [
    "If we let $c_2 = 1$, then"
   ]
  },
  {
   "cell_type": "markdown",
   "metadata": {},
   "source": [
    "$$\\frac{n^2}{2}+\\frac{n}{2} <= n^2$$\n",
    "\n",
    "Let's try a few $n$ to get a feel for it."
   ]
  },
  {
   "cell_type": "code",
   "execution_count": 4,
   "metadata": {},
   "outputs": [
    {
     "name": "stdout",
     "output_type": "stream",
     "text": [
      "|   n |   (n^2 + n)/2 |   n^2 |\n",
      "|-----|---------------|-------|\n",
      "|   0 |         0.000 |     0 |\n",
      "|   1 |         1.000 |     1 |\n",
      "|   2 |         3.000 |     4 |\n",
      "|   3 |         6.000 |     9 |\n",
      "|   4 |        10.000 |    16 |\n",
      "|   5 |        15.000 |    25 |\n"
     ]
    }
   ],
   "source": [
    "vals = []\n",
    "for n in range(6):\n",
    "    vals.append((n, (n**2 + n)/2, n**2))\n",
    "\n",
    "print(tabulate.tabulate(vals,\n",
    "        headers=['n', '(n^2 + n)/2', 'n^2'],\n",
    "        floatfmt=\".3f\",\n",
    "        tablefmt=\"github\"))"
   ]
  },
  {
   "cell_type": "markdown",
   "metadata": {},
   "source": [
    "Both $\\frac{n^2}{2}+\\frac{n}{2}$ and $n^2$ are monotonically increasing, but the latter is increasing faster.\n",
    "\n",
    "$\\frac{n^2}{2}+\\frac{n}{2} <= n^2 \\qquad \\forall \\; n \\ge 0$\n",
    "\n",
    "Thus $n_0 = 0$."
   ]
  },
  {
   "cell_type": "markdown",
   "metadata": {},
   "source": [
    "Finally, we have that $c_1*n^2 \\le \\frac{n(n+1)}{2} \\le c_2*n^2$ is true $\\forall \\; n >= n_0$ with $c_1 = \\frac{1}{2}$, $c_2 = 1$, and $n_0 = 0$.\n",
    "\n",
    "Since we have found constants to satisfy the asymptotic definition, $\\frac{n(n+1)}{2} \\in \\Theta(n^2) \\quad \\blacksquare$\n"
   ]
  },
  {
   "cell_type": "markdown",
   "metadata": {
    "slideshow": {
     "slide_type": "slide"
    }
   },
   "source": [
    "### Working towards more general recurrences\n",
    "\n",
    "The recurrence for Selection Sort is somewhat simple - what if we have multiple recursive calls and split the input? (This is actually what *divide-and-conquer* algorithms do.)\n",
    "\n",
    "We'll look at methods to solve recurrences in order to obtain big-O bounds for recursive algorithms.\n",
    "\n",
    "We will:\n",
    "\n",
    "- Get intuition for recurrences by looking the recursion tree. \n",
    "\n",
    "- Develop the **brick** method to quickly state asymptotic bounds on a recurrence by looking at the shape of the tree."
   ]
  },
  {
   "cell_type": "markdown",
   "metadata": {},
   "source": [
    "Let's look at the specification and recurrence for Merge Sort: "
   ]
  },
  {
   "cell_type": "code",
   "execution_count": null,
   "metadata": {},
   "outputs": [],
   "source": [
    "def merge_sort(lst):\n",
    "    if len(lst) <= 1:\n",
    "        return lst\n",
    "\n",
    "    mid = len(lst)//2\n",
    "    left = merge_sort(lst[:mid])\n",
    "    right = merge_sort(lst[mid:])\n",
    "\n",
    "    return merge(left, right)"
   ]
  },
  {
   "cell_type": "markdown",
   "metadata": {
    "slideshow": {
     "slide_type": "slide"
    }
   },
   "source": [
    "\n",
    "Suppose that the merging step can be done with $O(n)$ work and $O(\\log n)$ span. Then recurrence for the work is: \n",
    "\n",
    "$$\n",
    "\\begin{align}\n",
    "W(n) = \\begin{cases}\n",
    "  c_b, & \\text{if $n=1$} \\\\\n",
    "  2W(n/2) + c_1n + c_2, & \\text{otherwise} \n",
    "  \\end{cases}\n",
    "\\end{align}\n",
    "$$\n",
    "\n",
    "How do we solve this recurrence to obtain $W(n) = O(n\\log n)$?\n",
    "\n"
   ]
  },
  {
   "cell_type": "markdown",
   "metadata": {
    "slideshow": {
     "slide_type": "slide"
    }
   },
   "source": [
    "\n",
    "\n",
    "![alttext](figures/mergesort_tree.png)\n",
    "\n",
    "The recursion tree for Merge Sort has linear work at every level except at the leaves. There are a logarithmic number of levels and a linear number of leaves so we obtain an asymptotic bound of $O(n\\log n)$ for the work."
   ]
  },
  {
   "cell_type": "markdown",
   "metadata": {
    "slideshow": {
     "slide_type": "slide"
    }
   },
   "source": [
    "## Solving Recurrences with the Tree Method \n",
    "\n",
    "<br>\n",
    "\n",
    "\n",
    "<div>size at level $i$</div> <div style=\"text-align: right\"> cost at level $i$ </div>\n",
    "\n",
    "\n",
    "\n",
    "<img src=\"figures/merge-tree.jpg\" alt=\"merge-tree\" width=\"75%\"/>"
   ]
  },
  {
   "cell_type": "markdown",
   "metadata": {
    "slideshow": {
     "slide_type": "slide"
    }
   },
   "source": [
    "### Recipe: \n",
    "1. Expand tree for two levels.\n",
    "2. Determine the cost of each level $i$ ($i$ starts at $0$).\n",
    "3. Determine the number of levels\n",
    "4. Cost = $\\sum_{i=0}^{\\hbox{num levels}}$ cost for level $i$\n",
    "  - This last step usually involves using properties of series\n",
    "  \n",
    "<br>"
   ]
  },
  {
   "cell_type": "markdown",
   "metadata": {
    "slideshow": {
     "slide_type": "fragment"
    }
   },
   "source": [
    "E.g., for merge sort:\n",
    "\n",
    "- level $i$ contains $2^i$ nodes\n",
    "- each node at level $i$ costs $c_1 \\frac{n}{2^i} + c_2$\n",
    "- so, each level costs $2^i * (c_1 \\frac{n}{2^i} + c_2) = c_1n + 2^i c_2$\n",
    "- since each level reduces size by half, we have $\\lg n$ levels\n",
    "- so, total cost of tree is:\n",
    "\n",
    "\n",
    "$$W(n) = \\sum_{i=0}^{\\lg n} (c_1n + 2^i c_2)$$\n"
   ]
  },
  {
   "cell_type": "markdown",
   "metadata": {
    "slideshow": {
     "slide_type": "slide"
    }
   },
   "source": [
    "$$W(n) = \\sum_{i=0}^{\\lg n} (c_1n + 2^i c_2)$$\n",
    "\n",
    "> To solve this, we'll make use of bounds for **geometric series**. \n",
    ">\n",
    "> - For $\\alpha > 1$: $\\:\\:\\: \\sum_{i=0}^n \\alpha^i  < \\frac{\\alpha}{\\alpha - 1}\\cdot\\alpha^n$\n",
    "> <br>\n",
    "> \n",
    ">  - e.g., $\\sum_{i=0}^{\\lg n} 2^i < \\frac{2}{1} * 2^{\\lg n} = 2n$\n",
    ">\n",
    "><br>\n",
    ">\n",
    ">- For $\\alpha < 1$: $\\:\\:\\: \\sum_{i=0}^\\infty \\alpha^i  < \\frac{1}{1-\\alpha}$\n",
    "><br>\n",
    ">\n",
    ">  - e.g., $\\sum_{i=0}^{\\lg n} \\frac{1}{2^i} < 2$\n",
    "\n"
   ]
  },
  {
   "cell_type": "markdown",
   "metadata": {
    "slideshow": {
     "slide_type": "subslide"
    }
   },
   "source": [
    "\n",
    "<br> plugging in...\n",
    "\n",
    "$$= \\sum_{i=0}^{\\lg n} (c_1 n + 2^i c_2)$$\n",
    "\n",
    "$$= \\sum_{i=0}^{\\lg n}c_1 n + \\sum_{i=0}^{\\lg n} 2^i c_2$$\n",
    "\n",
    "$$= c_1n \\sum_{i=0}^{\\lg n} 1 + c_2 \\sum_{i=0}^{\\lg n} 2^i$$\n",
    "\n",
    "$$<c_1n \\lg n + 2 c_2 n$$\n",
    "\n",
    "$$\\in O(n \\lg n)$$"
   ]
  },
  {
   "cell_type": "markdown",
   "metadata": {
    "slideshow": {
     "slide_type": "slide"
    }
   },
   "source": [
    "What about the span?\n",
    "\n",
    "<br>\n",
    "<img src=\"figures/tree_span.png\" width=\"500\">\n",
    "<br>\n",
    "\n",
    "\n"
   ]
  },
  {
   "cell_type": "markdown",
   "metadata": {
    "slideshow": {
     "slide_type": "slide"
    }
   },
   "source": [
    "\n",
    "The recurrence for the span of Mergesort is:\n",
    "\n",
    "$$\n",
    "\\begin{align}\n",
    "S(n) = \\begin{cases}\n",
    "  c_3, & \\text{if $n=1$} \\\\\n",
    "  S(n/2) + c_4 \\lg n, & \\text{otherwise} \n",
    "  \\end{cases}\n",
    "\\end{align}\n",
    "$$"
   ]
  },
  {
   "cell_type": "markdown",
   "metadata": {},
   "source": [
    "Since each level of the recursion tree is concurrent and all nodes have the same cost, we have that\n",
    "\n",
    "$ \\begin{align}\n",
    "S(n) & = & \\sum_{i=1}^{\\lg n} \\lg\\frac{n}{2^i}\\\\\n",
    "& = & \\sum_{i=1}^{\\lg n} (\\lg n - i)\\\\\n",
    "& = & \\sum_{i=1}^{\\lg n} (\\lg n) - \\sum_{i=1}^{\\lg n} i\\\\\n",
    "& < & \\lg^2 n  - \\frac{1}{2}\\lg n * (\\lg n+1) \\:\\: (\\hbox{using}\\:\\:\\sum_{i=1}^n = \\frac{n(n+1)}{2})\\\\\n",
    "& = & \\lg^2n - \\frac{1}{2}\\lg^2 n - \\frac{1}{2}  \\lg n\\\\\n",
    "& = & O(\\lg^2 n)\\\\\n",
    "\\end{align}$"
   ]
  },
  {
   "cell_type": "markdown",
   "metadata": {
    "slideshow": {
     "slide_type": "skip"
    }
   },
   "source": [
    "Why $\\lg n$ in the recurrence for the span? Because there exists a recursive parallel algorithm for merge with a span of $\\lg n$. Thus, the span of a recursive parallel merge_sort is the depth of the tree ($\\lg n$) times the span of each level ($\\lg n$)"
   ]
  },
  {
   "cell_type": "markdown",
   "metadata": {
    "slideshow": {
     "slide_type": "slide"
    }
   },
   "source": [
    "### Divide and Conquer\n",
    "\n",
    "Merge Sort is a divide-and-conquer algorithm. \n",
    "\n",
    "A divide-and-conquer algorithm, at each step, divides the problem into subproblems, solves each, then combines the results to arrive at the final solution.\n",
    "\n",
    "Recurrences can easily be written and interpretted from the perspective of divide and conquer algorithms.\n"
   ]
  },
  {
   "cell_type": "markdown",
   "metadata": {
    "slideshow": {
     "slide_type": "fragment"
    }
   },
   "source": [
    "$$\n",
    "W(n) = \\begin{cases}\n",
    "  c_b, & \\text{if $n=1$} \\\\\n",
    "  aW(\\frac{n}{b}) + f(n), & \\text{otherwise} \n",
    "  \\end{cases}\n",
    "$$\n",
    "\n",
    "- $a$ is the branching factor.\n",
    "- $\\frac{n}{b}$ gives us the sub-problem size at the next level.\n",
    "- $f(n)$ is the cost of the combining step."
   ]
  },
  {
   "cell_type": "markdown",
   "metadata": {
    "slideshow": {
     "slide_type": "slide"
    }
   },
   "source": [
    "### More Practice\n",
    "\n",
    "Another recurrence:\n",
    "    \n",
    "$$\n",
    "W(n) = \\begin{cases}\n",
    "  c_b, & \\text{if $n=1$} \\\\\n",
    "  2W(n/2) + n^2, & \\text{otherwise} \n",
    "  \\end{cases}\n",
    "$$\n",
    "\n",
    "What is the asymptotic runtime?\n",
    "\n",
    "<img src=\"figures/tree.png\" alt=\"tree\" width=\"50%\"/>"
   ]
  },
  {
   "cell_type": "markdown",
   "metadata": {
    "slideshow": {
     "slide_type": "slide"
    }
   },
   "source": [
    "$$W(n) = 2W(n/2) + c_1n^2 + c_2$$\n",
    "\n",
    "<img width=\"50%\" src=\"figures/n_squared.png\"/>\n",
    "\n"
   ]
  },
  {
   "cell_type": "markdown",
   "metadata": {},
   "source": [
    "$= \\sum_i^{\\lg n} (c_1 \\frac{n^2}{2^i} + 2^i c_2)$\n",
    "\n",
    "$= c_1 n^2 \\sum_{i=0}^{\\lg n} \\frac{1}{2^i} + c_2 \\sum_{i=0}^{\\lg n} 2^i$\n",
    "\n",
    "$= c_1 n^2 \\sum_{i=0}^{\\lg n} (\\frac{1}{2})^i + c_2 \\sum_{i=0}^{\\lg n} 2^i$\n",
    "\n"
   ]
  },
  {
   "cell_type": "markdown",
   "metadata": {},
   "source": [
    "To solve this, we can again use **geometric series**.\n",
    "\n",
    ">\n",
    "> - For $\\alpha > 1$: $\\:\\:\\: \\sum_{i=0}^n \\alpha^i  < \\frac{\\alpha}{\\alpha - 1}\\cdot\\alpha^n$\n",
    "> <br>\n",
    ">\n",
    ">  - e.g., $\\sum_{i=0}^{\\lg n} 2^i < \\frac{2}{1} * 2^{\\lg n} = 2n$\n",
    ">\n",
    "><br>\n",
    ">\n",
    ">- For $\\alpha < 1$: $\\:\\:\\: \\sum_{i=0}^\\infty \\alpha^i  < \\frac{1}{1-\\alpha}$\n",
    "><br>\n",
    ">\n",
    ">  - e.g., $\\sum_{i=0}^{\\lg n} \\frac{1}{2^i} < 2$"
   ]
  },
  {
   "cell_type": "markdown",
   "metadata": {},
   "source": [
    "$< 2 c_1 n^2 + 2 c_2 n$\n",
    "\n",
    "$\\in O(n^2)$"
   ]
  },
  {
   "cell_type": "markdown",
   "metadata": {
    "slideshow": {
     "slide_type": "slide"
    }
   },
   "source": [
    "So what if branching factor is not 2?\n",
    "\n",
    "$$W(n) = 4 W \\Big(\\frac{n}{2}\\Big) + O(n)$$\n",
    "\n",
    "**costs**\n",
    "\n",
    "- level 0: $c_1n + c_2$\n",
    "- level 1: $4(c_1 \\frac{n}{2} + c_2)$\n",
    "- level 2: $16(c_1 \\frac{n}{4} + c_2)$\n",
    "- level $i$ ?"
   ]
  },
  {
   "cell_type": "markdown",
   "metadata": {
    "slideshow": {
     "slide_type": "subslide"
    }
   },
   "source": [
    "$$4^i(c_1 \\frac{n}{2^i} + c_2)$$\n",
    "\n",
    "<br>\n",
    "\n",
    "still $\\lg n$ levels. Why?\n",
    "\n",
    "Because at every level we are dividing the problem size in half, so we still need $\\log_2 n$ levels.\n",
    "\n",
    "so $W(n)$ is:\n",
    "\n",
    "<br>\n",
    "\n",
    "$$= c_1n \\sum_{i=0}^{\\lg n} \\Big(\\frac{4}{2}\\Big)^i + c_2 \\sum_{i=0}^{\\lg n} 4^i$$\n",
    "\n",
    "$$< 2 c_1 n^2 + \\frac{4}{3} c_2 4^{\\lg n}$$\n",
    "\n",
    "$$(\\hbox{since} \\:\\:\\ \\sum_{i=0}^n \\alpha^i  < \\frac{\\alpha}{\\alpha - 1}\\cdot\\alpha^n)$$\n",
    "\n",
    "$$= 2 c_1 n^2 + \\frac{4}{3} c_2 2^{\\lg n} 2^{\\lg n}$$\n",
    "\n",
    "$$= 2 c_1 n^2 + \\frac{4}{3} c_2 n^2$$\n",
    "\n",
    "$$\\in O(n^2)$$"
   ]
  }
 ],
 "metadata": {
  "celltoolbar": "Slideshow",
  "kernelspec": {
   "display_name": "Python 3.9.6 64-bit",
   "language": "python",
   "name": "python3"
  },
  "language_info": {
   "codemirror_mode": {
    "name": "ipython",
    "version": 3
   },
   "file_extension": ".py",
   "mimetype": "text/x-python",
   "name": "python",
   "nbconvert_exporter": "python",
   "pygments_lexer": "ipython3",
   "version": "3.9.6"
  },
  "rise": {
   "autolaunch": true,
   "controls": false,
   "enable_chalkboard": true,
   "scroll": true,
   "theme": "simple",
   "transition": "fade"
  },
  "toc": {
   "base_numbering": 1,
   "nav_menu": {},
   "number_sections": true,
   "sideBar": true,
   "skip_h1_title": true,
   "title_cell": "Table of Contents",
   "title_sidebar": "Contents",
   "toc_cell": true,
   "toc_position": {},
   "toc_section_display": true,
   "toc_window_display": false
  },
  "vscode": {
   "interpreter": {
    "hash": "aee8b7b246df8f9039afb4144a1f6fd8d2ca17a180786b69acc140d282b71a49"
   }
  }
 },
 "nbformat": 4,
 "nbformat_minor": 4
}
