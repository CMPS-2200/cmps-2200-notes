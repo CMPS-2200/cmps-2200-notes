{
 "cells": [
  {
   "cell_type": "code",
   "execution_count": null,
   "metadata": {
    "code_folding": [],
    "slideshow": {
     "slide_type": "skip"
    }
   },
   "outputs": [],
   "source": [
    "# setup\n",
    "from IPython.core.display import display,HTML\n",
    "display(HTML('<style>.prompt{width: 0px; min-width: 0px; visibility: collapse}</style>'))\n",
    "display(HTML(open('rise.css').read()))\n",
    "\n",
    "# imports\n",
    "import numpy as np\n",
    "import matplotlib.pyplot as plt\n",
    "import seaborn as sns\n",
    "%matplotlib inline\n",
    "sns.set(style=\"whitegrid\", font_scale=1.5, rc={'figure.figsize':(12, 6)})\n",
    "import time\n"
   ]
  },
  {
   "cell_type": "markdown",
   "metadata": {
    "slideshow": {
     "slide_type": "slide"
    }
   },
   "source": [
    "# CMPS 2200\n",
    "# Introduction to Algorithms\n",
    "\n",
    "## Recurrences\n"
   ]
  },
  {
   "cell_type": "markdown",
   "metadata": {
    "slideshow": {
     "slide_type": "slide"
    }
   },
   "source": [
    "Recurrences are a way to capture the behavior of recursive algorithms.\n",
    "\n",
    "Key ingredients: \n",
    "\n",
    "- Base case ($n = c$): constant time \n",
    "- Inductive case ($n > c$): recurse on smaller instance and use output to compute solution\n",
    "\n",
    "Actually recursion is a conceptual way to view algorithm execution, and we can reframe an algorithm specification to make it recursive.\n",
    "\n"
   ]
  },
  {
   "cell_type": "code",
   "execution_count": null,
   "metadata": {
    "slideshow": {
     "slide_type": "slide"
    }
   },
   "outputs": [],
   "source": [
    "def selection_sort(L):\n",
    "    for i in range(len(L)):\n",
    "        m = L.index(min(L[i:]))\n",
    "        L[i], L[m] = L[m], L[i]\n",
    "    return L\n",
    "                   \n",
    "selection_sort([2, 1, 4, 3, 9])"
   ]
  },
  {
   "cell_type": "code",
   "execution_count": null,
   "metadata": {
    "slideshow": {
     "slide_type": "fragment"
    }
   },
   "outputs": [],
   "source": [
    "def selection_sort_recursive(L):\n",
    "    if (len(L) == 1):\n",
    "        return(L)\n",
    "    else:\n",
    "        m = L.index(min(L))\n",
    "        L[0], L[m] = L[m], L[0]\n",
    "        return [L[0]] + selection_sort_recursive(L[1:])\n",
    "    \n",
    "selection_sort_recursive([2, 1, 999, 4, 3])"
   ]
  },
  {
   "cell_type": "markdown",
   "metadata": {
    "slideshow": {
     "slide_type": "fragment"
    }
   },
   "source": [
    "Are these the same algorithm? Can we give a SPARC specification?"
   ]
  },
  {
   "cell_type": "markdown",
   "metadata": {},
   "source": [
    "<p><span class=\"math display\">\\[\\begin{array}{l}  \n",
    "\\mathit{selectionsort}~~L = \n",
    "\\\\  \n",
    "~~~~~\\texttt{if}~|L| = 1~\\texttt{then}    \n",
    "\\\\  \n",
    "~~~~~~~~~~~~~\\texttt{return}~~L  \n",
    "\\\\  \n",
    "~~~~~~~~~\\texttt{else}\n",
    "\\\\\n",
    "~~~~~~~~~~~~\\texttt{let}\\\\\n",
    "~~~~~~~~~~~~~~~m = \\texttt{minimum element in}~~L\\\\\n",
    "~~~~~~~~~~~~\\texttt{in}\\\\ \n",
    "~~~~~~~~~~~~~~~\\texttt{Cons}(m, (\\mathit{selectionsort~~\\langle x | x\\in L~~and~~x\\neq m})) \n",
    "\\end{array}\\]</span></p>\n",
    "\n"
   ]
  },
  {
   "cell_type": "code",
   "execution_count": null,
   "metadata": {
    "slideshow": {
     "slide_type": "slide"
    }
   },
   "outputs": [],
   "source": [
    "What is the running time and why?"
   ]
  },
  {
   "cell_type": "markdown",
   "metadata": {
    "slideshow": {
     "slide_type": "fragment"
    }
   },
   "source": [
    "$\\begin{eqnarray}\n",
    "T(n) &=& T(n-1) + n \\\\\n",
    " &=& T(n-2) + T(n-1) + 2n-1 \\\\\n",
    "&\\vdots& \\\\\n",
    "&=& \\sum_{i=1}^n i  \\\\\n",
    "&=& \\frac{n(n+1)}{2} \\\\\n",
    "&=& \\Theta(n^2).\n",
    "\\end{eqnarray}$\n"
   ]
  },
  {
   "cell_type": "markdown",
   "metadata": {
    "slideshow": {
     "slide_type": "slide"
    }
   },
   "source": [
    "Recurrences are a mathematical way to characterize the running time of recursive algorithms.\n",
    "\n",
    "They are easy to define since they follow the structure of the algorithm.\n",
    "\n",
    "We'll look at methods to find closed form solutions for recurrence, so that we can obtain big-O bounds for recursive algorithms. "
   ]
  },
  {
   "cell_type": "markdown",
   "metadata": {
    "slideshow": {
     "slide_type": "slide"
    }
   },
   "source": [
    "Let's look at the specification and recurrence for Merge Sort: \n",
    "\n",
    "<p><span class=\"math display\">\\[\\begin{array}{l}  \n",
    "\\mathit{mergeSort}~a =  \n",
    "\\\\   \n",
    "~~~~\\texttt{if}~|a| \\leq 1~\\texttt{then}  \n",
    "\\\\   \n",
    "~~~~~~~~a  \n",
    "\\\\  \n",
    "~~~~\\texttt{else}  \n",
    "\\\\   \n",
    "~~~~~~~~\\texttt{let}  \n",
    "\\\\  \n",
    "~~~~~~~~~~~~(l,r) = \\mathit{splitMid}~a  \n",
    "\\\\   \n",
    "~~~~~~~~~~~~(l',r') = (\\mathit{mergeSort}~l \\mid\\mid{} \\mathit{mergeSort}~r)  \n",
    "\\\\  \n",
    "~~~~~~~~\\texttt{in}  \n",
    "\\\\   \n",
    "~~~~~~~~~~~~\\mathit{merge} (l',r')  \n",
    "\\\\  \n",
    "~~~~~~~~\\texttt{end}  \n",
    "\\end{array}\\]</span></p>\n",
    "\n",
    "Suppose that the merging step can be done with $O(n)$ work and $O(\\log n)$ span. Then recurrence for the work is: \n",
    "\n",
    "$ \\begin{equation}\n",
    "W(n) = \\begin{cases}\n",
    "  c_b, & \\text{if $n=1$} \\\\\n",
    "  2W(n/2) + c_1n + c_2, & \\text{otherwise} \n",
    "  \\end{cases}\n",
    "\\end{equation}$\n",
    "\n",
    "How do we solve this recurrence to obtain $W(n) = O(n\\log n)$?\n",
    "\n"
   ]
  },
  {
   "cell_type": "markdown",
   "metadata": {
    "slideshow": {
     "slide_type": "slide"
    }
   },
   "source": [
    "\n",
    "\n",
    "![alttext](mergesort_tree.png)\n",
    "\n",
    "The recursion tree for Merge Sort has linear work at every level except at the leaves. There are a logarithmic number of levels and a linear number of leaves so we obtain an asymptotic bound of $O(n\\log n)$ for the work."
   ]
  },
  {
   "cell_type": "markdown",
   "metadata": {
    "slideshow": {
     "slide_type": "slide"
    }
   },
   "source": [
    "What about the span?\n",
    "\n",
    "![alttext](tree.png)\n",
    "\n",
    "\n",
    "The recurrence for the span of Mergesort is:\n",
    "\n",
    "$ \\begin{equation}\n",
    "S(n) = \\begin{cases}\n",
    "  c_3, & \\text{if $n=1$} \\\\\n",
    "  S(n/2) + c_4 \\log n, & \\text{otherwise} \n",
    "  \\end{cases}\n",
    "\\end{equation}$\n",
    "\n",
    "\n",
    "Since each level of the recursion tree is concurrent and all nodes have the same cost, we have that\n",
    "\n",
    "$ \\begin{align}\n",
    "S(n) & = & \\sum_{i=1}^{(\\log n) - 1} \\log\\frac{n}{2^i}\\\\\n",
    "& = & \\sum_{i=1}^{(\\log n) - 1} (\\log n) - i\\\\\n",
    "& = & \\sum_{i=1}^{(\\log n) - 1} (\\log n) - \\sum_{i=1}^{(\\log n) - 1} i\\\\\n",
    "& = & \\Theta(\\log n)\\\\\n",
    "\\end{align}$\n"
   ]
  },
  {
   "cell_type": "markdown",
   "metadata": {
    "slideshow": {
     "slide_type": "slide"
    }
   },
   "source": [
    "Another recurrence:\n",
    "    \n",
    "$ \\begin{equation}\n",
    "W(n) = \\begin{cases}\n",
    "  c_b, & \\text{if $n=1$} \\\\\n",
    "  2W(n/2) + n^2, & \\text{otherwise} \n",
    "  \\end{cases}\n",
    "\\end{equation}$\n",
    "\n",
    "What is the asymptotic runtime?\n",
    "\n",
    "![alttext](tree.png)\n",
    "\n"
   ]
  },
  {
   "cell_type": "markdown",
   "metadata": {
    "slideshow": {
     "slide_type": "slide"
    }
   },
   "source": [
    "Recurrences can be more general, so how do we get a handle on asymptotic runtimes when the recursion is really complicated?\n",
    "\n",
    "**Key Idea:** The branching properties of the recursion tree determine work at each level and the number of leaves.\n",
    "\n",
    "The **brick method** gives a way to derive asymptotic runtimes by looking at the relationships between parent and child nodes in the recursion tree. This way we only need to worry about the costs of the root and the leaves."
   ]
  },
  {
   "cell_type": "markdown",
   "metadata": {
    "slideshow": {
     "slide_type": "slide"
    }
   },
   "source": [
    "The value of $n$ decreases geometrically as we collect the terms in our recurrences. We'll make use of bounds for geometric series. For any $\\alpha > 0$:\n",
    "    \n",
    "$$ \\sum_{i=0}^n \\alpha^i  = \\frac{\\alpha}{\\alpha - 1}\\cdot\\alpha^n$$\n",
    "\n",
    "For $\\alpha < 1$:\n",
    "\n",
    "$$ \\sum_{i=0}^\\infty \\alpha^i  < \\frac{1}{1-\\alpha}$$\n",
    "\n"
   ]
  },
  {
   "cell_type": "markdown",
   "metadata": {
    "slideshow": {
     "slide_type": "slide"
    }
   },
   "source": [
    "For a node $v$ in the recursion tree, let $C(v)$ denote its cost and $D(v)$ denote its children.\n",
    "\n",
    "A recurrence is **root-dominated** if for all $v$, there is an $\\alpha > 1$ such that:\n",
    "\n",
    "$$C(v) \\geq \\alpha \\sum_{u \\in D(v)} C(u)$$\n",
    "\n",
    "The cost of a root dominated recurrence is $O(C(r))$ if $r$ is the root.\n",
    "\n",
    "This is because the cost reduces geometrically as we go toward the leaves, and the total cost bounded by $\\alpha/(\\alpha-1)$ times $C(r)$.\n"
   ]
  },
  {
   "cell_type": "markdown",
   "metadata": {
    "slideshow": {
     "slide_type": "slide"
    }
   },
   "source": [
    "A recurrence is **leaf-dominated** if for all $v$, there is an $\\alpha > 1$ such that:\n",
    "\n",
    "$$C(v) \\leq \\frac{1}{\\alpha} \\sum_{u \\in D(v)} C(u)$$\n",
    "\n",
    "If we have $L$ leaves in the recursion tree, the cost of a leaf dominated recurrence is $O(L)$.\n",
    "\n",
    "This is because the cost increases geometrically as we go toward the leaves, and the total cost is bounded by $\\alpha/(\\alpha-1)$ times $c_b \\cdot L$.\n",
    "\n",
    "A recurrence is **balanced** when every level of the recursion tree has the same asymptotic cost. In this case, the recurrence is $O(D(r) \\log n) = O(L \\log n)$.  \n"
   ]
  },
  {
   "cell_type": "markdown",
   "metadata": {
    "slideshow": {
     "slide_type": "slide"
    }
   },
   "source": [
    "Let's look at some examples:\n",
    "\n",
    "$$ W(n) = 2 W(n/2) + \\sqrt{n} $$\n",
    "\n",
    "$$ W(n) = 3 W(n/2) + n $$\n",
    "\n",
    "$$ W(n) = 2 W(n/3) + n $$\n",
    "\n",
    "$$ W(n) = 3 W(n/3) + n $$\n",
    "\n",
    "\n",
    "Do you see a way to count the number of leaves in the recursion tree?\n"
   ]
  },
  {
   "cell_type": "markdown",
   "metadata": {
    "slideshow": {
     "slide_type": "fragment"
    }
   },
   "source": [
    ">If we have a recurrence of the form $W(n) = aW(n/b) + f(n)$, then the number of leaves is $O(a^{\\log_b n})$, or equivanelty, $O(n^{log_b a})$."
   ]
  },
  {
   "cell_type": "markdown",
   "metadata": {
    "slideshow": {
     "slide_type": "slide"
    }
   },
   "source": [
    "More examples (some trickier than others):\n",
    "\n",
    "$$ W(n) = W(n - 1) + n $$\n",
    "\n",
    "$$ W(n) = \\sqrt{n} W(\\sqrt{n}) + n^2 $$\n",
    "\n",
    "$$ W(n) = W(\\sqrt{n}) + W(n/2) + n $$\n",
    "\n",
    "$$ W(n) = W(n/2) + W(n/3) + 1 $$\n",
    "\n"
   ]
  },
  {
   "cell_type": "markdown",
   "metadata": {
    "slideshow": {
     "slide_type": "slide"
    }
   },
   "source": [
    "Now that we've come up with a general technique for solving recurrences, let's look at a recursive algorithm. You learned this algorithm in elementary school for integer multiplication:\n",
    "\n",
    "- Input: $n$ bit integers $x= \\langle x_{n-1}, \\ldots, x_0\\rangle$ and $y = \\langle y_{n-1}, \\ldots, y_0\\rangle$\n",
    "\n",
    "- Output: $x \\cdot y$\n",
    "\n",
    "- Example: '1001'$\\times$'1101'\n"
   ]
  },
  {
   "cell_type": "markdown",
   "metadata": {
    "slideshow": {
     "slide_type": "slide"
    }
   },
   "source": [
    "What is the running time of the \"elementary school\" algorithm?"
   ]
  },
  {
   "cell_type": "markdown",
   "metadata": {
    "slideshow": {
     "slide_type": "fragment"
    }
   },
   "source": [
    ">For two $n$-digit inputs $O(n^2)$, since for each digit of $x$ we might add a stack of $n$ bits. The total number of bits in the solution is $2n$."
   ]
  },
  {
   "cell_type": "markdown",
   "metadata": {
    "slideshow": {
     "slide_type": "slide"
    }
   },
   "source": [
    "What does this have to do with recursion and recurrences?\n",
    "\n",
    "Instead of the elementary school algorithm, consider splitting each $n$-digit input in half. Can we multiply recursively?\n",
    "\n",
    "Let $x = \\langle x_L, x_R\\rangle$, $y = \\langle y_L, y_R\\rangle$. Then,\n",
    "\n",
    "$\\begin{align} \n",
    "x &=& 2^{n/2} x_L + x_R \\\\\n",
    "y &=& 2^{n/2} y_L + y_R \\\\\n",
    "\\end{align}\n",
    "$\n",
    "\n",
    "So then,\n",
    "\n",
    "$\\begin{align}\n",
    "x\\cdot y &=& (2^{n/2} x_L + x_R)(2^{n/2} y_L + y_R) \\\\\n",
    " &=& 2^n x_L \\cdot y_L + 2^{n/2} (x_L \\cdot y_R + x_R \\cdot y_L) + x_R \\cdot y_R \\\\\n",
    "\\end{align}\n",
    "$\n",
    "\n",
    "What recursive algorithm, and recurrence is suggested by this observation?"
   ]
  },
  {
   "cell_type": "markdown",
   "metadata": {
    "slideshow": {
     "slide_type": "fragment"
    }
   },
   "source": [
    ">$W(n) = 4W(n/2) + cn$\n",
    "\n",
    "What is the solution to this recurrence using the brick method? Is it root-dominated, or leaf-dominated?"
   ]
  },
  {
   "cell_type": "markdown",
   "metadata": {
    "slideshow": {
     "slide_type": "fragment"
    }
   },
   "source": [
    "> $O(n^2)$, the same as the elementary school algorithm!\n",
    "\n"
   ]
  },
  {
   "cell_type": "markdown",
   "metadata": {
    "slideshow": {
     "slide_type": "slide"
    }
   },
   "source": [
    "Can we do better?\n",
    "\n",
    "Observation:\n",
    "    \n",
    "$\\begin{align} \n",
    "(x_L + x_R)\\cdot (y_L + y_R) &=& x_L\\cdot y_L + x_L\\cdot y_R + x_R\\cdot y_L + x_R\\cdot y_L\\\\\n",
    "\\end{align}\n",
    "$\n",
    "\n",
    "Recall that \n",
    "\n",
    "$\\begin{align}\n",
    "x\\cdot y &=& (2^{n/2} x_L + x_R)(2^{n/2} y_L + y_R) \\\\\n",
    " &=& 2^n x_L \\cdot y_L + 2^{n/2} (x_L \\cdot y_R + x_R \\cdot y_L) + x_R \\cdot y_R \\\\\n",
    "\\end{align}\n",
    "$\n",
    "\n",
    "\n",
    "How does our observation help us?"
   ]
  },
  {
   "cell_type": "markdown",
   "metadata": {
    "slideshow": {
     "slide_type": "fragment"
    }
   },
   "source": [
    "If we calculate $x_L\\cdot y_L$, $x_R\\cdot y_R$, and $(x_L + x_R)\\cdot (y_L + y_R)$, that is *three* recursive multiplications. \n",
    "\n",
    "We need 4 terms for the solution, but notice that \n",
    "\n",
    "$\\begin{align}\n",
    "x_L\\cdot y_R + x_R\\cdot y_L = (x_L + x_R)\\cdot (y_L + y_R) - x_L\\cdot y_L - x_R\\cdot y_R\\\\\n",
    "\\end{align}$\n",
    "\n",
    "So with 3 recursive multiplications and two more \"additions\", we then get that $W(n) = 3W(n/2) + dn$. What is the running time?"
   ]
  },
  {
   "cell_type": "markdown",
   "metadata": {
    "slideshow": {
     "slide_type": "slide"
    }
   },
   "source": [
    "Using the brick method, this is still a leaf-dominated recurrence, and thus the running time is $O(n^{\\log_2 3})$ instead of $O(n^2)$.\n",
    "\n",
    "This is known as the **Karatsaba-Ofman** algorithm, and is widely used in hardware!"
   ]
  },
  {
   "cell_type": "code",
   "execution_count": null,
   "metadata": {},
   "outputs": [],
   "source": []
  }
 ],
 "metadata": {
  "celltoolbar": "Slideshow",
  "kernelspec": {
   "display_name": "Python 3",
   "language": "python",
   "name": "python3"
  },
  "language_info": {
   "codemirror_mode": {
    "name": "ipython",
    "version": 3
   },
   "file_extension": ".py",
   "mimetype": "text/x-python",
   "name": "python",
   "nbconvert_exporter": "python",
   "pygments_lexer": "ipython3",
   "version": "3.6.5"
  },
  "rise": {
   "autolaunch": true,
   "controls": false,
   "enable_chalkboard": true,
   "scroll": true,
   "theme": "simple",
   "transition": "fade"
  },
  "toc": {
   "base_numbering": 1,
   "nav_menu": {},
   "number_sections": true,
   "sideBar": true,
   "skip_h1_title": true,
   "title_cell": "Table of Contents",
   "title_sidebar": "Contents",
   "toc_cell": true,
   "toc_position": {},
   "toc_section_display": true,
   "toc_window_display": false
  }
 },
 "nbformat": 4,
 "nbformat_minor": 4
}
