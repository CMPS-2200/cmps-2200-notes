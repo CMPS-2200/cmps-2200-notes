{
 "cells": [
  {
   "cell_type": "code",
   "execution_count": 1,
   "metadata": {
    "code_folding": [],
    "slideshow": {
     "slide_type": "skip"
    }
   },
   "outputs": [],
   "source": [
    "# setup\n",
    "from IPython.core.display import display,HTML\n",
    "display(HTML('<style>.prompt{width: 0px; min-width: 0px; visibility: collapse}</style>'))\n",
    "display(HTML(open('rise.css').read()))\n",
    "\n",
    "# imports\n",
    "import numpy as np\n",
    "import matplotlib.pyplot as plt\n",
    "import seaborn as sns\n",
    "%matplotlib inline\n",
    "sns.set(style=\"whitegrid\", font_scale=1.5, rc={'figure.figsize':(12, 6)})\n",
    "import time\n"
   ]
  },
  {
   "cell_type": "markdown",
   "metadata": {
    "slideshow": {
     "slide_type": "slide"
    }
   },
   "source": [
    "# CMPS 2200\n",
    "# Introduction to Algorithms\n",
    "\n",
    "## Recurrences\n"
   ]
  },
  {
   "cell_type": "markdown",
   "metadata": {
    "slideshow": {
     "slide_type": "slide"
    }
   },
   "source": [
    "Recurrences are a way to capture the behavior of recursive algorithms.\n",
    "\n",
    "Key ingredients: \n",
    "\n",
    "- Base case\n",
    "\n",
    "- Recursive case\n",
    "\n",
    "Do you know any recursive algorithms? Binary Search, Merge Sort? What about Insertion Sort?\n",
    "\n",
    "Actually recursion is more of a conceptual way of looking at how an algorithm does work."
   ]
  },
  {
   "cell_type": "code",
   "execution_count": 2,
   "metadata": {
    "slideshow": {
     "slide_type": "slide"
    }
   },
   "outputs": [
    {
     "data": {
      "text/plain": [
       "[1, 2, 3, 4, 99]"
      ]
     },
     "execution_count": 2,
     "metadata": {},
     "output_type": "execute_result"
    }
   ],
   "source": [
    "def insertion_sort(L):\n",
    "    for i in range(len(L)):\n",
    "        m = L.index(min(L[i:]))\n",
    "        L[i], L[m] = L[m], L[i]\n",
    "    return L\n",
    "                   \n",
    "insertion_sort([2, 1, 4, 3, 99])"
   ]
  },
  {
   "cell_type": "code",
   "execution_count": 3,
   "metadata": {
    "slideshow": {
     "slide_type": "fragment"
    }
   },
   "outputs": [
    {
     "data": {
      "text/plain": [
       "[1, 2, 3, 4, 999]"
      ]
     },
     "execution_count": 3,
     "metadata": {},
     "output_type": "execute_result"
    }
   ],
   "source": [
    "def insertion_sort_recursive(L):\n",
    "    if (len(L) == 1):\n",
    "        return(L)\n",
    "    else:\n",
    "        m = L.index(min(L))\n",
    "        L[0], L[m] = L[m], L[0]\n",
    "        return [L[0]] + insertion_sort_recursive(L[1:])\n",
    "    \n",
    "insertion_sort_recursive([2, 1, 999, 4, 3])"
   ]
  },
  {
   "cell_type": "markdown",
   "metadata": {
    "slideshow": {
     "slide_type": "fragment"
    }
   },
   "source": [
    "Are these the same algorithm? What is the running time and why?"
   ]
  },
  {
   "cell_type": "markdown",
   "metadata": {
    "slideshow": {
     "slide_type": "slide"
    }
   },
   "source": [
    "$\\begin{eqnarray}\n",
    "T(n) &=& T(n-1) + n \\\\\n",
    " &=& T(n-2) + T(n-1) + 2n-1 \\\\\n",
    "&\\vdots& \\\\\n",
    "&=& \\sum_{i=1}^n i  \\\\\n",
    "&=& \\frac{n(n+1)}{2}.\n",
    "\\end{eqnarray}$\n"
   ]
  },
  {
   "cell_type": "markdown",
   "metadata": {
    "slideshow": {
     "slide_type": "slide"
    }
   },
   "source": [
    "Recurrences are a mathematical way to characterize the running time of recursive algorithms.\n",
    "\n",
    "They are easy to define since they follow the structure of the algorithm.\n",
    "\n",
    "We'll look at methods to find closed form solutions for recurrence, so that we can obtain big-O bounds for recursive algorithms. "
   ]
  },
  {
   "cell_type": "markdown",
   "metadata": {
    "slideshow": {
     "slide_type": "slide"
    }
   },
   "source": [
    "Let's look at the specification and recurrence for Merge Sort: \n",
    "\n",
    "$ \\begin{equation}\n",
    "W(n) = \\begin{cases}\n",
    "  c_b, & \\text{if $n=1$} \\\\\n",
    "  2W(n/2) + c_1n + c_2, & \\text{otherwise} \n",
    "  \\end{cases}\n",
    "\\end{equation}$\n",
    "\n",
    "How do we solve this recurrence to obtain $W(n) = O(n\\log n)$?\n",
    "\n",
    "What about the span?\n"
   ]
  },
  {
   "cell_type": "markdown",
   "metadata": {
    "slideshow": {
     "slide_type": "slide"
    }
   },
   "source": [
    "\n",
    "\n",
    "![alttext](mergesort_tree.png)\n",
    "\n",
    "The recursion tree for Merge Sort has linear work at every level except at the leaves. There are a logarithmic number of levels and a linear number of leaves so we obtain an asymptotic bound of $O(n\\log n)$."
   ]
  },
  {
   "cell_type": "markdown",
   "metadata": {
    "slideshow": {
     "slide_type": "slide"
    }
   },
   "source": [
    "What about the span?\n",
    "\n",
    "![alttext](tree.png)\n",
    "\n",
    "\n",
    "It depends on the *merge* operation! If merge takes $f(n)$ time, the span is $$\\sum_{i=1}^{k} f\\left(\\frac{n}{2^i}\\right) $$"
   ]
  },
  {
   "cell_type": "markdown",
   "metadata": {
    "slideshow": {
     "slide_type": "slide"
    }
   },
   "source": [
    "Another recurrence:\n",
    "    \n",
    "$ \\begin{equation}\n",
    "W(n) = \\begin{cases}\n",
    "  c_b, & \\text{if $n=1$} \\\\\n",
    "  2W(n/2) + n^2, & \\text{otherwise} \n",
    "  \\end{cases}\n",
    "\\end{equation}$\n",
    "\n",
    "What is the asymptotic runtime?\n",
    "\n",
    "![alttext](tree.png)\n",
    "\n"
   ]
  },
  {
   "cell_type": "markdown",
   "metadata": {
    "slideshow": {
     "slide_type": "slide"
    }
   },
   "source": [
    "Recurrences can be far more general, how do we get a handle on asymptotic runtimes when the recursion is really complicated?\n",
    "\n",
    "**Key Idea:** The branching properties of the recursion tree determine work at each level and the number of leaves.\n",
    "\n",
    "The **brick method** gives a way to derive asymptotic runtimes by looking at the relationships between parent and child nodes in the recursion tree. This way we only need to worry about the costs of the root and the leaves."
   ]
  },
  {
   "cell_type": "markdown",
   "metadata": {
    "slideshow": {
     "slide_type": "slide"
    }
   },
   "source": [
    "The value of $n$ decreases geometrically as we collect the terms in our recurrences. We'll make use of bounds for geometric series. For any $\\alpha > 0$:\n",
    "    \n",
    "$$ \\sum_{i=0}^n \\alpha^i  = \\frac{\\alpha}{\\alpha - 1}\\cdot\\alpha^n$$\n",
    "\n",
    "For $\\alpha < 1$:\n",
    "\n",
    "$$ \\sum_{i=0}^\\infty \\alpha^i  < \\frac{1}{1-\\alpha}$$\n",
    "\n"
   ]
  },
  {
   "cell_type": "markdown",
   "metadata": {
    "slideshow": {
     "slide_type": "slide"
    }
   },
   "source": [
    "For a node $v$ in the recursion tree, let $C(v)$ denote its cost and $D(v)$ denote its children.\n",
    "\n",
    "A recurrence is **root-dominated** if for all $v$, there is an $\\alpha > 1$ such that:\n",
    "\n",
    "$$C(v) \\geq \\alpha \\sum_{u \\in D(v)} C(u)$$\n",
    "\n",
    "The cost of a root dominated recurrence is $O(C(r))$ if $r$ is the root.\n",
    "\n",
    "This is because the cost reduces geometrically as we go toward the leaves, and the total cost bounded by $\\alpha/(\\alpha-1}$ times $C(r)$.\n"
   ]
  },
  {
   "cell_type": "markdown",
   "metadata": {
    "slideshow": {
     "slide_type": "slide"
    }
   },
   "source": [
    "A recurrence is **leaf-dominated** if for all $v$, there is an $\\alpha > 1$ such that:\n",
    "\n",
    "$$C(v) \\leq \\frac{1}{\\alpha} \\sum_{u \\in D(v)} C(u)$$\n",
    "\n",
    "If we have $L$ leaves in the recursion tree, the cost of a leaf dominated recurrence is $O(L)$.\n",
    "\n",
    "This is because the cost increases geometrically as we go toward the leaves, and the total cost is bounded by $\\alpha/(\\alpha-1)$ times $c_b \\cdot L$.\n",
    "\n",
    "A recurrence is **balanced** when every level of the recursion tree has the same asymptotic cost. In this case, the recurrence is $O(D(r) \\log n) = O(L \\log n)$.  \n"
   ]
  },
  {
   "cell_type": "markdown",
   "metadata": {
    "slideshow": {
     "slide_type": "slide"
    }
   },
   "source": [
    "Let's look at some examples:\n",
    "\n",
    "$$ W(n) = 2 W(n/2) + \\sqrt{n} $$\n",
    "\n",
    "$$ W(n) = 3 W(n/2) + n $$\n",
    "\n",
    "$$ W(n) = 2 W(n/3) + n $$\n",
    "\n",
    "$$ W(n) = 3 W(n/3) + n $$\n",
    "\n"
   ]
  },
  {
   "cell_type": "code",
   "execution_count": null,
   "metadata": {},
   "outputs": [],
   "source": [
    "More examples:\n",
    "\n",
    "$$ W(n) = W(n - 1) + n $$\n",
    "\n",
    "$$ W(n) = \\sqrt{n} W(\\sqrt{n}) + n^2 $$\n",
    "\n",
    "$$ W(n) = W(\\sqrt{n}) + W(n/2) + n $$\n",
    "\n",
    "$$ W(n) = W(n/2) + W(n/3) + 1 $$\n",
    "\n"
   ]
  },
  {
   "cell_type": "markdown",
   "metadata": {},
   "source": [
    "Let's look a problem you learned to solve in elementary school - integer multiplication.\n",
    "\n",
    "\n",
    "\n"
   ]
  }
 ],
 "metadata": {
  "celltoolbar": "Slideshow",
  "kernelspec": {
   "display_name": "Python 3",
   "language": "python",
   "name": "python3"
  },
  "language_info": {
   "codemirror_mode": {
    "name": "ipython",
    "version": 3
   },
   "file_extension": ".py",
   "mimetype": "text/x-python",
   "name": "python",
   "nbconvert_exporter": "python",
   "pygments_lexer": "ipython3",
   "version": "3.6.5"
  },
  "rise": {
   "autolaunch": true,
   "controls": false,
   "enable_chalkboard": true,
   "scroll": true,
   "theme": "simple",
   "transition": "fade"
  },
  "toc": {
   "base_numbering": 1,
   "nav_menu": {},
   "number_sections": true,
   "sideBar": true,
   "skip_h1_title": true,
   "title_cell": "Table of Contents",
   "title_sidebar": "Contents",
   "toc_cell": true,
   "toc_position": {},
   "toc_section_display": true,
   "toc_window_display": false
  }
 },
 "nbformat": 4,
 "nbformat_minor": 4
}
